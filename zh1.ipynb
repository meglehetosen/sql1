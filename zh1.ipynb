{
    "metadata": {
        "kernelspec": {
            "name": "SQL",
            "display_name": "SQL",
            "language": "sql"
        },
        "language_info": {
            "name": "sql",
            "version": ""
        }
    },
    "nbformat_minor": 2,
    "nbformat": 4,
    "cells": [
        {
            "cell_type": "code",
            "source": [
                "SELECT count(*) as '1 hónapnál hosszabb foglalások száma'\r\n",
                "from Foglalas \r\n",
                "WHERE YEAR(METTOL) = YEAR(MEDDIG) AND MONTH(METTOL) <> MONTH(MEDDIG)"
            ],
            "metadata": {
                "azdata_cell_guid": "d5b51489-393d-4e63-8958-2200eddf690f",
                "language": "sql"
            },
            "outputs": [
                {
                    "output_type": "display_data",
                    "data": {
                        "text/html": "(1 row affected)"
                    },
                    "metadata": {}
                },
                {
                    "output_type": "display_data",
                    "data": {
                        "text/html": "Total execution time: 00:00:00.012"
                    },
                    "metadata": {}
                },
                {
                    "output_type": "execute_result",
                    "metadata": {},
                    "execution_count": 2,
                    "data": {
                        "application/vnd.dataresource+json": {
                            "schema": {
                                "fields": [
                                    {
                                        "name": "1 hónapnál hosszabb foglalások száma"
                                    }
                                ]
                            },
                            "data": [
                                {
                                    "1 hónapnál hosszabb foglalások száma": "131"
                                }
                            ]
                        },
                        "text/html": [
                            "<table>",
                            "<tr><th>1 hónapnál hosszabb foglalások száma</th></tr>",
                            "<tr><td>131</td></tr>",
                            "</table>"
                        ]
                    }
                }
            ],
            "execution_count": 2
        },
        {
            "cell_type": "code",
            "source": [
                "SELECT SZOBA_FK,\r\n",
                "        COUNT(*) as DB\r\n",
                "from Foglalas\r\n",
                "where FELNOTT_SZAM > GYERMEK_SZAM\r\n",
                "GROUP BY SZOBA_FK, FOGLALAS_PK\r\n",
                "HAVING COUNT(*) > 2\r\n",
                "ORDER BY FOGLALAS_PK ASC"
            ],
            "metadata": {
                "azdata_cell_guid": "ac26265e-930e-4bd2-a5ff-fd5e839f101e",
                "language": "sql"
            },
            "outputs": [
                {
                    "output_type": "display_data",
                    "data": {
                        "text/html": "(0 rows affected)"
                    },
                    "metadata": {}
                },
                {
                    "output_type": "display_data",
                    "data": {
                        "text/html": "Total execution time: 00:00:00.004"
                    },
                    "metadata": {}
                },
                {
                    "output_type": "execute_result",
                    "metadata": {},
                    "execution_count": 12,
                    "data": {
                        "application/vnd.dataresource+json": {
                            "schema": {
                                "fields": [
                                    {
                                        "name": "SZOBA_FK"
                                    },
                                    {
                                        "name": "DB"
                                    }
                                ]
                            },
                            "data": []
                        },
                        "text/html": [
                            "<table>",
                            "<tr><th>SZOBA_FK</th><th>DB</th></tr>",
                            "</table>"
                        ]
                    }
                }
            ],
            "execution_count": 12
        },
        {
            "cell_type": "code",
            "source": [
                "SELECT SZOBA_ID,\r\n",
                "        YEAR(mettol) as 'Év',\r\n",
                "        COUNT(*) as 'Foglalások száma'\r\n",
                "from Szoba sz join Foglalas f on sz.SZOBA_ID = f. SZOBA_FK\r\n",
                "where SZOBA_ID % 2 = 1\r\n",
                "GROUP BY YEAR(METTOL), SZOBA_ID\r\n",
                "HAVING COUNT(*) > 10\r\n",
                ""
            ],
            "metadata": {
                "azdata_cell_guid": "74c73950-e77b-477e-baa8-ba0559eb6bb3",
                "language": "sql"
            },
            "outputs": [
                {
                    "output_type": "display_data",
                    "data": {
                        "text/html": "(160 rows affected)"
                    },
                    "metadata": {}
                },
                {
                    "output_type": "display_data",
                    "data": {
                        "text/html": "Total execution time: 00:00:00.036"
                    },
                    "metadata": {}
                },
                {
                    "output_type": "execute_result",
                    "metadata": {},
                    "execution_count": 18,
                    "data": {
                        "application/vnd.dataresource+json": {
                            "schema": {
                                "fields": [
                                    {
                                        "name": "SZOBA_ID"
                                    },
                                    {
                                        "name": "Év"
                                    },
                                    {
                                        "name": "Foglalások száma"
                                    }
                                ]
                            },
                            "data": [
                                {
                                    "SZOBA_ID": "1",
                                    "Év": "2016",
                                    "Foglalások száma": "8"
                                },
                                {
                                    "SZOBA_ID": "3",
                                    "Év": "2016",
                                    "Foglalások száma": "6"
                                },
                                {
                                    "SZOBA_ID": "3",
                                    "Év": "2017",
                                    "Foglalások száma": "2"
                                },
                                {
                                    "SZOBA_ID": "5",
                                    "Év": "2016",
                                    "Foglalások száma": "4"
                                },
                                {
                                    "SZOBA_ID": "7",
                                    "Év": "2016",
                                    "Foglalások száma": "6"
                                },
                                {
                                    "SZOBA_ID": "9",
                                    "Év": "2016",
                                    "Foglalások száma": "4"
                                },
                                {
                                    "SZOBA_ID": "9",
                                    "Év": "2017",
                                    "Foglalások száma": "2"
                                },
                                {
                                    "SZOBA_ID": "11",
                                    "Év": "2016",
                                    "Foglalások száma": "3"
                                },
                                {
                                    "SZOBA_ID": "11",
                                    "Év": "2017",
                                    "Foglalások száma": "1"
                                },
                                {
                                    "SZOBA_ID": "13",
                                    "Év": "2016",
                                    "Foglalások száma": "3"
                                },
                                {
                                    "SZOBA_ID": "13",
                                    "Év": "2017",
                                    "Foglalások száma": "1"
                                },
                                {
                                    "SZOBA_ID": "15",
                                    "Év": "2016",
                                    "Foglalások száma": "4"
                                },
                                {
                                    "SZOBA_ID": "15",
                                    "Év": "2017",
                                    "Foglalások száma": "2"
                                },
                                {
                                    "SZOBA_ID": "17",
                                    "Év": "2016",
                                    "Foglalások száma": "5"
                                },
                                {
                                    "SZOBA_ID": "17",
                                    "Év": "2017",
                                    "Foglalások száma": "1"
                                },
                                {
                                    "SZOBA_ID": "19",
                                    "Év": "2016",
                                    "Foglalások száma": "5"
                                },
                                {
                                    "SZOBA_ID": "19",
                                    "Év": "2017",
                                    "Foglalások száma": "1"
                                },
                                {
                                    "SZOBA_ID": "21",
                                    "Év": "2016",
                                    "Foglalások száma": "4"
                                },
                                {
                                    "SZOBA_ID": "23",
                                    "Év": "2016",
                                    "Foglalások száma": "3"
                                },
                                {
                                    "SZOBA_ID": "25",
                                    "Év": "2016",
                                    "Foglalások száma": "2"
                                },
                                {
                                    "SZOBA_ID": "27",
                                    "Év": "2016",
                                    "Foglalások száma": "6"
                                },
                                {
                                    "SZOBA_ID": "27",
                                    "Év": "2017",
                                    "Foglalások száma": "1"
                                },
                                {
                                    "SZOBA_ID": "29",
                                    "Év": "2016",
                                    "Foglalások száma": "5"
                                },
                                {
                                    "SZOBA_ID": "29",
                                    "Év": "2017",
                                    "Foglalások száma": "1"
                                },
                                {
                                    "SZOBA_ID": "31",
                                    "Év": "2016",
                                    "Foglalások száma": "3"
                                },
                                {
                                    "SZOBA_ID": "33",
                                    "Év": "2016",
                                    "Foglalások száma": "6"
                                },
                                {
                                    "SZOBA_ID": "35",
                                    "Év": "2016",
                                    "Foglalások száma": "6"
                                },
                                {
                                    "SZOBA_ID": "35",
                                    "Év": "2017",
                                    "Foglalások száma": "3"
                                },
                                {
                                    "SZOBA_ID": "37",
                                    "Év": "2016",
                                    "Foglalások száma": "3"
                                },
                                {
                                    "SZOBA_ID": "39",
                                    "Év": "2016",
                                    "Foglalások száma": "4"
                                },
                                {
                                    "SZOBA_ID": "39",
                                    "Év": "2017",
                                    "Foglalások száma": "3"
                                },
                                {
                                    "SZOBA_ID": "41",
                                    "Év": "2016",
                                    "Foglalások száma": "2"
                                },
                                {
                                    "SZOBA_ID": "43",
                                    "Év": "2016",
                                    "Foglalások száma": "6"
                                },
                                {
                                    "SZOBA_ID": "43",
                                    "Év": "2017",
                                    "Foglalások száma": "2"
                                },
                                {
                                    "SZOBA_ID": "45",
                                    "Év": "2016",
                                    "Foglalások száma": "5"
                                },
                                {
                                    "SZOBA_ID": "47",
                                    "Év": "2016",
                                    "Foglalások száma": "2"
                                },
                                {
                                    "SZOBA_ID": "49",
                                    "Év": "2016",
                                    "Foglalások száma": "6"
                                },
                                {
                                    "SZOBA_ID": "49",
                                    "Év": "2017",
                                    "Foglalások száma": "1"
                                },
                                {
                                    "SZOBA_ID": "51",
                                    "Év": "2016",
                                    "Foglalások száma": "3"
                                },
                                {
                                    "SZOBA_ID": "51",
                                    "Év": "2017",
                                    "Foglalások száma": "2"
                                },
                                {
                                    "SZOBA_ID": "53",
                                    "Év": "2016",
                                    "Foglalások száma": "2"
                                },
                                {
                                    "SZOBA_ID": "55",
                                    "Év": "2016",
                                    "Foglalások száma": "6"
                                },
                                {
                                    "SZOBA_ID": "55",
                                    "Év": "2017",
                                    "Foglalások száma": "2"
                                },
                                {
                                    "SZOBA_ID": "57",
                                    "Év": "2016",
                                    "Foglalások száma": "2"
                                },
                                {
                                    "SZOBA_ID": "57",
                                    "Év": "2017",
                                    "Foglalások száma": "2"
                                },
                                {
                                    "SZOBA_ID": "59",
                                    "Év": "2016",
                                    "Foglalások száma": "6"
                                },
                                {
                                    "SZOBA_ID": "59",
                                    "Év": "2017",
                                    "Foglalások száma": "1"
                                },
                                {
                                    "SZOBA_ID": "61",
                                    "Év": "2016",
                                    "Foglalások száma": "4"
                                },
                                {
                                    "SZOBA_ID": "61",
                                    "Év": "2017",
                                    "Foglalások száma": "1"
                                },
                                {
                                    "SZOBA_ID": "63",
                                    "Év": "2016",
                                    "Foglalások száma": "4"
                                },
                                {
                                    "SZOBA_ID": "65",
                                    "Év": "2016",
                                    "Foglalások száma": "1"
                                },
                                {
                                    "SZOBA_ID": "67",
                                    "Év": "2016",
                                    "Foglalások száma": "4"
                                },
                                {
                                    "SZOBA_ID": "67",
                                    "Év": "2017",
                                    "Foglalások száma": "2"
                                },
                                {
                                    "SZOBA_ID": "69",
                                    "Év": "2016",
                                    "Foglalások száma": "4"
                                },
                                {
                                    "SZOBA_ID": "71",
                                    "Év": "2016",
                                    "Foglalások száma": "3"
                                },
                                {
                                    "SZOBA_ID": "73",
                                    "Év": "2016",
                                    "Foglalások száma": "4"
                                },
                                {
                                    "SZOBA_ID": "75",
                                    "Év": "2016",
                                    "Foglalások száma": "1"
                                },
                                {
                                    "SZOBA_ID": "75",
                                    "Év": "2017",
                                    "Foglalások száma": "2"
                                },
                                {
                                    "SZOBA_ID": "77",
                                    "Év": "2016",
                                    "Foglalások száma": "4"
                                },
                                {
                                    "SZOBA_ID": "77",
                                    "Év": "2017",
                                    "Foglalások száma": "2"
                                },
                                {
                                    "SZOBA_ID": "79",
                                    "Év": "2016",
                                    "Foglalások száma": "4"
                                },
                                {
                                    "SZOBA_ID": "79",
                                    "Év": "2017",
                                    "Foglalások száma": "1"
                                },
                                {
                                    "SZOBA_ID": "81",
                                    "Év": "2016",
                                    "Foglalások száma": "1"
                                },
                                {
                                    "SZOBA_ID": "81",
                                    "Év": "2017",
                                    "Foglalások száma": "4"
                                },
                                {
                                    "SZOBA_ID": "83",
                                    "Év": "2016",
                                    "Foglalások száma": "8"
                                },
                                {
                                    "SZOBA_ID": "85",
                                    "Év": "2016",
                                    "Foglalások száma": "3"
                                },
                                {
                                    "SZOBA_ID": "85",
                                    "Év": "2017",
                                    "Foglalások száma": "1"
                                },
                                {
                                    "SZOBA_ID": "87",
                                    "Év": "2016",
                                    "Foglalások száma": "4"
                                },
                                {
                                    "SZOBA_ID": "87",
                                    "Év": "2017",
                                    "Foglalások száma": "1"
                                },
                                {
                                    "SZOBA_ID": "89",
                                    "Év": "2016",
                                    "Foglalások száma": "7"
                                },
                                {
                                    "SZOBA_ID": "89",
                                    "Év": "2017",
                                    "Foglalások száma": "1"
                                },
                                {
                                    "SZOBA_ID": "91",
                                    "Év": "2016",
                                    "Foglalások száma": "4"
                                },
                                {
                                    "SZOBA_ID": "93",
                                    "Év": "2016",
                                    "Foglalások száma": "5"
                                },
                                {
                                    "SZOBA_ID": "95",
                                    "Év": "2016",
                                    "Foglalások száma": "3"
                                },
                                {
                                    "SZOBA_ID": "95",
                                    "Év": "2017",
                                    "Foglalások száma": "1"
                                },
                                {
                                    "SZOBA_ID": "97",
                                    "Év": "2016",
                                    "Foglalások száma": "5"
                                },
                                {
                                    "SZOBA_ID": "97",
                                    "Év": "2017",
                                    "Foglalások száma": "2"
                                },
                                {
                                    "SZOBA_ID": "99",
                                    "Év": "2016",
                                    "Foglalások száma": "4"
                                },
                                {
                                    "SZOBA_ID": "99",
                                    "Év": "2017",
                                    "Foglalások száma": "1"
                                },
                                {
                                    "SZOBA_ID": "101",
                                    "Év": "2016",
                                    "Foglalások száma": "2"
                                },
                                {
                                    "SZOBA_ID": "101",
                                    "Év": "2017",
                                    "Foglalások száma": "1"
                                },
                                {
                                    "SZOBA_ID": "103",
                                    "Év": "2016",
                                    "Foglalások száma": "3"
                                },
                                {
                                    "SZOBA_ID": "103",
                                    "Év": "2017",
                                    "Foglalások száma": "1"
                                },
                                {
                                    "SZOBA_ID": "105",
                                    "Év": "2016",
                                    "Foglalások száma": "1"
                                },
                                {
                                    "SZOBA_ID": "105",
                                    "Év": "2017",
                                    "Foglalások száma": "1"
                                },
                                {
                                    "SZOBA_ID": "107",
                                    "Év": "2016",
                                    "Foglalások száma": "3"
                                },
                                {
                                    "SZOBA_ID": "107",
                                    "Év": "2017",
                                    "Foglalások száma": "2"
                                },
                                {
                                    "SZOBA_ID": "109",
                                    "Év": "2016",
                                    "Foglalások száma": "6"
                                },
                                {
                                    "SZOBA_ID": "109",
                                    "Év": "2017",
                                    "Foglalások száma": "1"
                                },
                                {
                                    "SZOBA_ID": "111",
                                    "Év": "2016",
                                    "Foglalások száma": "5"
                                },
                                {
                                    "SZOBA_ID": "113",
                                    "Év": "2016",
                                    "Foglalások száma": "3"
                                },
                                {
                                    "SZOBA_ID": "113",
                                    "Év": "2017",
                                    "Foglalások száma": "2"
                                },
                                {
                                    "SZOBA_ID": "115",
                                    "Év": "2016",
                                    "Foglalások száma": "5"
                                },
                                {
                                    "SZOBA_ID": "115",
                                    "Év": "2017",
                                    "Foglalások száma": "2"
                                },
                                {
                                    "SZOBA_ID": "117",
                                    "Év": "2016",
                                    "Foglalások száma": "7"
                                },
                                {
                                    "SZOBA_ID": "117",
                                    "Év": "2017",
                                    "Foglalások száma": "1"
                                },
                                {
                                    "SZOBA_ID": "119",
                                    "Év": "2016",
                                    "Foglalások száma": "3"
                                },
                                {
                                    "SZOBA_ID": "119",
                                    "Év": "2017",
                                    "Foglalások száma": "2"
                                },
                                {
                                    "SZOBA_ID": "121",
                                    "Év": "2016",
                                    "Foglalások száma": "8"
                                },
                                {
                                    "SZOBA_ID": "123",
                                    "Év": "2016",
                                    "Foglalások száma": "5"
                                },
                                {
                                    "SZOBA_ID": "125",
                                    "Év": "2016",
                                    "Foglalások száma": "1"
                                },
                                {
                                    "SZOBA_ID": "127",
                                    "Év": "2016",
                                    "Foglalások száma": "6"
                                },
                                {
                                    "SZOBA_ID": "127",
                                    "Év": "2017",
                                    "Foglalások száma": "1"
                                },
                                {
                                    "SZOBA_ID": "129",
                                    "Év": "2016",
                                    "Foglalások száma": "2"
                                },
                                {
                                    "SZOBA_ID": "129",
                                    "Év": "2017",
                                    "Foglalások száma": "2"
                                },
                                {
                                    "SZOBA_ID": "131",
                                    "Év": "2016",
                                    "Foglalások száma": "4"
                                },
                                {
                                    "SZOBA_ID": "131",
                                    "Év": "2017",
                                    "Foglalások száma": "1"
                                },
                                {
                                    "SZOBA_ID": "133",
                                    "Év": "2016",
                                    "Foglalások száma": "5"
                                },
                                {
                                    "SZOBA_ID": "133",
                                    "Év": "2017",
                                    "Foglalások száma": "1"
                                },
                                {
                                    "SZOBA_ID": "135",
                                    "Év": "2016",
                                    "Foglalások száma": "3"
                                },
                                {
                                    "SZOBA_ID": "137",
                                    "Év": "2016",
                                    "Foglalások száma": "6"
                                },
                                {
                                    "SZOBA_ID": "139",
                                    "Év": "2016",
                                    "Foglalások száma": "5"
                                },
                                {
                                    "SZOBA_ID": "139",
                                    "Év": "2017",
                                    "Foglalások száma": "2"
                                },
                                {
                                    "SZOBA_ID": "141",
                                    "Év": "2016",
                                    "Foglalások száma": "6"
                                },
                                {
                                    "SZOBA_ID": "143",
                                    "Év": "2016",
                                    "Foglalások száma": "6"
                                },
                                {
                                    "SZOBA_ID": "143",
                                    "Év": "2017",
                                    "Foglalások száma": "1"
                                },
                                {
                                    "SZOBA_ID": "145",
                                    "Év": "2016",
                                    "Foglalások száma": "5"
                                },
                                {
                                    "SZOBA_ID": "145",
                                    "Év": "2017",
                                    "Foglalások száma": "1"
                                },
                                {
                                    "SZOBA_ID": "147",
                                    "Év": "2016",
                                    "Foglalások száma": "1"
                                },
                                {
                                    "SZOBA_ID": "149",
                                    "Év": "2016",
                                    "Foglalások száma": "6"
                                },
                                {
                                    "SZOBA_ID": "149",
                                    "Év": "2017",
                                    "Foglalások száma": "1"
                                },
                                {
                                    "SZOBA_ID": "151",
                                    "Év": "2016",
                                    "Foglalások száma": "3"
                                },
                                {
                                    "SZOBA_ID": "153",
                                    "Év": "2016",
                                    "Foglalások száma": "2"
                                },
                                {
                                    "SZOBA_ID": "153",
                                    "Év": "2017",
                                    "Foglalások száma": "3"
                                },
                                {
                                    "SZOBA_ID": "155",
                                    "Év": "2016",
                                    "Foglalások száma": "4"
                                },
                                {
                                    "SZOBA_ID": "155",
                                    "Év": "2017",
                                    "Foglalások száma": "1"
                                },
                                {
                                    "SZOBA_ID": "157",
                                    "Év": "2016",
                                    "Foglalások száma": "4"
                                },
                                {
                                    "SZOBA_ID": "157",
                                    "Év": "2017",
                                    "Foglalások száma": "1"
                                },
                                {
                                    "SZOBA_ID": "161",
                                    "Év": "2016",
                                    "Foglalások száma": "5"
                                },
                                {
                                    "SZOBA_ID": "161",
                                    "Év": "2017",
                                    "Foglalások száma": "1"
                                },
                                {
                                    "SZOBA_ID": "163",
                                    "Év": "2016",
                                    "Foglalások száma": "6"
                                },
                                {
                                    "SZOBA_ID": "163",
                                    "Év": "2017",
                                    "Foglalások száma": "1"
                                },
                                {
                                    "SZOBA_ID": "165",
                                    "Év": "2016",
                                    "Foglalások száma": "7"
                                },
                                {
                                    "SZOBA_ID": "167",
                                    "Év": "2016",
                                    "Foglalások száma": "1"
                                },
                                {
                                    "SZOBA_ID": "167",
                                    "Év": "2017",
                                    "Foglalások száma": "1"
                                },
                                {
                                    "SZOBA_ID": "169",
                                    "Év": "2016",
                                    "Foglalások száma": "5"
                                },
                                {
                                    "SZOBA_ID": "169",
                                    "Év": "2017",
                                    "Foglalások száma": "1"
                                },
                                {
                                    "SZOBA_ID": "171",
                                    "Év": "2016",
                                    "Foglalások száma": "4"
                                },
                                {
                                    "SZOBA_ID": "171",
                                    "Év": "2017",
                                    "Foglalások száma": "1"
                                },
                                {
                                    "SZOBA_ID": "173",
                                    "Év": "2016",
                                    "Foglalások száma": "3"
                                },
                                {
                                    "SZOBA_ID": "173",
                                    "Év": "2017",
                                    "Foglalások száma": "1"
                                },
                                {
                                    "SZOBA_ID": "175",
                                    "Év": "2016",
                                    "Foglalások száma": "5"
                                },
                                {
                                    "SZOBA_ID": "177",
                                    "Év": "2016",
                                    "Foglalások száma": "3"
                                },
                                {
                                    "SZOBA_ID": "177",
                                    "Év": "2017",
                                    "Foglalások száma": "1"
                                },
                                {
                                    "SZOBA_ID": "179",
                                    "Év": "2016",
                                    "Foglalások száma": "2"
                                },
                                {
                                    "SZOBA_ID": "179",
                                    "Év": "2017",
                                    "Foglalások száma": "1"
                                },
                                {
                                    "SZOBA_ID": "181",
                                    "Év": "2016",
                                    "Foglalások száma": "6"
                                },
                                {
                                    "SZOBA_ID": "183",
                                    "Év": "2016",
                                    "Foglalások száma": "3"
                                },
                                {
                                    "SZOBA_ID": "183",
                                    "Év": "2017",
                                    "Foglalások száma": "1"
                                },
                                {
                                    "SZOBA_ID": "185",
                                    "Év": "2016",
                                    "Foglalások száma": "10"
                                },
                                {
                                    "SZOBA_ID": "185",
                                    "Év": "2017",
                                    "Foglalások száma": "2"
                                },
                                {
                                    "SZOBA_ID": "187",
                                    "Év": "2016",
                                    "Foglalások száma": "7"
                                },
                                {
                                    "SZOBA_ID": "189",
                                    "Év": "2016",
                                    "Foglalások száma": "3"
                                },
                                {
                                    "SZOBA_ID": "189",
                                    "Év": "2017",
                                    "Foglalások száma": "2"
                                },
                                {
                                    "SZOBA_ID": "191",
                                    "Év": "2016",
                                    "Foglalások száma": "3"
                                },
                                {
                                    "SZOBA_ID": "191",
                                    "Év": "2017",
                                    "Foglalások száma": "2"
                                },
                                {
                                    "SZOBA_ID": "193",
                                    "Év": "2016",
                                    "Foglalások száma": "7"
                                },
                                {
                                    "SZOBA_ID": "195",
                                    "Év": "2016",
                                    "Foglalások száma": "4"
                                },
                                {
                                    "SZOBA_ID": "195",
                                    "Év": "2017",
                                    "Foglalások száma": "2"
                                },
                                {
                                    "SZOBA_ID": "197",
                                    "Év": "2016",
                                    "Foglalások száma": "6"
                                }
                            ]
                        },
                        "text/html": [
                            "<table>",
                            "<tr><th>SZOBA_ID</th><th>Év</th><th>Foglalások száma</th></tr>",
                            "<tr><td>1</td><td>2016</td><td>8</td></tr>",
                            "<tr><td>3</td><td>2016</td><td>6</td></tr>",
                            "<tr><td>3</td><td>2017</td><td>2</td></tr>",
                            "<tr><td>5</td><td>2016</td><td>4</td></tr>",
                            "<tr><td>7</td><td>2016</td><td>6</td></tr>",
                            "<tr><td>9</td><td>2016</td><td>4</td></tr>",
                            "<tr><td>9</td><td>2017</td><td>2</td></tr>",
                            "<tr><td>11</td><td>2016</td><td>3</td></tr>",
                            "<tr><td>11</td><td>2017</td><td>1</td></tr>",
                            "<tr><td>13</td><td>2016</td><td>3</td></tr>",
                            "<tr><td>13</td><td>2017</td><td>1</td></tr>",
                            "<tr><td>15</td><td>2016</td><td>4</td></tr>",
                            "<tr><td>15</td><td>2017</td><td>2</td></tr>",
                            "<tr><td>17</td><td>2016</td><td>5</td></tr>",
                            "<tr><td>17</td><td>2017</td><td>1</td></tr>",
                            "<tr><td>19</td><td>2016</td><td>5</td></tr>",
                            "<tr><td>19</td><td>2017</td><td>1</td></tr>",
                            "<tr><td>21</td><td>2016</td><td>4</td></tr>",
                            "<tr><td>23</td><td>2016</td><td>3</td></tr>",
                            "<tr><td>25</td><td>2016</td><td>2</td></tr>",
                            "<tr><td>27</td><td>2016</td><td>6</td></tr>",
                            "<tr><td>27</td><td>2017</td><td>1</td></tr>",
                            "<tr><td>29</td><td>2016</td><td>5</td></tr>",
                            "<tr><td>29</td><td>2017</td><td>1</td></tr>",
                            "<tr><td>31</td><td>2016</td><td>3</td></tr>",
                            "<tr><td>33</td><td>2016</td><td>6</td></tr>",
                            "<tr><td>35</td><td>2016</td><td>6</td></tr>",
                            "<tr><td>35</td><td>2017</td><td>3</td></tr>",
                            "<tr><td>37</td><td>2016</td><td>3</td></tr>",
                            "<tr><td>39</td><td>2016</td><td>4</td></tr>",
                            "<tr><td>39</td><td>2017</td><td>3</td></tr>",
                            "<tr><td>41</td><td>2016</td><td>2</td></tr>",
                            "<tr><td>43</td><td>2016</td><td>6</td></tr>",
                            "<tr><td>43</td><td>2017</td><td>2</td></tr>",
                            "<tr><td>45</td><td>2016</td><td>5</td></tr>",
                            "<tr><td>47</td><td>2016</td><td>2</td></tr>",
                            "<tr><td>49</td><td>2016</td><td>6</td></tr>",
                            "<tr><td>49</td><td>2017</td><td>1</td></tr>",
                            "<tr><td>51</td><td>2016</td><td>3</td></tr>",
                            "<tr><td>51</td><td>2017</td><td>2</td></tr>",
                            "<tr><td>53</td><td>2016</td><td>2</td></tr>",
                            "<tr><td>55</td><td>2016</td><td>6</td></tr>",
                            "<tr><td>55</td><td>2017</td><td>2</td></tr>",
                            "<tr><td>57</td><td>2016</td><td>2</td></tr>",
                            "<tr><td>57</td><td>2017</td><td>2</td></tr>",
                            "<tr><td>59</td><td>2016</td><td>6</td></tr>",
                            "<tr><td>59</td><td>2017</td><td>1</td></tr>",
                            "<tr><td>61</td><td>2016</td><td>4</td></tr>",
                            "<tr><td>61</td><td>2017</td><td>1</td></tr>",
                            "<tr><td>63</td><td>2016</td><td>4</td></tr>",
                            "<tr><td>65</td><td>2016</td><td>1</td></tr>",
                            "<tr><td>67</td><td>2016</td><td>4</td></tr>",
                            "<tr><td>67</td><td>2017</td><td>2</td></tr>",
                            "<tr><td>69</td><td>2016</td><td>4</td></tr>",
                            "<tr><td>71</td><td>2016</td><td>3</td></tr>",
                            "<tr><td>73</td><td>2016</td><td>4</td></tr>",
                            "<tr><td>75</td><td>2016</td><td>1</td></tr>",
                            "<tr><td>75</td><td>2017</td><td>2</td></tr>",
                            "<tr><td>77</td><td>2016</td><td>4</td></tr>",
                            "<tr><td>77</td><td>2017</td><td>2</td></tr>",
                            "<tr><td>79</td><td>2016</td><td>4</td></tr>",
                            "<tr><td>79</td><td>2017</td><td>1</td></tr>",
                            "<tr><td>81</td><td>2016</td><td>1</td></tr>",
                            "<tr><td>81</td><td>2017</td><td>4</td></tr>",
                            "<tr><td>83</td><td>2016</td><td>8</td></tr>",
                            "<tr><td>85</td><td>2016</td><td>3</td></tr>",
                            "<tr><td>85</td><td>2017</td><td>1</td></tr>",
                            "<tr><td>87</td><td>2016</td><td>4</td></tr>",
                            "<tr><td>87</td><td>2017</td><td>1</td></tr>",
                            "<tr><td>89</td><td>2016</td><td>7</td></tr>",
                            "<tr><td>89</td><td>2017</td><td>1</td></tr>",
                            "<tr><td>91</td><td>2016</td><td>4</td></tr>",
                            "<tr><td>93</td><td>2016</td><td>5</td></tr>",
                            "<tr><td>95</td><td>2016</td><td>3</td></tr>",
                            "<tr><td>95</td><td>2017</td><td>1</td></tr>",
                            "<tr><td>97</td><td>2016</td><td>5</td></tr>",
                            "<tr><td>97</td><td>2017</td><td>2</td></tr>",
                            "<tr><td>99</td><td>2016</td><td>4</td></tr>",
                            "<tr><td>99</td><td>2017</td><td>1</td></tr>",
                            "<tr><td>101</td><td>2016</td><td>2</td></tr>",
                            "<tr><td>101</td><td>2017</td><td>1</td></tr>",
                            "<tr><td>103</td><td>2016</td><td>3</td></tr>",
                            "<tr><td>103</td><td>2017</td><td>1</td></tr>",
                            "<tr><td>105</td><td>2016</td><td>1</td></tr>",
                            "<tr><td>105</td><td>2017</td><td>1</td></tr>",
                            "<tr><td>107</td><td>2016</td><td>3</td></tr>",
                            "<tr><td>107</td><td>2017</td><td>2</td></tr>",
                            "<tr><td>109</td><td>2016</td><td>6</td></tr>",
                            "<tr><td>109</td><td>2017</td><td>1</td></tr>",
                            "<tr><td>111</td><td>2016</td><td>5</td></tr>",
                            "<tr><td>113</td><td>2016</td><td>3</td></tr>",
                            "<tr><td>113</td><td>2017</td><td>2</td></tr>",
                            "<tr><td>115</td><td>2016</td><td>5</td></tr>",
                            "<tr><td>115</td><td>2017</td><td>2</td></tr>",
                            "<tr><td>117</td><td>2016</td><td>7</td></tr>",
                            "<tr><td>117</td><td>2017</td><td>1</td></tr>",
                            "<tr><td>119</td><td>2016</td><td>3</td></tr>",
                            "<tr><td>119</td><td>2017</td><td>2</td></tr>",
                            "<tr><td>121</td><td>2016</td><td>8</td></tr>",
                            "<tr><td>123</td><td>2016</td><td>5</td></tr>",
                            "<tr><td>125</td><td>2016</td><td>1</td></tr>",
                            "<tr><td>127</td><td>2016</td><td>6</td></tr>",
                            "<tr><td>127</td><td>2017</td><td>1</td></tr>",
                            "<tr><td>129</td><td>2016</td><td>2</td></tr>",
                            "<tr><td>129</td><td>2017</td><td>2</td></tr>",
                            "<tr><td>131</td><td>2016</td><td>4</td></tr>",
                            "<tr><td>131</td><td>2017</td><td>1</td></tr>",
                            "<tr><td>133</td><td>2016</td><td>5</td></tr>",
                            "<tr><td>133</td><td>2017</td><td>1</td></tr>",
                            "<tr><td>135</td><td>2016</td><td>3</td></tr>",
                            "<tr><td>137</td><td>2016</td><td>6</td></tr>",
                            "<tr><td>139</td><td>2016</td><td>5</td></tr>",
                            "<tr><td>139</td><td>2017</td><td>2</td></tr>",
                            "<tr><td>141</td><td>2016</td><td>6</td></tr>",
                            "<tr><td>143</td><td>2016</td><td>6</td></tr>",
                            "<tr><td>143</td><td>2017</td><td>1</td></tr>",
                            "<tr><td>145</td><td>2016</td><td>5</td></tr>",
                            "<tr><td>145</td><td>2017</td><td>1</td></tr>",
                            "<tr><td>147</td><td>2016</td><td>1</td></tr>",
                            "<tr><td>149</td><td>2016</td><td>6</td></tr>",
                            "<tr><td>149</td><td>2017</td><td>1</td></tr>",
                            "<tr><td>151</td><td>2016</td><td>3</td></tr>",
                            "<tr><td>153</td><td>2016</td><td>2</td></tr>",
                            "<tr><td>153</td><td>2017</td><td>3</td></tr>",
                            "<tr><td>155</td><td>2016</td><td>4</td></tr>",
                            "<tr><td>155</td><td>2017</td><td>1</td></tr>",
                            "<tr><td>157</td><td>2016</td><td>4</td></tr>",
                            "<tr><td>157</td><td>2017</td><td>1</td></tr>",
                            "<tr><td>161</td><td>2016</td><td>5</td></tr>",
                            "<tr><td>161</td><td>2017</td><td>1</td></tr>",
                            "<tr><td>163</td><td>2016</td><td>6</td></tr>",
                            "<tr><td>163</td><td>2017</td><td>1</td></tr>",
                            "<tr><td>165</td><td>2016</td><td>7</td></tr>",
                            "<tr><td>167</td><td>2016</td><td>1</td></tr>",
                            "<tr><td>167</td><td>2017</td><td>1</td></tr>",
                            "<tr><td>169</td><td>2016</td><td>5</td></tr>",
                            "<tr><td>169</td><td>2017</td><td>1</td></tr>",
                            "<tr><td>171</td><td>2016</td><td>4</td></tr>",
                            "<tr><td>171</td><td>2017</td><td>1</td></tr>",
                            "<tr><td>173</td><td>2016</td><td>3</td></tr>",
                            "<tr><td>173</td><td>2017</td><td>1</td></tr>",
                            "<tr><td>175</td><td>2016</td><td>5</td></tr>",
                            "<tr><td>177</td><td>2016</td><td>3</td></tr>",
                            "<tr><td>177</td><td>2017</td><td>1</td></tr>",
                            "<tr><td>179</td><td>2016</td><td>2</td></tr>",
                            "<tr><td>179</td><td>2017</td><td>1</td></tr>",
                            "<tr><td>181</td><td>2016</td><td>6</td></tr>",
                            "<tr><td>183</td><td>2016</td><td>3</td></tr>",
                            "<tr><td>183</td><td>2017</td><td>1</td></tr>",
                            "<tr><td>185</td><td>2016</td><td>10</td></tr>",
                            "<tr><td>185</td><td>2017</td><td>2</td></tr>",
                            "<tr><td>187</td><td>2016</td><td>7</td></tr>",
                            "<tr><td>189</td><td>2016</td><td>3</td></tr>",
                            "<tr><td>189</td><td>2017</td><td>2</td></tr>",
                            "<tr><td>191</td><td>2016</td><td>3</td></tr>",
                            "<tr><td>191</td><td>2017</td><td>2</td></tr>",
                            "<tr><td>193</td><td>2016</td><td>7</td></tr>",
                            "<tr><td>195</td><td>2016</td><td>4</td></tr>",
                            "<tr><td>195</td><td>2017</td><td>2</td></tr>",
                            "<tr><td>197</td><td>2016</td><td>6</td></tr>",
                            "</table>"
                        ]
                    }
                }
            ],
            "execution_count": 18
        },
        {
            "cell_type": "code",
            "source": [
                ""
            ],
            "metadata": {
                "azdata_cell_guid": "e12f66de-a3ab-4864-9f4a-09ba84cc7dd2",
                "language": "sql"
            },
            "outputs": [],
            "execution_count": null
        },
        {
            "cell_type": "code",
            "source": [
                ""
            ],
            "metadata": {
                "azdata_cell_guid": "4e85da59-ccb0-443d-9be5-02edfa8054f5",
                "language": "sql"
            },
            "outputs": [],
            "execution_count": null
        }
    ]
}