{
    "metadata": {
        "kernelspec": {
            "name": "SQL",
            "display_name": "SQL",
            "language": "sql"
        },
        "language_info": {
            "name": "sql",
            "version": ""
        },
        "extensions": {
            "azuredatastudio": {
                "version": 1,
                "views": []
            }
        }
    },
    "nbformat_minor": 2,
    "nbformat": 4,
    "cells": [
        {
            "cell_type": "markdown",
            "source": [
                "**Az első 5 feladat ismétlés (többtáblás lekérdezések) a tanulmányi adatbázisból**\n",
                "\n",
                "1. Készítsünk listát arról, hogy melyik óra melyik teremben van!\n",
                "    \n",
                "    1. Jelenítsük meg az óra azonosítóját és a terem nevét!\n",
                "    2. A listát szűrjük a 3 karakter hosszú, \\[100;199\\] zárt intervallumba eső termekre! Feltesszük, hogy a 3 karakter hosszú terem nevek csak számjegyeket tartalmaznak."
            ],
            "metadata": {
                "azdata_cell_guid": "77f2d5b3-38e9-41cc-893f-f5afd02b97ef"
            },
            "attachments": {}
        },
        {
            "cell_type": "code",
            "source": [
                "SELECT o.ora_id,\r\n",
                "        t.Terem\r\n",
                "FROM Orak as o JOIN Termek as t ON o.terem = t.Tkód\r\n",
                "where len(t.terem) = 3 and t.terem BETWEEN 100 and 199"
            ],
            "metadata": {
                "azdata_cell_guid": "bd3cef1a-4e6e-4ece-9dc3-aaa9d2b5d66d",
                "language": "sql"
            },
            "outputs": [
                {
                    "output_type": "display_data",
                    "data": {
                        "text/html": "(30 rows affected)"
                    },
                    "metadata": {}
                },
                {
                    "output_type": "display_data",
                    "data": {
                        "text/html": "Total execution time: 00:00:00.050"
                    },
                    "metadata": {}
                },
                {
                    "output_type": "execute_result",
                    "execution_count": 1,
                    "data": {
                        "application/vnd.dataresource+json": {
                            "schema": {
                                "fields": [
                                    {
                                        "name": "ora_id"
                                    },
                                    {
                                        "name": "Terem"
                                    }
                                ]
                            },
                            "data": [
                                {
                                    "ora_id": "159",
                                    "Terem": "117"
                                },
                                {
                                    "ora_id": "160",
                                    "Terem": "118"
                                },
                                {
                                    "ora_id": "161",
                                    "Terem": "118"
                                },
                                {
                                    "ora_id": "162",
                                    "Terem": "119"
                                },
                                {
                                    "ora_id": "163",
                                    "Terem": "120"
                                },
                                {
                                    "ora_id": "164",
                                    "Terem": "119"
                                },
                                {
                                    "ora_id": "165",
                                    "Terem": "119"
                                },
                                {
                                    "ora_id": "166",
                                    "Terem": "119"
                                },
                                {
                                    "ora_id": "167",
                                    "Terem": "120"
                                },
                                {
                                    "ora_id": "170",
                                    "Terem": "120"
                                },
                                {
                                    "ora_id": "172",
                                    "Terem": "119"
                                },
                                {
                                    "ora_id": "173",
                                    "Terem": "119"
                                },
                                {
                                    "ora_id": "175",
                                    "Terem": "120"
                                },
                                {
                                    "ora_id": "176",
                                    "Terem": "118"
                                },
                                {
                                    "ora_id": "177",
                                    "Terem": "119"
                                },
                                {
                                    "ora_id": "179",
                                    "Terem": "120"
                                },
                                {
                                    "ora_id": "180",
                                    "Terem": "119"
                                },
                                {
                                    "ora_id": "181",
                                    "Terem": "118"
                                },
                                {
                                    "ora_id": "185",
                                    "Terem": "120"
                                },
                                {
                                    "ora_id": "192",
                                    "Terem": "119"
                                },
                                {
                                    "ora_id": "195",
                                    "Terem": "116"
                                },
                                {
                                    "ora_id": "197",
                                    "Terem": "116"
                                },
                                {
                                    "ora_id": "198",
                                    "Terem": "119"
                                },
                                {
                                    "ora_id": "204",
                                    "Terem": "120"
                                },
                                {
                                    "ora_id": "212",
                                    "Terem": "120"
                                },
                                {
                                    "ora_id": "218",
                                    "Terem": "118"
                                },
                                {
                                    "ora_id": "220",
                                    "Terem": "119"
                                },
                                {
                                    "ora_id": "222",
                                    "Terem": "116"
                                },
                                {
                                    "ora_id": "226",
                                    "Terem": "117"
                                },
                                {
                                    "ora_id": "227",
                                    "Terem": "116"
                                }
                            ]
                        },
                        "text/html": "<table><tr><th>ora_id</th><th>Terem</th></tr><tr><td>159</td><td>117</td></tr><tr><td>160</td><td>118</td></tr><tr><td>161</td><td>118</td></tr><tr><td>162</td><td>119</td></tr><tr><td>163</td><td>120</td></tr><tr><td>164</td><td>119</td></tr><tr><td>165</td><td>119</td></tr><tr><td>166</td><td>119</td></tr><tr><td>167</td><td>120</td></tr><tr><td>170</td><td>120</td></tr><tr><td>172</td><td>119</td></tr><tr><td>173</td><td>119</td></tr><tr><td>175</td><td>120</td></tr><tr><td>176</td><td>118</td></tr><tr><td>177</td><td>119</td></tr><tr><td>179</td><td>120</td></tr><tr><td>180</td><td>119</td></tr><tr><td>181</td><td>118</td></tr><tr><td>185</td><td>120</td></tr><tr><td>192</td><td>119</td></tr><tr><td>195</td><td>116</td></tr><tr><td>197</td><td>116</td></tr><tr><td>198</td><td>119</td></tr><tr><td>204</td><td>120</td></tr><tr><td>212</td><td>120</td></tr><tr><td>218</td><td>118</td></tr><tr><td>220</td><td>119</td></tr><tr><td>222</td><td>116</td></tr><tr><td>226</td><td>117</td></tr><tr><td>227</td><td>116</td></tr></table>"
                    },
                    "metadata": {}
                }
            ],
            "execution_count": 1
        },
        {
            "cell_type": "markdown",
            "source": [
                "<mark>2. <span style=\"font-weight: 600; color: rgb(36, 41, 47); font-family: -apple-system, BlinkMacSystemFont, &quot;Segoe UI&quot;, Helvetica, Arial, sans-serif, &quot;Apple Color Emoji&quot;, &quot;Segoe UI Emoji&quot;; font-size: 16px;\">Hány óra van összesen az egyes napokon?</span></mark>\n",
                "\n",
                "1. Jelenítsük meg a napok nevét és az órák számát az adott napon!\n",
                "2. Az oszlopokat nevezzük el értelemszerűen!\n",
                "3. A listát rendezzük óraszám szerint növekvő sorrendbe!"
            ],
            "metadata": {
                "azdata_cell_guid": "88f5b4bb-f4c1-4bad-a0c7-b2592687b422"
            },
            "attachments": {}
        },
        {
            "cell_type": "code",
            "source": [
                "SELECT n.nap,\r\n",
                "        COUNT(o.ora_id) as Óraszám\r\n",
                "from Napok n JOIN Orak o on n.nap_id = o.nap\r\n",
                "group by n.nap\r\n",
                "ORDER by COUNT(o.ora_id) ASC"
            ],
            "metadata": {
                "azdata_cell_guid": "e9de5726-f036-4fb9-8c33-a873955ed886",
                "language": "sql"
            },
            "outputs": [
                {
                    "output_type": "display_data",
                    "data": {
                        "text/html": "(5 rows affected)"
                    },
                    "metadata": {}
                },
                {
                    "output_type": "display_data",
                    "data": {
                        "text/html": "Total execution time: 00:00:00.023"
                    },
                    "metadata": {}
                },
                {
                    "output_type": "execute_result",
                    "execution_count": 16,
                    "data": {
                        "application/vnd.dataresource+json": {
                            "schema": {
                                "fields": [
                                    {
                                        "name": "nap"
                                    },
                                    {
                                        "name": "Óraszám"
                                    }
                                ]
                            },
                            "data": [
                                {
                                    "nap": "Péntek",
                                    "Óraszám": "6"
                                },
                                {
                                    "nap": "Szerda",
                                    "Óraszám": "6"
                                },
                                {
                                    "nap": "Kedd",
                                    "Óraszám": "13"
                                },
                                {
                                    "nap": "Csütörtök",
                                    "Óraszám": "19"
                                },
                                {
                                    "nap": "Hétfő",
                                    "Óraszám": "23"
                                }
                            ]
                        },
                        "text/html": "<table><tr><th>nap</th><th>Óraszám</th></tr><tr><td>Péntek</td><td>6</td></tr><tr><td>Szerda</td><td>6</td></tr><tr><td>Kedd</td><td>13</td></tr><tr><td>Csütörtök</td><td>19</td></tr><tr><td>Hétfő</td><td>23</td></tr></table>"
                    },
                    "metadata": {}
                }
            ],
            "execution_count": 16
        },
        {
            "cell_type": "markdown",
            "source": [
                "3. <span style=\"font-weight: 600; color: rgb(36, 41, 47); font-family: -apple-system, BlinkMacSystemFont, &quot;Segoe UI&quot;, Helvetica, Arial, sans-serif, &quot;Apple Color Emoji&quot;, &quot;Segoe UI Emoji&quot;; font-size: 16px; background-color: yellow;\">Készítsünk listát arról, hogy melyik oktatónak hány órája van az Órák táblában!</span>\n",
                "\n",
                "1. A lista jelenítse meg az oktatók nevét, és az órák számát!\n",
                "2. Az oszlopokat nevezzük el értelemszerűen!\n",
                "3. A listából hagyjuk ki az óraadókat!"
            ],
            "metadata": {
                "azdata_cell_guid": "9e7249de-1b59-43d8-84b1-26fa7d81fc5a"
            },
            "attachments": {}
        },
        {
            "cell_type": "code",
            "source": [
                "SELECT ok.nev,\r\n",
                "        COUNT(ora.ora_id) as Óraszám\r\n",
                "from Oktatok ok join Orak ora on ok.oktato_id = ora.tanar\r\n",
                "WHERE ok.beosztás != 1\r\n",
                "GROUP BY ok.nev\r\n",
                ""
            ],
            "metadata": {
                "azdata_cell_guid": "6405d3e8-a9b1-45d7-aa76-3b1e785ef6cc",
                "language": "sql"
            },
            "outputs": [
                {
                    "output_type": "display_data",
                    "data": {
                        "text/html": "(15 rows affected)"
                    },
                    "metadata": {}
                },
                {
                    "output_type": "display_data",
                    "data": {
                        "text/html": "Total execution time: 00:00:00.013"
                    },
                    "metadata": {}
                },
                {
                    "output_type": "execute_result",
                    "execution_count": 15,
                    "data": {
                        "application/vnd.dataresource+json": {
                            "schema": {
                                "fields": [
                                    {
                                        "name": "nev"
                                    },
                                    {
                                        "name": "Óraszám"
                                    }
                                ]
                            },
                            "data": [
                                {
                                    "nev": "Balkán András",
                                    "Óraszám": "3"
                                },
                                {
                                    "nev": "Farkasos Piroska",
                                    "Óraszám": "7"
                                },
                                {
                                    "nev": "Jogrerős Pál",
                                    "Óraszám": "2"
                                },
                                {
                                    "nev": "Juhász András",
                                    "Óraszám": "2"
                                },
                                {
                                    "nev": "Kiss János",
                                    "Óraszám": "4"
                                },
                                {
                                    "nev": "Kovács László",
                                    "Óraszám": "4"
                                },
                                {
                                    "nev": "Pelikán József",
                                    "Óraszám": "6"
                                },
                                {
                                    "nev": "Róbert Gida",
                                    "Óraszám": "1"
                                },
                                {
                                    "nev": "Szénási ászló",
                                    "Óraszám": "2"
                                },
                                {
                                    "nev": "Szentágotai Istvás",
                                    "Óraszám": "8"
                                },
                                {
                                    "nev": "Szép llonka",
                                    "Óraszám": "4"
                                },
                                {
                                    "nev": "Szerb László",
                                    "Óraszám": "3"
                                },
                                {
                                    "nev": "Ujfalussi István",
                                    "Óraszám": "3"
                                },
                                {
                                    "nev": "Varga Kata",
                                    "Óraszám": "4"
                                },
                                {
                                    "nev": "Vitéz János",
                                    "Óraszám": "4"
                                }
                            ]
                        },
                        "text/html": "<table><tr><th>nev</th><th>Óraszám</th></tr><tr><td>Balkán András</td><td>3</td></tr><tr><td>Farkasos Piroska</td><td>7</td></tr><tr><td>Jogrerős Pál</td><td>2</td></tr><tr><td>Juhász András</td><td>2</td></tr><tr><td>Kiss János</td><td>4</td></tr><tr><td>Kovács László</td><td>4</td></tr><tr><td>Pelikán József</td><td>6</td></tr><tr><td>Róbert Gida</td><td>1</td></tr><tr><td>Szénási ászló</td><td>2</td></tr><tr><td>Szentágotai Istvás</td><td>8</td></tr><tr><td>Szép llonka</td><td>4</td></tr><tr><td>Szerb László</td><td>3</td></tr><tr><td>Ujfalussi István</td><td>3</td></tr><tr><td>Varga Kata</td><td>4</td></tr><tr><td>Vitéz János</td><td>4</td></tr></table>"
                    },
                    "metadata": {}
                }
            ],
            "execution_count": 15
        },
        {
            "cell_type": "markdown",
            "source": [
                "<mark>4. <span style=\"color: rgb(36, 41, 47); font-family: -apple-system, BlinkMacSystemFont, &quot;Segoe UI&quot;, Helvetica, Arial, sans-serif, &quot;Apple Color Emoji&quot;, &quot;Segoe UI Emoji&quot;; font-size: 16px;\">Van-e olyan tantárgy, amelyből nincs óra?</span></mark>\n",
                "\n",
                "1. Jelentsük meg a tantárgy nevét és a tantárgyfelelős nevét!"
            ],
            "metadata": {
                "azdata_cell_guid": "6478e469-c094-472c-a772-ccd5b5c61516"
            },
            "attachments": {}
        },
        {
            "cell_type": "code",
            "source": [
                "-- SELECT t.Tantárgynév,\r\n",
                "--         ok.nev\r\n",
                "-- from Orak o join Tantárgyak t on t.Tkód = o.targy\r\n",
                "--             JOIN Oktatok ok on o.ora_id = ok.oktato_id\r\n",
                "\r\n",
                "SELECT t.Tantárgynév,\r\n",
                "        okt.nev\r\n",
                "from Tantárgyak t left join Orak o on t.Tkód = o.targy\r\n",
                "                        join Oktatok okt on t.Tantárgyfelelős = okt.oktato_id\r\n",
                "where o.targy is NULL\r\n",
                ""
            ],
            "metadata": {
                "azdata_cell_guid": "02031ea2-3838-458d-839c-228e3b362b61",
                "language": "sql",
                "tags": []
            },
            "outputs": [
                {
                    "output_type": "display_data",
                    "data": {
                        "text/html": "(1 row affected)"
                    },
                    "metadata": {}
                },
                {
                    "output_type": "display_data",
                    "data": {
                        "text/html": "Total execution time: 00:00:00.044"
                    },
                    "metadata": {}
                },
                {
                    "output_type": "execute_result",
                    "execution_count": 1,
                    "data": {
                        "application/vnd.dataresource+json": {
                            "schema": {
                                "fields": [
                                    {
                                        "name": "Tantárgynév"
                                    },
                                    {
                                        "name": "nev"
                                    }
                                ]
                            },
                            "data": [
                                {
                                    "Tantárgynév": "Folyami gáttan",
                                    "nev": "Varga Kata"
                                }
                            ]
                        },
                        "text/html": "<table><tr><th>Tantárgynév</th><th>nev</th></tr><tr><td>Folyami gáttan</td><td>Varga Kata</td></tr></table>"
                    },
                    "metadata": {}
                }
            ],
            "execution_count": 1
        },
        {
            "cell_type": "markdown",
            "source": [
                "5. <span style=\"background-color: rgb(255, 255, 255); color: rgb(36, 41, 47); font-family: -apple-system, BlinkMacSystemFont, &quot;Segoe UI&quot;, Helvetica, Arial, sans-serif, &quot;Apple Color Emoji&quot;, &quot;Segoe UI Emoji&quot;; font-size: 16px;\">Hány óra van összesen a 120-as teremben?</span>"
            ],
            "metadata": {
                "azdata_cell_guid": "9edbbaf9-c276-4898-9a01-e1b2993c089f"
            },
            "attachments": {}
        },
        {
            "cell_type": "code",
            "source": [
                "SELECT count(*) as 'Órák száma a 120-as teremben.'\r\n",
                "FROM orak o JOIN Termek t on o.terem = t.Tkód\r\n",
                "WHERE t.terem = '120'"
            ],
            "metadata": {
                "azdata_cell_guid": "5ad5fdcb-2878-4111-861a-833bcd50e935",
                "language": "sql"
            },
            "outputs": [
                {
                    "output_type": "display_data",
                    "data": {
                        "text/html": "(1 row affected)"
                    },
                    "metadata": {}
                },
                {
                    "output_type": "display_data",
                    "data": {
                        "text/html": "Total execution time: 00:00:00.013"
                    },
                    "metadata": {}
                },
                {
                    "output_type": "execute_result",
                    "metadata": {},
                    "execution_count": 5,
                    "data": {
                        "application/vnd.dataresource+json": {
                            "schema": {
                                "fields": [
                                    {
                                        "name": "Órák száma a 120-as teremben."
                                    }
                                ]
                            },
                            "data": [
                                {
                                    "Órák száma a 120-as teremben.": "8"
                                }
                            ]
                        },
                        "text/html": [
                            "<table>",
                            "<tr><th>Órák száma a 120-as teremben.</th></tr>",
                            "<tr><td>8</td></tr>",
                            "</table>"
                        ]
                    }
                }
            ],
            "execution_count": 5
        },
        {
            "cell_type": "markdown",
            "source": [
                "**A 6-10 feladatokat halmazműveletek segítségével oldjuk meg, szintén a tanulmányi adatbázison**\n",
                "\n",
                "6. <span style=\"background-color:rgb(255, 255, 255);color:rgb(36, 41, 47);font-family:-apple-system, BlinkMacSystemFont, &quot;Segoe UI&quot;, Helvetica, Arial, sans-serif, &quot;Apple Color Emoji&quot;, &quot;Segoe UI Emoji&quot;;font-size:16px;font-weight:600;\">Jelenítsük meg azon tanárok azonosítóját és nevét, akik hétfői vagy keddi napokon tanítanak!</span>"
            ],
            "metadata": {
                "azdata_cell_guid": "5fe65c1c-2479-45ac-ad03-ec99d12eae21"
            },
            "attachments": {}
        },
        {
            "cell_type": "code",
            "source": [
                "SELECT okt.oktato_id,\r\n",
                "        okt.nev\r\n",
                "from Oktatok okt JOIN Orak o ON okt.oktato_id = o.tanar\r\n",
                "WHERE o.nap = 1 OR o.nap = 2"
            ],
            "metadata": {
                "azdata_cell_guid": "924f2dde-f1c2-4def-a7f9-dbf4bace7735",
                "language": "sql"
            },
            "outputs": [
                {
                    "output_type": "display_data",
                    "data": {
                        "text/html": "(36 rows affected)"
                    },
                    "metadata": {}
                },
                {
                    "output_type": "display_data",
                    "data": {
                        "text/html": "Total execution time: 00:00:00.018"
                    },
                    "metadata": {}
                },
                {
                    "output_type": "execute_result",
                    "metadata": {},
                    "execution_count": 7,
                    "data": {
                        "application/vnd.dataresource+json": {
                            "schema": {
                                "fields": [
                                    {
                                        "name": "oktato_id"
                                    },
                                    {
                                        "name": "nev"
                                    }
                                ]
                            },
                            "data": [
                                {
                                    "oktato_id": "8",
                                    "nev": "Pelikán József"
                                },
                                {
                                    "oktato_id": "8",
                                    "nev": "Pelikán József"
                                },
                                {
                                    "oktato_id": "20",
                                    "nev": "Kovács András"
                                },
                                {
                                    "oktato_id": "7",
                                    "nev": "Kiss János"
                                },
                                {
                                    "oktato_id": "3",
                                    "nev": "Szerb László"
                                },
                                {
                                    "oktato_id": "3",
                                    "nev": "Szerb László"
                                },
                                {
                                    "oktato_id": "2",
                                    "nev": "Szentágotai Istvás"
                                },
                                {
                                    "oktato_id": "20",
                                    "nev": "Kovács András"
                                },
                                {
                                    "oktato_id": "104",
                                    "nev": "Ludas Mátyás"
                                },
                                {
                                    "oktato_id": "14",
                                    "nev": "Szénási ászló"
                                },
                                {
                                    "oktato_id": "7",
                                    "nev": "Kiss János"
                                },
                                {
                                    "oktato_id": "18",
                                    "nev": "Nógrádi Kata"
                                },
                                {
                                    "oktato_id": "12",
                                    "nev": "Varga Kata"
                                },
                                {
                                    "oktato_id": "12",
                                    "nev": "Varga Kata"
                                },
                                {
                                    "oktato_id": "9",
                                    "nev": "Farkasos Piroska"
                                },
                                {
                                    "oktato_id": "9",
                                    "nev": "Farkasos Piroska"
                                },
                                {
                                    "oktato_id": "5",
                                    "nev": "Balkán András"
                                },
                                {
                                    "oktato_id": "5",
                                    "nev": "Balkán András"
                                },
                                {
                                    "oktato_id": "200",
                                    "nev": "Aranyi Mária"
                                },
                                {
                                    "oktato_id": "108",
                                    "nev": "Róbert Gida"
                                },
                                {
                                    "oktato_id": "4",
                                    "nev": "Ujfalussi István"
                                },
                                {
                                    "oktato_id": "12",
                                    "nev": "Varga Kata"
                                },
                                {
                                    "oktato_id": "10",
                                    "nev": "Jogrerős Pál"
                                },
                                {
                                    "oktato_id": "10",
                                    "nev": "Jogrerős Pál"
                                },
                                {
                                    "oktato_id": "6",
                                    "nev": "Szép llonka"
                                },
                                {
                                    "oktato_id": "6",
                                    "nev": "Szép llonka"
                                },
                                {
                                    "oktato_id": "7",
                                    "nev": "Kiss János"
                                },
                                {
                                    "oktato_id": "7",
                                    "nev": "Kiss János"
                                },
                                {
                                    "oktato_id": "8",
                                    "nev": "Pelikán József"
                                },
                                {
                                    "oktato_id": "8",
                                    "nev": "Pelikán József"
                                },
                                {
                                    "oktato_id": "6",
                                    "nev": "Szép llonka"
                                },
                                {
                                    "oktato_id": "6",
                                    "nev": "Szép llonka"
                                },
                                {
                                    "oktato_id": "8",
                                    "nev": "Pelikán József"
                                },
                                {
                                    "oktato_id": "8",
                                    "nev": "Pelikán József"
                                },
                                {
                                    "oktato_id": "1",
                                    "nev": "Kovács László"
                                },
                                {
                                    "oktato_id": "2",
                                    "nev": "Szentágotai Istvás"
                                }
                            ]
                        },
                        "text/html": [
                            "<table>",
                            "<tr><th>oktato_id</th><th>nev</th></tr>",
                            "<tr><td>8</td><td>Pelikán József</td></tr>",
                            "<tr><td>8</td><td>Pelikán József</td></tr>",
                            "<tr><td>20</td><td>Kovács András</td></tr>",
                            "<tr><td>7</td><td>Kiss János</td></tr>",
                            "<tr><td>3</td><td>Szerb László</td></tr>",
                            "<tr><td>3</td><td>Szerb László</td></tr>",
                            "<tr><td>2</td><td>Szentágotai Istvás</td></tr>",
                            "<tr><td>20</td><td>Kovács András</td></tr>",
                            "<tr><td>104</td><td>Ludas Mátyás</td></tr>",
                            "<tr><td>14</td><td>Szénási ászló</td></tr>",
                            "<tr><td>7</td><td>Kiss János</td></tr>",
                            "<tr><td>18</td><td>Nógrádi Kata</td></tr>",
                            "<tr><td>12</td><td>Varga Kata</td></tr>",
                            "<tr><td>12</td><td>Varga Kata</td></tr>",
                            "<tr><td>9</td><td>Farkasos Piroska</td></tr>",
                            "<tr><td>9</td><td>Farkasos Piroska</td></tr>",
                            "<tr><td>5</td><td>Balkán András</td></tr>",
                            "<tr><td>5</td><td>Balkán András</td></tr>",
                            "<tr><td>200</td><td>Aranyi Mária</td></tr>",
                            "<tr><td>108</td><td>Róbert Gida</td></tr>",
                            "<tr><td>4</td><td>Ujfalussi István</td></tr>",
                            "<tr><td>12</td><td>Varga Kata</td></tr>",
                            "<tr><td>10</td><td>Jogrerős Pál</td></tr>",
                            "<tr><td>10</td><td>Jogrerős Pál</td></tr>",
                            "<tr><td>6</td><td>Szép llonka</td></tr>",
                            "<tr><td>6</td><td>Szép llonka</td></tr>",
                            "<tr><td>7</td><td>Kiss János</td></tr>",
                            "<tr><td>7</td><td>Kiss János</td></tr>",
                            "<tr><td>8</td><td>Pelikán József</td></tr>",
                            "<tr><td>8</td><td>Pelikán József</td></tr>",
                            "<tr><td>6</td><td>Szép llonka</td></tr>",
                            "<tr><td>6</td><td>Szép llonka</td></tr>",
                            "<tr><td>8</td><td>Pelikán József</td></tr>",
                            "<tr><td>8</td><td>Pelikán József</td></tr>",
                            "<tr><td>1</td><td>Kovács László</td></tr>",
                            "<tr><td>2</td><td>Szentágotai Istvás</td></tr>",
                            "</table>"
                        ]
                    }
                }
            ],
            "execution_count": 7
        },
        {
            "cell_type": "markdown",
            "source": [
                "7. <span style=\"background-color: rgb(255, 255, 255); color: rgb(36, 41, 47); font-family: -apple-system, BlinkMacSystemFont, &quot;Segoe UI&quot;, Helvetica, Arial, sans-serif, &quot;Apple Color Emoji&quot;, &quot;Segoe UI Emoji&quot;; font-size: 16px; font-weight: 600;\">Melyek azok a tantárgyak, amelyek esetén van óra a 8.00-kor kezdődő sávban, de nincs a 12.30-kor kezdődő sávban?</span>"
            ],
            "metadata": {
                "azdata_cell_guid": "3aeb6bf5-b111-40d5-92b2-9712ce335696"
            },
            "attachments": {}
        },
        {
            "cell_type": "code",
            "source": [
                "--A lekérdezés melyek kezdődnek 8:00-kor\r\n",
                "SELECT t. Tantárgynév\r\n",
                "FROM Orak o JOIN Tantárgyak t on o.targy = t.Tkód\r\n",
                "            JOIN Savok s On o.Sav = s.Sav_id\r\n",
                "WHERE s.Időpont = '8.00'\r\n",
                "\r\n",
                "EXCEPT --union meg intercept? lenne más opció\r\n",
                "--B lekérdezés melyek kezdődnek 12:30-kor\r\n",
                "\r\n",
                "\r\n",
                "SELECT t. Tantárgynév\r\n",
                "FROM Orak o JOIN Tantárgyak t on o.targy = t.Tkód\r\n",
                "            JOIN Savok s On o.Sav = s.Sav_id\r\n",
                "WHERE s.Időpont = '12.30'"
            ],
            "metadata": {
                "azdata_cell_guid": "3e89b651-f56f-4102-af52-30eb2bbe360d",
                "language": "sql"
            },
            "outputs": [
                {
                    "output_type": "display_data",
                    "data": {
                        "text/html": "(3 rows affected)"
                    },
                    "metadata": {}
                },
                {
                    "output_type": "display_data",
                    "data": {
                        "text/html": "Total execution time: 00:00:00.011"
                    },
                    "metadata": {}
                },
                {
                    "output_type": "execute_result",
                    "execution_count": 2,
                    "data": {
                        "application/vnd.dataresource+json": {
                            "schema": {
                                "fields": [
                                    {
                                        "name": "Tantárgynév"
                                    }
                                ]
                            },
                            "data": [
                                {
                                    "Tantárgynév": "Az ürgeöntés hydrológiai alapjai II."
                                },
                                {
                                    "Tantárgynév": "Fejezetek az ürgék jogaiból"
                                },
                                {
                                    "Tantárgynév": "Ürgevitel"
                                }
                            ]
                        },
                        "text/html": "<table><tr><th>Tantárgynév</th></tr><tr><td>Az ürgeöntés hydrológiai alapjai II.</td></tr><tr><td>Fejezetek az ürgék jogaiból</td></tr><tr><td>Ürgevitel</td></tr></table>"
                    },
                    "metadata": {}
                }
            ],
            "execution_count": 2
        },
        {
            "cell_type": "markdown",
            "source": [
                "8. <span style=\"background-color: rgb(255, 255, 255); color: rgb(36, 41, 47); font-family: -apple-system, BlinkMacSystemFont, &quot;Segoe UI&quot;, Helvetica, Arial, sans-serif, &quot;Apple Color Emoji&quot;, &quot;Segoe UI Emoji&quot;; font-size: 16px; font-weight: 600;\">Listázzuk azokat a termeket, amelyekben oktat Kovács László és van olyan tanóra a teremben, ahol a tantárgy nevében nem szerepel az 'ürge' szó!</span>"
            ],
            "metadata": {
                "azdata_cell_guid": "26a504dc-ff6a-439f-94c0-4580eca3eacf"
            },
            "attachments": {}
        },
        {
            "cell_type": "code",
            "source": [
                "select t.Terem\r\n",
                "from Termek t JOIN Orak o ON t.Tkód = o.terem\r\n",
                "                JOIN Oktatok okt on o.tanar = okt.oktato_id\r\n",
                "WHERE okt.nev = 'Kovács László'\r\n",
                "\r\n",
                "INTERSECT\r\n",
                "\r\n",
                "SELECT distinct t.terem\r\n",
                "from Termek t JOIN Orak o ON t.Tkód = o.terem\r\n",
                "                JOIN Tantárgyak tan ON o.targy = tan.Tkód \r\n",
                "WHERE tan.Tantárgynév not LIKE '%ürge%'"
            ],
            "metadata": {
                "azdata_cell_guid": "1cbb8aeb-78b5-4350-aa45-e3202fdab85b",
                "language": "sql"
            },
            "outputs": [
                {
                    "output_type": "display_data",
                    "data": {
                        "text/html": "(4 rows affected)"
                    },
                    "metadata": {}
                },
                {
                    "output_type": "display_data",
                    "data": {
                        "text/html": "Total execution time: 00:00:00.028"
                    },
                    "metadata": {}
                },
                {
                    "output_type": "execute_result",
                    "metadata": {},
                    "execution_count": 11,
                    "data": {
                        "application/vnd.dataresource+json": {
                            "schema": {
                                "fields": [
                                    {
                                        "name": "Terem"
                                    }
                                ]
                            },
                            "data": [
                                {
                                    "Terem": "116"
                                },
                                {
                                    "Terem": "119"
                                },
                                {
                                    "Terem": "S.Asor.S3"
                                },
                                {
                                    "Terem": "VP 203."
                                }
                            ]
                        },
                        "text/html": [
                            "<table>",
                            "<tr><th>Terem</th></tr>",
                            "<tr><td>116</td></tr>",
                            "<tr><td>119</td></tr>",
                            "<tr><td>S.Asor.S3</td></tr>",
                            "<tr><td>VP 203.</td></tr>",
                            "</table>"
                        ]
                    }
                }
            ],
            "execution_count": 11
        },
        {
            "cell_type": "markdown",
            "source": [
                "<mark>9. <span style=\"font-weight: 600; color: rgb(36, 41, 47); font-family: -apple-system, BlinkMacSystemFont, &quot;Segoe UI&quot;, Helvetica, Arial, sans-serif, &quot;Apple Color Emoji&quot;, &quot;Segoe UI Emoji&quot;; font-size: 16px;\">Készítsünk listát arról, hogy melyik tanárnak hány órája van a (munka) hét elején (hétfőn), hét közben (kedd, szerda és csütörtök), illetve a hét végén (péntek)!</span></mark>\n",
                "1. Jelenítsük meg a tanár azonosítóját, nevét, az időszakot (hét eleje - hét közben - hét vége), valamint az óraszámot!\n",
                "2. A három megjelölt időszakot külön kérdezzük le, majd fűzzük össze a lekérdezések eredményeit!\n",
                "3. Rendezzük a listát az oktató neve, azon belül időszak szerint!"
            ],
            "metadata": {
                "azdata_cell_guid": "435e2860-2dd5-4877-90f4-34a43baeb53c"
            },
            "attachments": {}
        },
        {
            "cell_type": "code",
            "source": [
                ""
            ],
            "metadata": {
                "azdata_cell_guid": "ce846351-ddbe-4d8e-b8fb-2a92c73ac80b",
                "language": "sql"
            },
            "outputs": [],
            "execution_count": null
        },
        {
            "cell_type": "markdown",
            "source": [
                "10. <span style=\"background-color: rgb(255, 255, 255); color: rgb(36, 41, 47); font-family: -apple-system, BlinkMacSystemFont, &quot;Segoe UI&quot;, Helvetica, Arial, sans-serif, &quot;Apple Color Emoji&quot;, &quot;Segoe UI Emoji&quot;; font-size: 16px; font-weight: 600;\">Melyik napokon nincs órája Pelikán Józsefnek?</span>"
            ],
            "metadata": {
                "azdata_cell_guid": "217c5772-afe2-4a7c-b913-e3a3e09d6411"
            },
            "attachments": {}
        },
        {
            "cell_type": "code",
            "source": [
                "--A lekrdezés: összes nap\r\n",
                "--B lekérdezés: mely napokon van órája\r\n",
                "-- A-B: mikor nincs\r\n",
                "\r\n",
                "SELECT nap\r\n",
                "from Napok\r\n",
                "\r\n",
                "EXCEPT -- a kettő különbsége\r\n",
                "\r\n",
                "SELECT n.nap\r\n",
                "from orak o JOIN Oktatok okt on o.tanar = okt.oktato_id\r\n",
                "            join Napok n on o.nap =  n.nap_id\r\n",
                "WHERE okt.nev = 'Pelikán József'"
            ],
            "metadata": {
                "azdata_cell_guid": "a9cc0926-3dbd-4ed8-8179-1c39d64a0762",
                "language": "sql"
            },
            "outputs": [
                {
                    "output_type": "display_data",
                    "data": {
                        "text/html": "(3 rows affected)"
                    },
                    "metadata": {}
                },
                {
                    "output_type": "display_data",
                    "data": {
                        "text/html": "Total execution time: 00:00:00.016"
                    },
                    "metadata": {}
                },
                {
                    "output_type": "execute_result",
                    "execution_count": 3,
                    "data": {
                        "application/vnd.dataresource+json": {
                            "schema": {
                                "fields": [
                                    {
                                        "name": "nap"
                                    }
                                ]
                            },
                            "data": [
                                {
                                    "nap": "Csütörtök"
                                },
                                {
                                    "nap": "Péntek"
                                },
                                {
                                    "nap": "Szerda"
                                }
                            ]
                        },
                        "text/html": "<table><tr><th>nap</th></tr><tr><td>Csütörtök</td></tr><tr><td>Péntek</td></tr><tr><td>Szerda</td></tr></table>"
                    },
                    "metadata": {}
                }
            ],
            "execution_count": 3
        },
        {
            "cell_type": "code",
            "source": [
                ""
            ],
            "metadata": {
                "azdata_cell_guid": "8d72e7a7-3164-4e2a-a21f-6f3547acb137",
                "language": "sql"
            },
            "outputs": [],
            "execution_count": null
        },
        {
            "cell_type": "markdown",
            "source": [
                "**A 11-15 feladatok gyakorlásra szolgálnak a közelgő zh-ra :-)**\n",
                "\n",
                "11. _Készítsünk listát az oktatók adatairól!_\n",
                "\n",
                "1. Az oktatók titulusa és neve összefűzve jelenjen meg, közöttük szóközzel!\n",
                "2. Ha valakinek nincs titulusa, akkor csak a neve jelenjen meg, szóköz nélkül!\n",
                "3. A listát rendezzük a beosztás kódja, azon belül a státusz kódja szerint növekvő sorrendbe!\n",
                "4. Az oszlopokat nevezzük el értelemszerűen!"
            ],
            "metadata": {
                "azdata_cell_guid": "d2340f5f-1614-473c-b937-85740d67f7c1"
            },
            "attachments": {}
        },
        {
            "cell_type": "code",
            "source": [
                ""
            ],
            "metadata": {
                "azdata_cell_guid": "e99c2c53-898f-4787-b0e6-182d106dc16f",
                "language": "sql"
            },
            "outputs": [],
            "execution_count": null
        },
        {
            "cell_type": "markdown",
            "source": [
                "<span style=\"color: #09885a;\">12</span>. Készítsünk listát, amely megmutatja, hogy összesen hány tantárgy van kreditenkénti csoportosításban!\n",
                "\n",
                "  \n",
                "\n",
                "A listából hagyjuk ki azokat a tételeket, ahol ez a darabszám <span style=\"color: #09885a;\">1</span>!\n",
                "\n",
                "A Folyami gáttan tantárgyat ne vegyük figyelembe!\n",
                "\n",
                "A listát rendezzük darabszám szerint csökkenő sorrendbe!\n",
                "\n",
                "Az oszlopokat nevezzük el értelemszerűen!"
            ],
            "metadata": {
                "azdata_cell_guid": "a765e9d6-58b3-4171-872a-78f3118fd6e3"
            },
            "attachments": {}
        },
        {
            "cell_type": "code",
            "source": [
                ""
            ],
            "metadata": {
                "azdata_cell_guid": "422e8127-b652-4d3a-bfd7-9b1637b5781e",
                "language": "sql"
            },
            "outputs": [],
            "execution_count": null
        },
        {
            "cell_type": "markdown",
            "source": [
                "13. _Készítsünk listát az oktatók nevéről, a beosztásuk alapján elvárt és a tényleges óraszámukról!_\n",
                "\n",
                "1. Az oszlopok neve legyen 'Oktató neve', 'Elvárt óraszám' és 'Tényleges óraszám'\n",
                "2. Szűrjük a listát azokra az oktatókra, ahol az elvárt és a tényleges óraszám azonos"
            ],
            "metadata": {
                "azdata_cell_guid": "3f9237ae-f109-401c-acb9-31d75e73331b"
            },
            "attachments": {}
        },
        {
            "cell_type": "code",
            "source": [
                ""
            ],
            "metadata": {
                "azdata_cell_guid": "4b31bb89-cfbc-46b1-8639-85c462877786",
                "language": "sql"
            },
            "outputs": [],
            "execution_count": null
        },
        {
            "cell_type": "markdown",
            "source": [
                "14. _Készítsünk listát, amely megmutatja, hogy mely tantárgyból nincs óra egyáltalán!_\n",
                "\n",
                "1. Csak a tantárgy neve jelenjen meg!"
            ],
            "metadata": {
                "azdata_cell_guid": "f634e09a-85ef-4e70-8ec6-ef355dfddaa7"
            },
            "attachments": {}
        },
        {
            "cell_type": "code",
            "source": [
                ""
            ],
            "metadata": {
                "azdata_cell_guid": "88abc55b-2c78-495b-a72f-3f8f4eb5fe70",
                "language": "sql"
            },
            "outputs": [],
            "execution_count": null
        },
        {
            "cell_type": "markdown",
            "source": [
                "15. _Hány órájuk van az óraadóknak napi bontásban?_\n",
                "\n",
                "1. Csak a napok nevét és az óraszámot jelenítsük meg!\n",
                "2. Rendezzük a listát óraszám szerint növekvő sorrendbe!"
            ],
            "metadata": {
                "azdata_cell_guid": "4cbf2f0d-a65d-480a-8186-ccdb24498443"
            },
            "attachments": {}
        },
        {
            "cell_type": "code",
            "source": [
                ""
            ],
            "metadata": {
                "azdata_cell_guid": "c148aee8-bc85-40bf-b80a-a4898a6c05cb",
                "language": "sql"
            },
            "outputs": [],
            "execution_count": null
        },
        {
            "cell_type": "code",
            "source": [
                "--szálláshely 1\r\n",
                "SELECT *,\r\n",
                "        CASE\r\n",
                "            WHEN MONTH(METTOL) = 6 THEN 'Igen'\r\n",
                "            WHEN MONTH(METTOL) = 7 THEN 'Igen'\r\n",
                "            WHEN MONTH(METTOL) = 8 THEN 'Igen'\r\n",
                "            ELSE 'Nem'\r\n",
                "        END as 'Nyár?'\r\n",
                "from foglalas\r\n",
                "WHERE UGYFEL_FK = 'laszlo2' and GYERMEK_SZAM = 0"
            ],
            "metadata": {
                "azdata_cell_guid": "c2923f3c-6672-4e19-8186-abdffd874b41",
                "language": "sql"
            },
            "outputs": [
                {
                    "output_type": "display_data",
                    "data": {
                        "text/html": "(1 row affected)"
                    },
                    "metadata": {}
                },
                {
                    "output_type": "display_data",
                    "data": {
                        "text/html": "Total execution time: 00:00:00.005"
                    },
                    "metadata": {}
                },
                {
                    "output_type": "execute_result",
                    "execution_count": 5,
                    "data": {
                        "application/vnd.dataresource+json": {
                            "schema": {
                                "fields": [
                                    {
                                        "name": "FOGLALAS_PK"
                                    },
                                    {
                                        "name": "UGYFEL_FK"
                                    },
                                    {
                                        "name": "SZOBA_FK"
                                    },
                                    {
                                        "name": "METTOL"
                                    },
                                    {
                                        "name": "MEDDIG"
                                    },
                                    {
                                        "name": "FELNOTT_SZAM"
                                    },
                                    {
                                        "name": "GYERMEK_SZAM"
                                    },
                                    {
                                        "name": "Nyár?"
                                    }
                                ]
                            },
                            "data": [
                                {
                                    "FOGLALAS_PK": "561",
                                    "UGYFEL_FK": "laszlo2",
                                    "SZOBA_FK": "42",
                                    "METTOL": "2016-04-06",
                                    "MEDDIG": "2016-04-10",
                                    "FELNOTT_SZAM": "2",
                                    "GYERMEK_SZAM": "0",
                                    "Nyár?": "Nem"
                                }
                            ]
                        },
                        "text/html": "<table><tr><th>FOGLALAS_PK</th><th>UGYFEL_FK</th><th>SZOBA_FK</th><th>METTOL</th><th>MEDDIG</th><th>FELNOTT_SZAM</th><th>GYERMEK_SZAM</th><th>Nyár?</th></tr><tr><td>561</td><td>laszlo2</td><td>42</td><td>2016-04-06</td><td>2016-04-10</td><td>2</td><td>0</td><td>Nem</td></tr></table>"
                    },
                    "metadata": {}
                }
            ],
            "execution_count": 5
        },
        {
            "cell_type": "code",
            "source": [
                "-- Egészítsük ki a megkezdett lekérdezést, amely listázza, hogy szálláshely típusonként, azon belül éves és havi bontában hány foglalás történt! \r\n",
                "\r\n",
                "--  a. Az év és hónap megjelenítésénél a foglalás tábla METTOL oszlopát használjuk! \r\n",
                "\r\n",
                "--  b. A számolásnál csak a legalább 5 napos foglalásokat vegyük figyelembe! \r\n",
                "\r\n",
                " SELECT szh.TIPUS,\r\n",
                "        YEAR(f.METTOL) AS 'Év',\r\n",
                "        MONTH(f.METTOL) AS 'Hónap',\r\n",
                "        count(*) as 'Foglalások_száma'\r\n",
                " \r\n",
                " FROM Foglalas f JOIN Szoba sz ON f.SZOBA_FK = sz.SZOBA_ID \r\n",
                "                    JOIN Szallashely szh on szh.SZALLAS_ID = sz.SZALLAS_FK\r\n",
                " \r\n",
                "\r\n",
                "WHERE DATEDIFF(DAY, f.METTOL, f.MEDDIG)>=5 \r\n",
                "\r\n",
                "GROUP BY szh.TIPUS,\r\n",
                "f.METTOL\r\n",
                ""
            ],
            "metadata": {
                "azdata_cell_guid": "fc5d07e0-41d0-42ea-a48c-35fe816ce206",
                "language": "sql"
            },
            "outputs": [
                {
                    "output_type": "display_data",
                    "data": {
                        "text/html": "(305 rows affected)"
                    },
                    "metadata": {}
                },
                {
                    "output_type": "display_data",
                    "data": {
                        "text/html": "Total execution time: 00:00:00.014"
                    },
                    "metadata": {}
                },
                {
                    "output_type": "execute_result",
                    "execution_count": 10,
                    "data": {
                        "application/vnd.dataresource+json": {
                            "schema": {
                                "fields": [
                                    {
                                        "name": "TIPUS"
                                    },
                                    {
                                        "name": "Év"
                                    },
                                    {
                                        "name": "Hónap"
                                    },
                                    {
                                        "name": "Foglalások_száma"
                                    }
                                ]
                            },
                            "data": [
                                {
                                    "TIPUS": "vendégház",
                                    "Év": "2016",
                                    "Hónap": "4",
                                    "Foglalások_száma": "1"
                                },
                                {
                                    "TIPUS": "Hotel",
                                    "Év": "2016",
                                    "Hónap": "4",
                                    "Foglalások_száma": "1"
                                },
                                {
                                    "TIPUS": "Hotel",
                                    "Év": "2016",
                                    "Hónap": "4",
                                    "Foglalások_száma": "1"
                                },
                                {
                                    "TIPUS": "Apartman",
                                    "Év": "2016",
                                    "Hónap": "4",
                                    "Foglalások_száma": "1"
                                },
                                {
                                    "TIPUS": "Hotel",
                                    "Év": "2016",
                                    "Hónap": "4",
                                    "Foglalások_száma": "3"
                                },
                                {
                                    "TIPUS": "vendégház",
                                    "Év": "2016",
                                    "Hónap": "4",
                                    "Foglalások_száma": "1"
                                },
                                {
                                    "TIPUS": "Hotel",
                                    "Év": "2016",
                                    "Hónap": "4",
                                    "Foglalások_száma": "1"
                                },
                                {
                                    "TIPUS": "Hotel",
                                    "Év": "2016",
                                    "Hónap": "4",
                                    "Foglalások_száma": "1"
                                },
                                {
                                    "TIPUS": "Hotel",
                                    "Év": "2016",
                                    "Hónap": "4",
                                    "Foglalások_száma": "1"
                                },
                                {
                                    "TIPUS": "Hotel",
                                    "Év": "2016",
                                    "Hónap": "4",
                                    "Foglalások_száma": "1"
                                },
                                {
                                    "TIPUS": "Hotel",
                                    "Év": "2016",
                                    "Hónap": "4",
                                    "Foglalások_száma": "2"
                                },
                                {
                                    "TIPUS": "panzió",
                                    "Év": "2016",
                                    "Hónap": "4",
                                    "Foglalások_száma": "1"
                                },
                                {
                                    "TIPUS": "Hotel",
                                    "Év": "2016",
                                    "Hónap": "4",
                                    "Foglalások_száma": "1"
                                },
                                {
                                    "TIPUS": "Hotel",
                                    "Év": "2016",
                                    "Hónap": "4",
                                    "Foglalások_száma": "1"
                                },
                                {
                                    "TIPUS": "Hotel",
                                    "Év": "2016",
                                    "Hónap": "4",
                                    "Foglalások_száma": "1"
                                },
                                {
                                    "TIPUS": "Hotel",
                                    "Év": "2016",
                                    "Hónap": "4",
                                    "Foglalások_száma": "1"
                                },
                                {
                                    "TIPUS": "panzió",
                                    "Év": "2016",
                                    "Hónap": "4",
                                    "Foglalások_száma": "1"
                                },
                                {
                                    "TIPUS": "Apartman",
                                    "Év": "2016",
                                    "Hónap": "4",
                                    "Foglalások_száma": "1"
                                },
                                {
                                    "TIPUS": "Hotel",
                                    "Év": "2016",
                                    "Hónap": "4",
                                    "Foglalások_száma": "1"
                                },
                                {
                                    "TIPUS": "panzió",
                                    "Év": "2016",
                                    "Hónap": "5",
                                    "Foglalások_száma": "1"
                                },
                                {
                                    "TIPUS": "panzió",
                                    "Év": "2016",
                                    "Hónap": "5",
                                    "Foglalások_száma": "1"
                                },
                                {
                                    "TIPUS": "vendégház",
                                    "Év": "2016",
                                    "Hónap": "5",
                                    "Foglalások_száma": "1"
                                },
                                {
                                    "TIPUS": "Hotel",
                                    "Év": "2016",
                                    "Hónap": "5",
                                    "Foglalások_száma": "1"
                                },
                                {
                                    "TIPUS": "Hotel",
                                    "Év": "2016",
                                    "Hónap": "5",
                                    "Foglalások_száma": "1"
                                },
                                {
                                    "TIPUS": "Hotel",
                                    "Év": "2016",
                                    "Hónap": "5",
                                    "Foglalások_száma": "1"
                                },
                                {
                                    "TIPUS": "panzió",
                                    "Év": "2016",
                                    "Hónap": "5",
                                    "Foglalások_száma": "2"
                                },
                                {
                                    "TIPUS": "Hotel",
                                    "Év": "2016",
                                    "Hónap": "5",
                                    "Foglalások_száma": "3"
                                },
                                {
                                    "TIPUS": "Hotel",
                                    "Év": "2016",
                                    "Hónap": "5",
                                    "Foglalások_száma": "1"
                                },
                                {
                                    "TIPUS": "Hotel",
                                    "Év": "2016",
                                    "Hónap": "5",
                                    "Foglalások_száma": "1"
                                },
                                {
                                    "TIPUS": "Hotel",
                                    "Év": "2016",
                                    "Hónap": "5",
                                    "Foglalások_száma": "1"
                                },
                                {
                                    "TIPUS": "Hotel",
                                    "Év": "2016",
                                    "Hónap": "5",
                                    "Foglalások_száma": "1"
                                },
                                {
                                    "TIPUS": "Hotel",
                                    "Év": "2016",
                                    "Hónap": "5",
                                    "Foglalások_száma": "2"
                                },
                                {
                                    "TIPUS": "Hotel",
                                    "Év": "2016",
                                    "Hónap": "5",
                                    "Foglalások_száma": "2"
                                },
                                {
                                    "TIPUS": "vendégház",
                                    "Év": "2016",
                                    "Hónap": "5",
                                    "Foglalások_száma": "1"
                                },
                                {
                                    "TIPUS": "Hotel",
                                    "Év": "2016",
                                    "Hónap": "5",
                                    "Foglalások_száma": "1"
                                },
                                {
                                    "TIPUS": "vendégház",
                                    "Év": "2016",
                                    "Hónap": "5",
                                    "Foglalások_száma": "1"
                                },
                                {
                                    "TIPUS": "Hotel",
                                    "Év": "2016",
                                    "Hónap": "5",
                                    "Foglalások_száma": "1"
                                },
                                {
                                    "TIPUS": "Hotel",
                                    "Év": "2016",
                                    "Hónap": "5",
                                    "Foglalások_száma": "1"
                                },
                                {
                                    "TIPUS": "Apartman",
                                    "Év": "2016",
                                    "Hónap": "5",
                                    "Foglalások_száma": "1"
                                },
                                {
                                    "TIPUS": "Hotel",
                                    "Év": "2016",
                                    "Hónap": "5",
                                    "Foglalások_száma": "2"
                                },
                                {
                                    "TIPUS": "panzió",
                                    "Év": "2016",
                                    "Hónap": "5",
                                    "Foglalások_száma": "1"
                                },
                                {
                                    "TIPUS": "panzió",
                                    "Év": "2016",
                                    "Hónap": "5",
                                    "Foglalások_száma": "1"
                                },
                                {
                                    "TIPUS": "Hotel",
                                    "Év": "2016",
                                    "Hónap": "5",
                                    "Foglalások_száma": "2"
                                },
                                {
                                    "TIPUS": "vendégház",
                                    "Év": "2016",
                                    "Hónap": "5",
                                    "Foglalások_száma": "1"
                                },
                                {
                                    "TIPUS": "Hotel",
                                    "Év": "2016",
                                    "Hónap": "5",
                                    "Foglalások_száma": "2"
                                },
                                {
                                    "TIPUS": "Hotel",
                                    "Év": "2016",
                                    "Hónap": "5",
                                    "Foglalások_száma": "4"
                                },
                                {
                                    "TIPUS": "panzió",
                                    "Év": "2016",
                                    "Hónap": "5",
                                    "Foglalások_száma": "1"
                                },
                                {
                                    "TIPUS": "Hotel",
                                    "Év": "2016",
                                    "Hónap": "5",
                                    "Foglalások_száma": "1"
                                },
                                {
                                    "TIPUS": "panzió",
                                    "Év": "2016",
                                    "Hónap": "5",
                                    "Foglalások_száma": "1"
                                },
                                {
                                    "TIPUS": "Hotel",
                                    "Év": "2016",
                                    "Hónap": "5",
                                    "Foglalások_száma": "4"
                                },
                                {
                                    "TIPUS": "panzió",
                                    "Év": "2016",
                                    "Hónap": "5",
                                    "Foglalások_száma": "1"
                                },
                                {
                                    "TIPUS": "vendégház",
                                    "Év": "2016",
                                    "Hónap": "5",
                                    "Foglalások_száma": "1"
                                },
                                {
                                    "TIPUS": "Hotel",
                                    "Év": "2016",
                                    "Hónap": "6",
                                    "Foglalások_száma": "1"
                                },
                                {
                                    "TIPUS": "Hotel",
                                    "Év": "2016",
                                    "Hónap": "6",
                                    "Foglalások_száma": "1"
                                },
                                {
                                    "TIPUS": "panzió",
                                    "Év": "2016",
                                    "Hónap": "6",
                                    "Foglalások_száma": "1"
                                },
                                {
                                    "TIPUS": "Hotel",
                                    "Év": "2016",
                                    "Hónap": "6",
                                    "Foglalások_száma": "2"
                                },
                                {
                                    "TIPUS": "panzió",
                                    "Év": "2016",
                                    "Hónap": "6",
                                    "Foglalások_száma": "2"
                                },
                                {
                                    "TIPUS": "Hotel",
                                    "Év": "2016",
                                    "Hónap": "6",
                                    "Foglalások_száma": "3"
                                },
                                {
                                    "TIPUS": "panzió",
                                    "Év": "2016",
                                    "Hónap": "6",
                                    "Foglalások_száma": "1"
                                },
                                {
                                    "TIPUS": "vendégház",
                                    "Év": "2016",
                                    "Hónap": "6",
                                    "Foglalások_száma": "1"
                                },
                                {
                                    "TIPUS": "Hotel",
                                    "Év": "2016",
                                    "Hónap": "6",
                                    "Foglalások_száma": "2"
                                },
                                {
                                    "TIPUS": "panzió",
                                    "Év": "2016",
                                    "Hónap": "6",
                                    "Foglalások_száma": "2"
                                },
                                {
                                    "TIPUS": "Hotel",
                                    "Év": "2016",
                                    "Hónap": "6",
                                    "Foglalások_száma": "1"
                                },
                                {
                                    "TIPUS": "Apartman",
                                    "Év": "2016",
                                    "Hónap": "6",
                                    "Foglalások_száma": "1"
                                },
                                {
                                    "TIPUS": "Hotel",
                                    "Év": "2016",
                                    "Hónap": "6",
                                    "Foglalások_száma": "2"
                                },
                                {
                                    "TIPUS": "vendégház",
                                    "Év": "2016",
                                    "Hónap": "6",
                                    "Foglalások_száma": "1"
                                },
                                {
                                    "TIPUS": "Hotel",
                                    "Év": "2016",
                                    "Hónap": "6",
                                    "Foglalások_száma": "1"
                                },
                                {
                                    "TIPUS": "Hotel",
                                    "Év": "2016",
                                    "Hónap": "6",
                                    "Foglalások_száma": "3"
                                },
                                {
                                    "TIPUS": "Hotel",
                                    "Év": "2016",
                                    "Hónap": "6",
                                    "Foglalások_száma": "1"
                                },
                                {
                                    "TIPUS": "panzió",
                                    "Év": "2016",
                                    "Hónap": "6",
                                    "Foglalások_száma": "1"
                                },
                                {
                                    "TIPUS": "Hotel",
                                    "Év": "2016",
                                    "Hónap": "6",
                                    "Foglalások_száma": "4"
                                },
                                {
                                    "TIPUS": "vendégház",
                                    "Év": "2016",
                                    "Hónap": "6",
                                    "Foglalások_száma": "1"
                                },
                                {
                                    "TIPUS": "Hotel",
                                    "Év": "2016",
                                    "Hónap": "6",
                                    "Foglalások_száma": "1"
                                },
                                {
                                    "TIPUS": "Hotel",
                                    "Év": "2016",
                                    "Hónap": "6",
                                    "Foglalások_száma": "1"
                                },
                                {
                                    "TIPUS": "panzió",
                                    "Év": "2016",
                                    "Hónap": "6",
                                    "Foglalások_száma": "1"
                                },
                                {
                                    "TIPUS": "Hotel",
                                    "Év": "2016",
                                    "Hónap": "6",
                                    "Foglalások_száma": "1"
                                },
                                {
                                    "TIPUS": "panzió",
                                    "Év": "2016",
                                    "Hónap": "6",
                                    "Foglalások_száma": "1"
                                },
                                {
                                    "TIPUS": "panzió",
                                    "Év": "2016",
                                    "Hónap": "6",
                                    "Foglalások_száma": "1"
                                },
                                {
                                    "TIPUS": "Hotel",
                                    "Év": "2016",
                                    "Hónap": "6",
                                    "Foglalások_száma": "1"
                                },
                                {
                                    "TIPUS": "Hotel",
                                    "Év": "2016",
                                    "Hónap": "6",
                                    "Foglalások_száma": "1"
                                },
                                {
                                    "TIPUS": "Hotel",
                                    "Év": "2016",
                                    "Hónap": "6",
                                    "Foglalások_száma": "3"
                                },
                                {
                                    "TIPUS": "Hotel",
                                    "Év": "2016",
                                    "Hónap": "7",
                                    "Foglalások_száma": "1"
                                },
                                {
                                    "TIPUS": "panzió",
                                    "Év": "2016",
                                    "Hónap": "7",
                                    "Foglalások_száma": "1"
                                },
                                {
                                    "TIPUS": "vendégház",
                                    "Év": "2016",
                                    "Hónap": "7",
                                    "Foglalások_száma": "1"
                                },
                                {
                                    "TIPUS": "panzió",
                                    "Év": "2016",
                                    "Hónap": "7",
                                    "Foglalások_száma": "1"
                                },
                                {
                                    "TIPUS": "Hotel",
                                    "Év": "2016",
                                    "Hónap": "7",
                                    "Foglalások_száma": "2"
                                },
                                {
                                    "TIPUS": "panzió",
                                    "Év": "2016",
                                    "Hónap": "7",
                                    "Foglalások_száma": "1"
                                },
                                {
                                    "TIPUS": "Hotel",
                                    "Év": "2016",
                                    "Hónap": "7",
                                    "Foglalások_száma": "2"
                                },
                                {
                                    "TIPUS": "panzió",
                                    "Év": "2016",
                                    "Hónap": "7",
                                    "Foglalások_száma": "1"
                                },
                                {
                                    "TIPUS": "vendégház",
                                    "Év": "2016",
                                    "Hónap": "7",
                                    "Foglalások_száma": "1"
                                },
                                {
                                    "TIPUS": "panzió",
                                    "Év": "2016",
                                    "Hónap": "7",
                                    "Foglalások_száma": "1"
                                },
                                {
                                    "TIPUS": "Hotel",
                                    "Év": "2016",
                                    "Hónap": "7",
                                    "Foglalások_száma": "1"
                                },
                                {
                                    "TIPUS": "Hotel",
                                    "Év": "2016",
                                    "Hónap": "7",
                                    "Foglalások_száma": "2"
                                },
                                {
                                    "TIPUS": "vendégház",
                                    "Év": "2016",
                                    "Hónap": "7",
                                    "Foglalások_száma": "1"
                                },
                                {
                                    "TIPUS": "Hotel",
                                    "Év": "2016",
                                    "Hónap": "7",
                                    "Foglalások_száma": "2"
                                },
                                {
                                    "TIPUS": "Hotel",
                                    "Év": "2016",
                                    "Hónap": "7",
                                    "Foglalások_száma": "1"
                                },
                                {
                                    "TIPUS": "Hotel",
                                    "Év": "2016",
                                    "Hónap": "7",
                                    "Foglalások_száma": "1"
                                },
                                {
                                    "TIPUS": "panzió",
                                    "Év": "2016",
                                    "Hónap": "7",
                                    "Foglalások_száma": "1"
                                },
                                {
                                    "TIPUS": "Hotel",
                                    "Év": "2016",
                                    "Hónap": "7",
                                    "Foglalások_száma": "1"
                                },
                                {
                                    "TIPUS": "Hotel",
                                    "Év": "2016",
                                    "Hónap": "7",
                                    "Foglalások_száma": "4"
                                },
                                {
                                    "TIPUS": "Hotel",
                                    "Év": "2016",
                                    "Hónap": "7",
                                    "Foglalások_száma": "1"
                                },
                                {
                                    "TIPUS": "Hotel",
                                    "Év": "2016",
                                    "Hónap": "7",
                                    "Foglalások_száma": "1"
                                },
                                {
                                    "TIPUS": "Apartman",
                                    "Év": "2016",
                                    "Hónap": "7",
                                    "Foglalások_száma": "1"
                                },
                                {
                                    "TIPUS": "Hotel",
                                    "Év": "2016",
                                    "Hónap": "7",
                                    "Foglalások_száma": "2"
                                },
                                {
                                    "TIPUS": "Hotel",
                                    "Év": "2016",
                                    "Hónap": "7",
                                    "Foglalások_száma": "1"
                                },
                                {
                                    "TIPUS": "Hotel",
                                    "Év": "2016",
                                    "Hónap": "7",
                                    "Foglalások_száma": "3"
                                },
                                {
                                    "TIPUS": "panzió",
                                    "Év": "2016",
                                    "Hónap": "7",
                                    "Foglalások_száma": "1"
                                },
                                {
                                    "TIPUS": "Hotel",
                                    "Év": "2016",
                                    "Hónap": "7",
                                    "Foglalások_száma": "3"
                                },
                                {
                                    "TIPUS": "Hotel",
                                    "Év": "2016",
                                    "Hónap": "7",
                                    "Foglalások_száma": "2"
                                },
                                {
                                    "TIPUS": "vendégház",
                                    "Év": "2016",
                                    "Hónap": "7",
                                    "Foglalások_száma": "1"
                                },
                                {
                                    "TIPUS": "vendégház",
                                    "Év": "2016",
                                    "Hónap": "7",
                                    "Foglalások_száma": "1"
                                },
                                {
                                    "TIPUS": "Hotel",
                                    "Év": "2016",
                                    "Hónap": "8",
                                    "Foglalások_száma": "1"
                                },
                                {
                                    "TIPUS": "Hotel",
                                    "Év": "2016",
                                    "Hónap": "8",
                                    "Foglalások_száma": "1"
                                },
                                {
                                    "TIPUS": "panzió",
                                    "Év": "2016",
                                    "Hónap": "8",
                                    "Foglalások_száma": "2"
                                },
                                {
                                    "TIPUS": "Apartman",
                                    "Év": "2016",
                                    "Hónap": "8",
                                    "Foglalások_száma": "1"
                                },
                                {
                                    "TIPUS": "Apartman",
                                    "Év": "2016",
                                    "Hónap": "8",
                                    "Foglalások_száma": "1"
                                },
                                {
                                    "TIPUS": "Hotel",
                                    "Év": "2016",
                                    "Hónap": "8",
                                    "Foglalások_száma": "1"
                                },
                                {
                                    "TIPUS": "vendégház",
                                    "Év": "2016",
                                    "Hónap": "8",
                                    "Foglalások_száma": "1"
                                },
                                {
                                    "TIPUS": "Hotel",
                                    "Év": "2016",
                                    "Hónap": "8",
                                    "Foglalások_száma": "1"
                                },
                                {
                                    "TIPUS": "Hotel",
                                    "Év": "2016",
                                    "Hónap": "8",
                                    "Foglalások_száma": "2"
                                },
                                {
                                    "TIPUS": "vendégház",
                                    "Év": "2016",
                                    "Hónap": "8",
                                    "Foglalások_száma": "1"
                                },
                                {
                                    "TIPUS": "Hotel",
                                    "Év": "2016",
                                    "Hónap": "8",
                                    "Foglalások_száma": "1"
                                },
                                {
                                    "TIPUS": "panzió",
                                    "Év": "2016",
                                    "Hónap": "8",
                                    "Foglalások_száma": "1"
                                },
                                {
                                    "TIPUS": "Hotel",
                                    "Év": "2016",
                                    "Hónap": "8",
                                    "Foglalások_száma": "4"
                                },
                                {
                                    "TIPUS": "vendégház",
                                    "Év": "2016",
                                    "Hónap": "8",
                                    "Foglalások_száma": "3"
                                },
                                {
                                    "TIPUS": "panzió",
                                    "Év": "2016",
                                    "Hónap": "8",
                                    "Foglalások_száma": "1"
                                },
                                {
                                    "TIPUS": "Hotel",
                                    "Év": "2016",
                                    "Hónap": "8",
                                    "Foglalások_száma": "1"
                                },
                                {
                                    "TIPUS": "Hotel",
                                    "Év": "2016",
                                    "Hónap": "8",
                                    "Foglalások_száma": "2"
                                },
                                {
                                    "TIPUS": "panzió",
                                    "Év": "2016",
                                    "Hónap": "8",
                                    "Foglalások_száma": "2"
                                },
                                {
                                    "TIPUS": "Hotel",
                                    "Év": "2016",
                                    "Hónap": "8",
                                    "Foglalások_száma": "1"
                                },
                                {
                                    "TIPUS": "Hotel",
                                    "Év": "2016",
                                    "Hónap": "8",
                                    "Foglalások_száma": "1"
                                },
                                {
                                    "TIPUS": "Hotel",
                                    "Év": "2016",
                                    "Hónap": "8",
                                    "Foglalások_száma": "1"
                                },
                                {
                                    "TIPUS": "Hotel",
                                    "Év": "2016",
                                    "Hónap": "8",
                                    "Foglalások_száma": "1"
                                },
                                {
                                    "TIPUS": "Hotel",
                                    "Év": "2016",
                                    "Hónap": "8",
                                    "Foglalások_száma": "1"
                                },
                                {
                                    "TIPUS": "Hotel",
                                    "Év": "2016",
                                    "Hónap": "8",
                                    "Foglalások_száma": "2"
                                },
                                {
                                    "TIPUS": "Hotel",
                                    "Év": "2016",
                                    "Hónap": "8",
                                    "Foglalások_száma": "1"
                                },
                                {
                                    "TIPUS": "Hotel",
                                    "Év": "2016",
                                    "Hónap": "9",
                                    "Foglalások_száma": "3"
                                },
                                {
                                    "TIPUS": "Hotel",
                                    "Év": "2016",
                                    "Hónap": "9",
                                    "Foglalások_száma": "1"
                                },
                                {
                                    "TIPUS": "Apartman",
                                    "Év": "2016",
                                    "Hónap": "9",
                                    "Foglalások_száma": "1"
                                },
                                {
                                    "TIPUS": "Apartman",
                                    "Év": "2016",
                                    "Hónap": "9",
                                    "Foglalások_száma": "1"
                                },
                                {
                                    "TIPUS": "Hotel",
                                    "Év": "2016",
                                    "Hónap": "9",
                                    "Foglalások_száma": "1"
                                },
                                {
                                    "TIPUS": "Hotel",
                                    "Év": "2016",
                                    "Hónap": "9",
                                    "Foglalások_száma": "1"
                                },
                                {
                                    "TIPUS": "vendégház",
                                    "Év": "2016",
                                    "Hónap": "9",
                                    "Foglalások_száma": "1"
                                },
                                {
                                    "TIPUS": "Hotel",
                                    "Év": "2016",
                                    "Hónap": "9",
                                    "Foglalások_száma": "1"
                                },
                                {
                                    "TIPUS": "Hotel",
                                    "Év": "2016",
                                    "Hónap": "9",
                                    "Foglalások_száma": "1"
                                },
                                {
                                    "TIPUS": "Apartman",
                                    "Év": "2016",
                                    "Hónap": "9",
                                    "Foglalások_száma": "1"
                                },
                                {
                                    "TIPUS": "panzió",
                                    "Év": "2016",
                                    "Hónap": "9",
                                    "Foglalások_száma": "1"
                                },
                                {
                                    "TIPUS": "Hotel",
                                    "Év": "2016",
                                    "Hónap": "9",
                                    "Foglalások_száma": "1"
                                },
                                {
                                    "TIPUS": "Hotel",
                                    "Év": "2016",
                                    "Hónap": "9",
                                    "Foglalások_száma": "1"
                                },
                                {
                                    "TIPUS": "panzió",
                                    "Év": "2016",
                                    "Hónap": "9",
                                    "Foglalások_száma": "1"
                                },
                                {
                                    "TIPUS": "Hotel",
                                    "Év": "2016",
                                    "Hónap": "9",
                                    "Foglalások_száma": "1"
                                },
                                {
                                    "TIPUS": "vendégház",
                                    "Év": "2016",
                                    "Hónap": "9",
                                    "Foglalások_száma": "2"
                                },
                                {
                                    "TIPUS": "vendégház",
                                    "Év": "2016",
                                    "Hónap": "9",
                                    "Foglalások_száma": "1"
                                },
                                {
                                    "TIPUS": "Hotel",
                                    "Év": "2016",
                                    "Hónap": "9",
                                    "Foglalások_száma": "1"
                                },
                                {
                                    "TIPUS": "panzió",
                                    "Év": "2016",
                                    "Hónap": "9",
                                    "Foglalások_száma": "2"
                                },
                                {
                                    "TIPUS": "Hotel",
                                    "Év": "2016",
                                    "Hónap": "9",
                                    "Foglalások_száma": "1"
                                },
                                {
                                    "TIPUS": "panzió",
                                    "Év": "2016",
                                    "Hónap": "9",
                                    "Foglalások_száma": "1"
                                },
                                {
                                    "TIPUS": "Hotel",
                                    "Év": "2016",
                                    "Hónap": "9",
                                    "Foglalások_száma": "1"
                                },
                                {
                                    "TIPUS": "Hotel",
                                    "Év": "2016",
                                    "Hónap": "9",
                                    "Foglalások_száma": "5"
                                },
                                {
                                    "TIPUS": "panzió",
                                    "Év": "2016",
                                    "Hónap": "9",
                                    "Foglalások_száma": "1"
                                },
                                {
                                    "TIPUS": "Apartman",
                                    "Év": "2016",
                                    "Hónap": "10",
                                    "Foglalások_száma": "2"
                                },
                                {
                                    "TIPUS": "Hotel",
                                    "Év": "2016",
                                    "Hónap": "10",
                                    "Foglalások_száma": "2"
                                },
                                {
                                    "TIPUS": "vendégház",
                                    "Év": "2016",
                                    "Hónap": "10",
                                    "Foglalások_száma": "1"
                                },
                                {
                                    "TIPUS": "panzió",
                                    "Év": "2016",
                                    "Hónap": "10",
                                    "Foglalások_száma": "1"
                                },
                                {
                                    "TIPUS": "Hotel",
                                    "Év": "2016",
                                    "Hónap": "10",
                                    "Foglalások_száma": "2"
                                },
                                {
                                    "TIPUS": "vendégház",
                                    "Év": "2016",
                                    "Hónap": "10",
                                    "Foglalások_száma": "1"
                                },
                                {
                                    "TIPUS": "Hotel",
                                    "Év": "2016",
                                    "Hónap": "10",
                                    "Foglalások_száma": "1"
                                },
                                {
                                    "TIPUS": "vendégház",
                                    "Év": "2016",
                                    "Hónap": "10",
                                    "Foglalások_száma": "1"
                                },
                                {
                                    "TIPUS": "Apartman",
                                    "Év": "2016",
                                    "Hónap": "10",
                                    "Foglalások_száma": "1"
                                },
                                {
                                    "TIPUS": "Hotel",
                                    "Év": "2016",
                                    "Hónap": "10",
                                    "Foglalások_száma": "2"
                                },
                                {
                                    "TIPUS": "panzió",
                                    "Év": "2016",
                                    "Hónap": "10",
                                    "Foglalások_száma": "1"
                                },
                                {
                                    "TIPUS": "Hotel",
                                    "Év": "2016",
                                    "Hónap": "10",
                                    "Foglalások_száma": "1"
                                },
                                {
                                    "TIPUS": "panzió",
                                    "Év": "2016",
                                    "Hónap": "10",
                                    "Foglalások_száma": "1"
                                },
                                {
                                    "TIPUS": "panzió",
                                    "Év": "2016",
                                    "Hónap": "10",
                                    "Foglalások_száma": "1"
                                },
                                {
                                    "TIPUS": "Hotel",
                                    "Év": "2016",
                                    "Hónap": "10",
                                    "Foglalások_száma": "1"
                                },
                                {
                                    "TIPUS": "vendégház",
                                    "Év": "2016",
                                    "Hónap": "10",
                                    "Foglalások_száma": "1"
                                },
                                {
                                    "TIPUS": "Hotel",
                                    "Év": "2016",
                                    "Hónap": "10",
                                    "Foglalások_száma": "2"
                                },
                                {
                                    "TIPUS": "Hotel",
                                    "Év": "2016",
                                    "Hónap": "10",
                                    "Foglalások_száma": "1"
                                },
                                {
                                    "TIPUS": "vendégház",
                                    "Év": "2016",
                                    "Hónap": "10",
                                    "Foglalások_száma": "1"
                                },
                                {
                                    "TIPUS": "Hotel",
                                    "Év": "2016",
                                    "Hónap": "10",
                                    "Foglalások_száma": "2"
                                },
                                {
                                    "TIPUS": "Hotel",
                                    "Év": "2016",
                                    "Hónap": "10",
                                    "Foglalások_száma": "3"
                                },
                                {
                                    "TIPUS": "Apartman",
                                    "Év": "2016",
                                    "Hónap": "10",
                                    "Foglalások_száma": "2"
                                },
                                {
                                    "TIPUS": "Hotel",
                                    "Év": "2016",
                                    "Hónap": "10",
                                    "Foglalások_száma": "1"
                                },
                                {
                                    "TIPUS": "panzió",
                                    "Év": "2016",
                                    "Hónap": "10",
                                    "Foglalások_száma": "1"
                                },
                                {
                                    "TIPUS": "Hotel",
                                    "Év": "2016",
                                    "Hónap": "10",
                                    "Foglalások_száma": "4"
                                },
                                {
                                    "TIPUS": "panzió",
                                    "Év": "2016",
                                    "Hónap": "10",
                                    "Foglalások_száma": "2"
                                },
                                {
                                    "TIPUS": "Apartman",
                                    "Év": "2016",
                                    "Hónap": "10",
                                    "Foglalások_száma": "1"
                                },
                                {
                                    "TIPUS": "vendégház",
                                    "Év": "2016",
                                    "Hónap": "10",
                                    "Foglalások_száma": "1"
                                },
                                {
                                    "TIPUS": "Hotel",
                                    "Év": "2016",
                                    "Hónap": "10",
                                    "Foglalások_száma": "1"
                                },
                                {
                                    "TIPUS": "Apartman",
                                    "Év": "2016",
                                    "Hónap": "10",
                                    "Foglalások_száma": "1"
                                },
                                {
                                    "TIPUS": "Hotel",
                                    "Év": "2016",
                                    "Hónap": "10",
                                    "Foglalások_száma": "4"
                                },
                                {
                                    "TIPUS": "panzió",
                                    "Év": "2016",
                                    "Hónap": "10",
                                    "Foglalások_száma": "1"
                                },
                                {
                                    "TIPUS": "Apartman",
                                    "Év": "2016",
                                    "Hónap": "10",
                                    "Foglalások_száma": "1"
                                },
                                {
                                    "TIPUS": "vendégház",
                                    "Év": "2016",
                                    "Hónap": "10",
                                    "Foglalások_száma": "1"
                                },
                                {
                                    "TIPUS": "Apartman",
                                    "Év": "2016",
                                    "Hónap": "10",
                                    "Foglalások_száma": "1"
                                },
                                {
                                    "TIPUS": "Hotel",
                                    "Év": "2016",
                                    "Hónap": "10",
                                    "Foglalások_száma": "1"
                                },
                                {
                                    "TIPUS": "Hotel",
                                    "Év": "2016",
                                    "Hónap": "10",
                                    "Foglalások_száma": "1"
                                },
                                {
                                    "TIPUS": "panzió",
                                    "Év": "2016",
                                    "Hónap": "10",
                                    "Foglalások_száma": "1"
                                },
                                {
                                    "TIPUS": "Hotel",
                                    "Év": "2016",
                                    "Hónap": "10",
                                    "Foglalások_száma": "6"
                                },
                                {
                                    "TIPUS": "panzió",
                                    "Év": "2016",
                                    "Hónap": "10",
                                    "Foglalások_száma": "2"
                                },
                                {
                                    "TIPUS": "Hotel",
                                    "Év": "2016",
                                    "Hónap": "10",
                                    "Foglalások_száma": "1"
                                },
                                {
                                    "TIPUS": "panzió",
                                    "Év": "2016",
                                    "Hónap": "11",
                                    "Foglalások_száma": "1"
                                },
                                {
                                    "TIPUS": "Hotel",
                                    "Év": "2016",
                                    "Hónap": "11",
                                    "Foglalások_száma": "3"
                                },
                                {
                                    "TIPUS": "panzió",
                                    "Év": "2016",
                                    "Hónap": "11",
                                    "Foglalások_száma": "1"
                                },
                                {
                                    "TIPUS": "Hotel",
                                    "Év": "2016",
                                    "Hónap": "11",
                                    "Foglalások_száma": "1"
                                },
                                {
                                    "TIPUS": "Hotel",
                                    "Év": "2016",
                                    "Hónap": "11",
                                    "Foglalások_száma": "1"
                                },
                                {
                                    "TIPUS": "Hotel",
                                    "Év": "2016",
                                    "Hónap": "11",
                                    "Foglalások_száma": "3"
                                },
                                {
                                    "TIPUS": "vendégház",
                                    "Év": "2016",
                                    "Hónap": "11",
                                    "Foglalások_száma": "1"
                                },
                                {
                                    "TIPUS": "vendégház",
                                    "Év": "2016",
                                    "Hónap": "11",
                                    "Foglalások_száma": "1"
                                },
                                {
                                    "TIPUS": "Hotel",
                                    "Év": "2016",
                                    "Hónap": "11",
                                    "Foglalások_száma": "1"
                                },
                                {
                                    "TIPUS": "Apartman",
                                    "Év": "2016",
                                    "Hónap": "11",
                                    "Foglalások_száma": "1"
                                },
                                {
                                    "TIPUS": "Hotel",
                                    "Év": "2016",
                                    "Hónap": "11",
                                    "Foglalások_száma": "1"
                                },
                                {
                                    "TIPUS": "panzió",
                                    "Év": "2016",
                                    "Hónap": "11",
                                    "Foglalások_száma": "1"
                                },
                                {
                                    "TIPUS": "Hotel",
                                    "Év": "2016",
                                    "Hónap": "11",
                                    "Foglalások_száma": "1"
                                },
                                {
                                    "TIPUS": "Hotel",
                                    "Év": "2016",
                                    "Hónap": "11",
                                    "Foglalások_száma": "1"
                                },
                                {
                                    "TIPUS": "Hotel",
                                    "Év": "2016",
                                    "Hónap": "11",
                                    "Foglalások_száma": "1"
                                },
                                {
                                    "TIPUS": "Hotel",
                                    "Év": "2016",
                                    "Hónap": "11",
                                    "Foglalások_száma": "1"
                                },
                                {
                                    "TIPUS": "Hotel",
                                    "Év": "2016",
                                    "Hónap": "11",
                                    "Foglalások_száma": "1"
                                },
                                {
                                    "TIPUS": "Hotel",
                                    "Év": "2016",
                                    "Hónap": "11",
                                    "Foglalások_száma": "1"
                                },
                                {
                                    "TIPUS": "Apartman",
                                    "Év": "2016",
                                    "Hónap": "11",
                                    "Foglalások_száma": "1"
                                },
                                {
                                    "TIPUS": "Hotel",
                                    "Év": "2016",
                                    "Hónap": "11",
                                    "Foglalások_száma": "1"
                                },
                                {
                                    "TIPUS": "Hotel",
                                    "Év": "2016",
                                    "Hónap": "11",
                                    "Foglalások_száma": "2"
                                },
                                {
                                    "TIPUS": "vendégház",
                                    "Év": "2016",
                                    "Hónap": "11",
                                    "Foglalások_száma": "1"
                                },
                                {
                                    "TIPUS": "Hotel",
                                    "Év": "2016",
                                    "Hónap": "11",
                                    "Foglalások_száma": "1"
                                },
                                {
                                    "TIPUS": "Apartman",
                                    "Év": "2016",
                                    "Hónap": "11",
                                    "Foglalások_száma": "1"
                                },
                                {
                                    "TIPUS": "vendégház",
                                    "Év": "2016",
                                    "Hónap": "11",
                                    "Foglalások_száma": "1"
                                },
                                {
                                    "TIPUS": "Hotel",
                                    "Év": "2016",
                                    "Hónap": "11",
                                    "Foglalások_száma": "2"
                                },
                                {
                                    "TIPUS": "Hotel",
                                    "Év": "2016",
                                    "Hónap": "11",
                                    "Foglalások_száma": "1"
                                },
                                {
                                    "TIPUS": "Hotel",
                                    "Év": "2016",
                                    "Hónap": "11",
                                    "Foglalások_száma": "3"
                                },
                                {
                                    "TIPUS": "Hotel",
                                    "Év": "2016",
                                    "Hónap": "11",
                                    "Foglalások_száma": "1"
                                },
                                {
                                    "TIPUS": "panzió",
                                    "Év": "2016",
                                    "Hónap": "12",
                                    "Foglalások_száma": "1"
                                },
                                {
                                    "TIPUS": "Hotel",
                                    "Év": "2016",
                                    "Hónap": "12",
                                    "Foglalások_száma": "1"
                                },
                                {
                                    "TIPUS": "Hotel",
                                    "Év": "2016",
                                    "Hónap": "12",
                                    "Foglalások_száma": "1"
                                },
                                {
                                    "TIPUS": "Hotel",
                                    "Év": "2016",
                                    "Hónap": "12",
                                    "Foglalások_száma": "2"
                                },
                                {
                                    "TIPUS": "Hotel",
                                    "Év": "2016",
                                    "Hónap": "12",
                                    "Foglalások_száma": "1"
                                },
                                {
                                    "TIPUS": "panzió",
                                    "Év": "2016",
                                    "Hónap": "12",
                                    "Foglalások_száma": "1"
                                },
                                {
                                    "TIPUS": "Apartman",
                                    "Év": "2016",
                                    "Hónap": "12",
                                    "Foglalások_száma": "1"
                                },
                                {
                                    "TIPUS": "Hotel",
                                    "Év": "2016",
                                    "Hónap": "12",
                                    "Foglalások_száma": "1"
                                },
                                {
                                    "TIPUS": "Hotel",
                                    "Év": "2016",
                                    "Hónap": "12",
                                    "Foglalások_száma": "1"
                                },
                                {
                                    "TIPUS": "Hotel",
                                    "Év": "2016",
                                    "Hónap": "12",
                                    "Foglalások_száma": "1"
                                },
                                {
                                    "TIPUS": "Hotel",
                                    "Év": "2016",
                                    "Hónap": "12",
                                    "Foglalások_száma": "1"
                                },
                                {
                                    "TIPUS": "panzió",
                                    "Év": "2016",
                                    "Hónap": "12",
                                    "Foglalások_száma": "1"
                                },
                                {
                                    "TIPUS": "Hotel",
                                    "Év": "2016",
                                    "Hónap": "12",
                                    "Foglalások_száma": "1"
                                },
                                {
                                    "TIPUS": "Hotel",
                                    "Év": "2016",
                                    "Hónap": "12",
                                    "Foglalások_száma": "6"
                                },
                                {
                                    "TIPUS": "Hotel",
                                    "Év": "2016",
                                    "Hónap": "12",
                                    "Foglalások_száma": "1"
                                },
                                {
                                    "TIPUS": "panzió",
                                    "Év": "2016",
                                    "Hónap": "12",
                                    "Foglalások_száma": "1"
                                },
                                {
                                    "TIPUS": "panzió",
                                    "Év": "2016",
                                    "Hónap": "12",
                                    "Foglalások_száma": "1"
                                },
                                {
                                    "TIPUS": "Hotel",
                                    "Év": "2016",
                                    "Hónap": "12",
                                    "Foglalások_száma": "1"
                                },
                                {
                                    "TIPUS": "Hotel",
                                    "Év": "2016",
                                    "Hónap": "12",
                                    "Foglalások_száma": "1"
                                },
                                {
                                    "TIPUS": "Hotel",
                                    "Év": "2016",
                                    "Hónap": "12",
                                    "Foglalások_száma": "3"
                                },
                                {
                                    "TIPUS": "Hotel",
                                    "Év": "2016",
                                    "Hónap": "12",
                                    "Foglalások_száma": "1"
                                },
                                {
                                    "TIPUS": "Apartman",
                                    "Év": "2016",
                                    "Hónap": "12",
                                    "Foglalások_száma": "1"
                                },
                                {
                                    "TIPUS": "Hotel",
                                    "Év": "2016",
                                    "Hónap": "12",
                                    "Foglalások_száma": "1"
                                },
                                {
                                    "TIPUS": "panzió",
                                    "Év": "2016",
                                    "Hónap": "12",
                                    "Foglalások_száma": "1"
                                },
                                {
                                    "TIPUS": "Hotel",
                                    "Év": "2016",
                                    "Hónap": "12",
                                    "Foglalások_száma": "1"
                                },
                                {
                                    "TIPUS": "Hotel",
                                    "Év": "2017",
                                    "Hónap": "1",
                                    "Foglalások_száma": "1"
                                },
                                {
                                    "TIPUS": "panzió",
                                    "Év": "2017",
                                    "Hónap": "1",
                                    "Foglalások_száma": "1"
                                },
                                {
                                    "TIPUS": "Hotel",
                                    "Év": "2017",
                                    "Hónap": "1",
                                    "Foglalások_száma": "2"
                                },
                                {
                                    "TIPUS": "Hotel",
                                    "Év": "2017",
                                    "Hónap": "1",
                                    "Foglalások_száma": "1"
                                },
                                {
                                    "TIPUS": "Hotel",
                                    "Év": "2017",
                                    "Hónap": "1",
                                    "Foglalások_száma": "1"
                                },
                                {
                                    "TIPUS": "Hotel",
                                    "Év": "2017",
                                    "Hónap": "1",
                                    "Foglalások_száma": "1"
                                },
                                {
                                    "TIPUS": "panzió",
                                    "Év": "2017",
                                    "Hónap": "1",
                                    "Foglalások_száma": "1"
                                },
                                {
                                    "TIPUS": "vendégház",
                                    "Év": "2017",
                                    "Hónap": "1",
                                    "Foglalások_száma": "1"
                                },
                                {
                                    "TIPUS": "Hotel",
                                    "Év": "2017",
                                    "Hónap": "1",
                                    "Foglalások_száma": "1"
                                },
                                {
                                    "TIPUS": "Hotel",
                                    "Év": "2017",
                                    "Hónap": "1",
                                    "Foglalások_száma": "5"
                                },
                                {
                                    "TIPUS": "panzió",
                                    "Év": "2017",
                                    "Hónap": "1",
                                    "Foglalások_száma": "1"
                                },
                                {
                                    "TIPUS": "Hotel",
                                    "Év": "2017",
                                    "Hónap": "1",
                                    "Foglalások_száma": "3"
                                },
                                {
                                    "TIPUS": "Apartman",
                                    "Év": "2017",
                                    "Hónap": "1",
                                    "Foglalások_száma": "1"
                                },
                                {
                                    "TIPUS": "Hotel",
                                    "Év": "2017",
                                    "Hónap": "1",
                                    "Foglalások_száma": "1"
                                },
                                {
                                    "TIPUS": "Hotel",
                                    "Év": "2017",
                                    "Hónap": "1",
                                    "Foglalások_száma": "4"
                                },
                                {
                                    "TIPUS": "Hotel",
                                    "Év": "2017",
                                    "Hónap": "1",
                                    "Foglalások_száma": "2"
                                },
                                {
                                    "TIPUS": "Hotel",
                                    "Év": "2017",
                                    "Hónap": "1",
                                    "Foglalások_száma": "2"
                                },
                                {
                                    "TIPUS": "panzió",
                                    "Év": "2017",
                                    "Hónap": "1",
                                    "Foglalások_száma": "1"
                                },
                                {
                                    "TIPUS": "panzió",
                                    "Év": "2017",
                                    "Hónap": "1",
                                    "Foglalások_száma": "1"
                                },
                                {
                                    "TIPUS": "Hotel",
                                    "Év": "2017",
                                    "Hónap": "1",
                                    "Foglalások_száma": "2"
                                },
                                {
                                    "TIPUS": "Hotel",
                                    "Év": "2017",
                                    "Hónap": "1",
                                    "Foglalások_száma": "1"
                                },
                                {
                                    "TIPUS": "Hotel",
                                    "Év": "2017",
                                    "Hónap": "1",
                                    "Foglalások_száma": "1"
                                },
                                {
                                    "TIPUS": "Hotel",
                                    "Év": "2017",
                                    "Hónap": "2",
                                    "Foglalások_száma": "1"
                                },
                                {
                                    "TIPUS": "vendégház",
                                    "Év": "2017",
                                    "Hónap": "2",
                                    "Foglalások_száma": "1"
                                },
                                {
                                    "TIPUS": "Hotel",
                                    "Év": "2017",
                                    "Hónap": "2",
                                    "Foglalások_száma": "3"
                                },
                                {
                                    "TIPUS": "vendégház",
                                    "Év": "2017",
                                    "Hónap": "2",
                                    "Foglalások_száma": "1"
                                },
                                {
                                    "TIPUS": "Apartman",
                                    "Év": "2017",
                                    "Hónap": "2",
                                    "Foglalások_száma": "1"
                                },
                                {
                                    "TIPUS": "Hotel",
                                    "Év": "2017",
                                    "Hónap": "2",
                                    "Foglalások_száma": "3"
                                },
                                {
                                    "TIPUS": "Apartman",
                                    "Év": "2017",
                                    "Hónap": "2",
                                    "Foglalások_száma": "1"
                                },
                                {
                                    "TIPUS": "Hotel",
                                    "Év": "2017",
                                    "Hónap": "2",
                                    "Foglalások_száma": "1"
                                },
                                {
                                    "TIPUS": "Hotel",
                                    "Év": "2017",
                                    "Hónap": "2",
                                    "Foglalások_száma": "1"
                                },
                                {
                                    "TIPUS": "Apartman",
                                    "Év": "2017",
                                    "Hónap": "2",
                                    "Foglalások_száma": "1"
                                },
                                {
                                    "TIPUS": "Hotel",
                                    "Év": "2017",
                                    "Hónap": "2",
                                    "Foglalások_száma": "1"
                                },
                                {
                                    "TIPUS": "Hotel",
                                    "Év": "2017",
                                    "Hónap": "2",
                                    "Foglalások_száma": "2"
                                },
                                {
                                    "TIPUS": "Hotel",
                                    "Év": "2017",
                                    "Hónap": "2",
                                    "Foglalások_száma": "1"
                                },
                                {
                                    "TIPUS": "panzió",
                                    "Év": "2017",
                                    "Hónap": "2",
                                    "Foglalások_száma": "1"
                                },
                                {
                                    "TIPUS": "Hotel",
                                    "Év": "2017",
                                    "Hónap": "2",
                                    "Foglalások_száma": "1"
                                },
                                {
                                    "TIPUS": "panzió",
                                    "Év": "2017",
                                    "Hónap": "2",
                                    "Foglalások_száma": "1"
                                },
                                {
                                    "TIPUS": "vendégház",
                                    "Év": "2017",
                                    "Hónap": "2",
                                    "Foglalások_száma": "1"
                                },
                                {
                                    "TIPUS": "Apartman",
                                    "Év": "2017",
                                    "Hónap": "2",
                                    "Foglalások_száma": "1"
                                },
                                {
                                    "TIPUS": "panzió",
                                    "Év": "2017",
                                    "Hónap": "2",
                                    "Foglalások_száma": "1"
                                },
                                {
                                    "TIPUS": "panzió",
                                    "Év": "2017",
                                    "Hónap": "2",
                                    "Foglalások_száma": "1"
                                },
                                {
                                    "TIPUS": "Hotel",
                                    "Év": "2017",
                                    "Hónap": "2",
                                    "Foglalások_száma": "2"
                                },
                                {
                                    "TIPUS": "Hotel",
                                    "Év": "2017",
                                    "Hónap": "2",
                                    "Foglalások_száma": "2"
                                },
                                {
                                    "TIPUS": "panzió",
                                    "Év": "2017",
                                    "Hónap": "2",
                                    "Foglalások_száma": "1"
                                },
                                {
                                    "TIPUS": "Apartman",
                                    "Év": "2017",
                                    "Hónap": "2",
                                    "Foglalások_száma": "1"
                                },
                                {
                                    "TIPUS": "Hotel",
                                    "Év": "2017",
                                    "Hónap": "2",
                                    "Foglalások_száma": "2"
                                },
                                {
                                    "TIPUS": "Hotel",
                                    "Év": "2017",
                                    "Hónap": "2",
                                    "Foglalások_száma": "1"
                                },
                                {
                                    "TIPUS": "Hotel",
                                    "Év": "2017",
                                    "Hónap": "3",
                                    "Foglalások_száma": "1"
                                },
                                {
                                    "TIPUS": "panzió",
                                    "Év": "2017",
                                    "Hónap": "3",
                                    "Foglalások_száma": "1"
                                }
                            ]
                        },
                        "text/html": "<table><tr><th>TIPUS</th><th>Év</th><th>Hónap</th><th>Foglalások_száma</th></tr><tr><td>vendégház</td><td>2016</td><td>4</td><td>1</td></tr><tr><td>Hotel</td><td>2016</td><td>4</td><td>1</td></tr><tr><td>Hotel</td><td>2016</td><td>4</td><td>1</td></tr><tr><td>Apartman</td><td>2016</td><td>4</td><td>1</td></tr><tr><td>Hotel</td><td>2016</td><td>4</td><td>3</td></tr><tr><td>vendégház</td><td>2016</td><td>4</td><td>1</td></tr><tr><td>Hotel</td><td>2016</td><td>4</td><td>1</td></tr><tr><td>Hotel</td><td>2016</td><td>4</td><td>1</td></tr><tr><td>Hotel</td><td>2016</td><td>4</td><td>1</td></tr><tr><td>Hotel</td><td>2016</td><td>4</td><td>1</td></tr><tr><td>Hotel</td><td>2016</td><td>4</td><td>2</td></tr><tr><td>panzió</td><td>2016</td><td>4</td><td>1</td></tr><tr><td>Hotel</td><td>2016</td><td>4</td><td>1</td></tr><tr><td>Hotel</td><td>2016</td><td>4</td><td>1</td></tr><tr><td>Hotel</td><td>2016</td><td>4</td><td>1</td></tr><tr><td>Hotel</td><td>2016</td><td>4</td><td>1</td></tr><tr><td>panzió</td><td>2016</td><td>4</td><td>1</td></tr><tr><td>Apartman</td><td>2016</td><td>4</td><td>1</td></tr><tr><td>Hotel</td><td>2016</td><td>4</td><td>1</td></tr><tr><td>panzió</td><td>2016</td><td>5</td><td>1</td></tr><tr><td>panzió</td><td>2016</td><td>5</td><td>1</td></tr><tr><td>vendégház</td><td>2016</td><td>5</td><td>1</td></tr><tr><td>Hotel</td><td>2016</td><td>5</td><td>1</td></tr><tr><td>Hotel</td><td>2016</td><td>5</td><td>1</td></tr><tr><td>Hotel</td><td>2016</td><td>5</td><td>1</td></tr><tr><td>panzió</td><td>2016</td><td>5</td><td>2</td></tr><tr><td>Hotel</td><td>2016</td><td>5</td><td>3</td></tr><tr><td>Hotel</td><td>2016</td><td>5</td><td>1</td></tr><tr><td>Hotel</td><td>2016</td><td>5</td><td>1</td></tr><tr><td>Hotel</td><td>2016</td><td>5</td><td>1</td></tr><tr><td>Hotel</td><td>2016</td><td>5</td><td>1</td></tr><tr><td>Hotel</td><td>2016</td><td>5</td><td>2</td></tr><tr><td>Hotel</td><td>2016</td><td>5</td><td>2</td></tr><tr><td>vendégház</td><td>2016</td><td>5</td><td>1</td></tr><tr><td>Hotel</td><td>2016</td><td>5</td><td>1</td></tr><tr><td>vendégház</td><td>2016</td><td>5</td><td>1</td></tr><tr><td>Hotel</td><td>2016</td><td>5</td><td>1</td></tr><tr><td>Hotel</td><td>2016</td><td>5</td><td>1</td></tr><tr><td>Apartman</td><td>2016</td><td>5</td><td>1</td></tr><tr><td>Hotel</td><td>2016</td><td>5</td><td>2</td></tr><tr><td>panzió</td><td>2016</td><td>5</td><td>1</td></tr><tr><td>panzió</td><td>2016</td><td>5</td><td>1</td></tr><tr><td>Hotel</td><td>2016</td><td>5</td><td>2</td></tr><tr><td>vendégház</td><td>2016</td><td>5</td><td>1</td></tr><tr><td>Hotel</td><td>2016</td><td>5</td><td>2</td></tr><tr><td>Hotel</td><td>2016</td><td>5</td><td>4</td></tr><tr><td>panzió</td><td>2016</td><td>5</td><td>1</td></tr><tr><td>Hotel</td><td>2016</td><td>5</td><td>1</td></tr><tr><td>panzió</td><td>2016</td><td>5</td><td>1</td></tr><tr><td>Hotel</td><td>2016</td><td>5</td><td>4</td></tr><tr><td>panzió</td><td>2016</td><td>5</td><td>1</td></tr><tr><td>vendégház</td><td>2016</td><td>5</td><td>1</td></tr><tr><td>Hotel</td><td>2016</td><td>6</td><td>1</td></tr><tr><td>Hotel</td><td>2016</td><td>6</td><td>1</td></tr><tr><td>panzió</td><td>2016</td><td>6</td><td>1</td></tr><tr><td>Hotel</td><td>2016</td><td>6</td><td>2</td></tr><tr><td>panzió</td><td>2016</td><td>6</td><td>2</td></tr><tr><td>Hotel</td><td>2016</td><td>6</td><td>3</td></tr><tr><td>panzió</td><td>2016</td><td>6</td><td>1</td></tr><tr><td>vendégház</td><td>2016</td><td>6</td><td>1</td></tr><tr><td>Hotel</td><td>2016</td><td>6</td><td>2</td></tr><tr><td>panzió</td><td>2016</td><td>6</td><td>2</td></tr><tr><td>Hotel</td><td>2016</td><td>6</td><td>1</td></tr><tr><td>Apartman</td><td>2016</td><td>6</td><td>1</td></tr><tr><td>Hotel</td><td>2016</td><td>6</td><td>2</td></tr><tr><td>vendégház</td><td>2016</td><td>6</td><td>1</td></tr><tr><td>Hotel</td><td>2016</td><td>6</td><td>1</td></tr><tr><td>Hotel</td><td>2016</td><td>6</td><td>3</td></tr><tr><td>Hotel</td><td>2016</td><td>6</td><td>1</td></tr><tr><td>panzió</td><td>2016</td><td>6</td><td>1</td></tr><tr><td>Hotel</td><td>2016</td><td>6</td><td>4</td></tr><tr><td>vendégház</td><td>2016</td><td>6</td><td>1</td></tr><tr><td>Hotel</td><td>2016</td><td>6</td><td>1</td></tr><tr><td>Hotel</td><td>2016</td><td>6</td><td>1</td></tr><tr><td>panzió</td><td>2016</td><td>6</td><td>1</td></tr><tr><td>Hotel</td><td>2016</td><td>6</td><td>1</td></tr><tr><td>panzió</td><td>2016</td><td>6</td><td>1</td></tr><tr><td>panzió</td><td>2016</td><td>6</td><td>1</td></tr><tr><td>Hotel</td><td>2016</td><td>6</td><td>1</td></tr><tr><td>Hotel</td><td>2016</td><td>6</td><td>1</td></tr><tr><td>Hotel</td><td>2016</td><td>6</td><td>3</td></tr><tr><td>Hotel</td><td>2016</td><td>7</td><td>1</td></tr><tr><td>panzió</td><td>2016</td><td>7</td><td>1</td></tr><tr><td>vendégház</td><td>2016</td><td>7</td><td>1</td></tr><tr><td>panzió</td><td>2016</td><td>7</td><td>1</td></tr><tr><td>Hotel</td><td>2016</td><td>7</td><td>2</td></tr><tr><td>panzió</td><td>2016</td><td>7</td><td>1</td></tr><tr><td>Hotel</td><td>2016</td><td>7</td><td>2</td></tr><tr><td>panzió</td><td>2016</td><td>7</td><td>1</td></tr><tr><td>vendégház</td><td>2016</td><td>7</td><td>1</td></tr><tr><td>panzió</td><td>2016</td><td>7</td><td>1</td></tr><tr><td>Hotel</td><td>2016</td><td>7</td><td>1</td></tr><tr><td>Hotel</td><td>2016</td><td>7</td><td>2</td></tr><tr><td>vendégház</td><td>2016</td><td>7</td><td>1</td></tr><tr><td>Hotel</td><td>2016</td><td>7</td><td>2</td></tr><tr><td>Hotel</td><td>2016</td><td>7</td><td>1</td></tr><tr><td>Hotel</td><td>2016</td><td>7</td><td>1</td></tr><tr><td>panzió</td><td>2016</td><td>7</td><td>1</td></tr><tr><td>Hotel</td><td>2016</td><td>7</td><td>1</td></tr><tr><td>Hotel</td><td>2016</td><td>7</td><td>4</td></tr><tr><td>Hotel</td><td>2016</td><td>7</td><td>1</td></tr><tr><td>Hotel</td><td>2016</td><td>7</td><td>1</td></tr><tr><td>Apartman</td><td>2016</td><td>7</td><td>1</td></tr><tr><td>Hotel</td><td>2016</td><td>7</td><td>2</td></tr><tr><td>Hotel</td><td>2016</td><td>7</td><td>1</td></tr><tr><td>Hotel</td><td>2016</td><td>7</td><td>3</td></tr><tr><td>panzió</td><td>2016</td><td>7</td><td>1</td></tr><tr><td>Hotel</td><td>2016</td><td>7</td><td>3</td></tr><tr><td>Hotel</td><td>2016</td><td>7</td><td>2</td></tr><tr><td>vendégház</td><td>2016</td><td>7</td><td>1</td></tr><tr><td>vendégház</td><td>2016</td><td>7</td><td>1</td></tr><tr><td>Hotel</td><td>2016</td><td>8</td><td>1</td></tr><tr><td>Hotel</td><td>2016</td><td>8</td><td>1</td></tr><tr><td>panzió</td><td>2016</td><td>8</td><td>2</td></tr><tr><td>Apartman</td><td>2016</td><td>8</td><td>1</td></tr><tr><td>Apartman</td><td>2016</td><td>8</td><td>1</td></tr><tr><td>Hotel</td><td>2016</td><td>8</td><td>1</td></tr><tr><td>vendégház</td><td>2016</td><td>8</td><td>1</td></tr><tr><td>Hotel</td><td>2016</td><td>8</td><td>1</td></tr><tr><td>Hotel</td><td>2016</td><td>8</td><td>2</td></tr><tr><td>vendégház</td><td>2016</td><td>8</td><td>1</td></tr><tr><td>Hotel</td><td>2016</td><td>8</td><td>1</td></tr><tr><td>panzió</td><td>2016</td><td>8</td><td>1</td></tr><tr><td>Hotel</td><td>2016</td><td>8</td><td>4</td></tr><tr><td>vendégház</td><td>2016</td><td>8</td><td>3</td></tr><tr><td>panzió</td><td>2016</td><td>8</td><td>1</td></tr><tr><td>Hotel</td><td>2016</td><td>8</td><td>1</td></tr><tr><td>Hotel</td><td>2016</td><td>8</td><td>2</td></tr><tr><td>panzió</td><td>2016</td><td>8</td><td>2</td></tr><tr><td>Hotel</td><td>2016</td><td>8</td><td>1</td></tr><tr><td>Hotel</td><td>2016</td><td>8</td><td>1</td></tr><tr><td>Hotel</td><td>2016</td><td>8</td><td>1</td></tr><tr><td>Hotel</td><td>2016</td><td>8</td><td>1</td></tr><tr><td>Hotel</td><td>2016</td><td>8</td><td>1</td></tr><tr><td>Hotel</td><td>2016</td><td>8</td><td>2</td></tr><tr><td>Hotel</td><td>2016</td><td>8</td><td>1</td></tr><tr><td>Hotel</td><td>2016</td><td>9</td><td>3</td></tr><tr><td>Hotel</td><td>2016</td><td>9</td><td>1</td></tr><tr><td>Apartman</td><td>2016</td><td>9</td><td>1</td></tr><tr><td>Apartman</td><td>2016</td><td>9</td><td>1</td></tr><tr><td>Hotel</td><td>2016</td><td>9</td><td>1</td></tr><tr><td>Hotel</td><td>2016</td><td>9</td><td>1</td></tr><tr><td>vendégház</td><td>2016</td><td>9</td><td>1</td></tr><tr><td>Hotel</td><td>2016</td><td>9</td><td>1</td></tr><tr><td>Hotel</td><td>2016</td><td>9</td><td>1</td></tr><tr><td>Apartman</td><td>2016</td><td>9</td><td>1</td></tr><tr><td>panzió</td><td>2016</td><td>9</td><td>1</td></tr><tr><td>Hotel</td><td>2016</td><td>9</td><td>1</td></tr><tr><td>Hotel</td><td>2016</td><td>9</td><td>1</td></tr><tr><td>panzió</td><td>2016</td><td>9</td><td>1</td></tr><tr><td>Hotel</td><td>2016</td><td>9</td><td>1</td></tr><tr><td>vendégház</td><td>2016</td><td>9</td><td>2</td></tr><tr><td>vendégház</td><td>2016</td><td>9</td><td>1</td></tr><tr><td>Hotel</td><td>2016</td><td>9</td><td>1</td></tr><tr><td>panzió</td><td>2016</td><td>9</td><td>2</td></tr><tr><td>Hotel</td><td>2016</td><td>9</td><td>1</td></tr><tr><td>panzió</td><td>2016</td><td>9</td><td>1</td></tr><tr><td>Hotel</td><td>2016</td><td>9</td><td>1</td></tr><tr><td>Hotel</td><td>2016</td><td>9</td><td>5</td></tr><tr><td>panzió</td><td>2016</td><td>9</td><td>1</td></tr><tr><td>Apartman</td><td>2016</td><td>10</td><td>2</td></tr><tr><td>Hotel</td><td>2016</td><td>10</td><td>2</td></tr><tr><td>vendégház</td><td>2016</td><td>10</td><td>1</td></tr><tr><td>panzió</td><td>2016</td><td>10</td><td>1</td></tr><tr><td>Hotel</td><td>2016</td><td>10</td><td>2</td></tr><tr><td>vendégház</td><td>2016</td><td>10</td><td>1</td></tr><tr><td>Hotel</td><td>2016</td><td>10</td><td>1</td></tr><tr><td>vendégház</td><td>2016</td><td>10</td><td>1</td></tr><tr><td>Apartman</td><td>2016</td><td>10</td><td>1</td></tr><tr><td>Hotel</td><td>2016</td><td>10</td><td>2</td></tr><tr><td>panzió</td><td>2016</td><td>10</td><td>1</td></tr><tr><td>Hotel</td><td>2016</td><td>10</td><td>1</td></tr><tr><td>panzió</td><td>2016</td><td>10</td><td>1</td></tr><tr><td>panzió</td><td>2016</td><td>10</td><td>1</td></tr><tr><td>Hotel</td><td>2016</td><td>10</td><td>1</td></tr><tr><td>vendégház</td><td>2016</td><td>10</td><td>1</td></tr><tr><td>Hotel</td><td>2016</td><td>10</td><td>2</td></tr><tr><td>Hotel</td><td>2016</td><td>10</td><td>1</td></tr><tr><td>vendégház</td><td>2016</td><td>10</td><td>1</td></tr><tr><td>Hotel</td><td>2016</td><td>10</td><td>2</td></tr><tr><td>Hotel</td><td>2016</td><td>10</td><td>3</td></tr><tr><td>Apartman</td><td>2016</td><td>10</td><td>2</td></tr><tr><td>Hotel</td><td>2016</td><td>10</td><td>1</td></tr><tr><td>panzió</td><td>2016</td><td>10</td><td>1</td></tr><tr><td>Hotel</td><td>2016</td><td>10</td><td>4</td></tr><tr><td>panzió</td><td>2016</td><td>10</td><td>2</td></tr><tr><td>Apartman</td><td>2016</td><td>10</td><td>1</td></tr><tr><td>vendégház</td><td>2016</td><td>10</td><td>1</td></tr><tr><td>Hotel</td><td>2016</td><td>10</td><td>1</td></tr><tr><td>Apartman</td><td>2016</td><td>10</td><td>1</td></tr><tr><td>Hotel</td><td>2016</td><td>10</td><td>4</td></tr><tr><td>panzió</td><td>2016</td><td>10</td><td>1</td></tr><tr><td>Apartman</td><td>2016</td><td>10</td><td>1</td></tr><tr><td>vendégház</td><td>2016</td><td>10</td><td>1</td></tr><tr><td>Apartman</td><td>2016</td><td>10</td><td>1</td></tr><tr><td>Hotel</td><td>2016</td><td>10</td><td>1</td></tr><tr><td>Hotel</td><td>2016</td><td>10</td><td>1</td></tr><tr><td>panzió</td><td>2016</td><td>10</td><td>1</td></tr><tr><td>Hotel</td><td>2016</td><td>10</td><td>6</td></tr><tr><td>panzió</td><td>2016</td><td>10</td><td>2</td></tr><tr><td>Hotel</td><td>2016</td><td>10</td><td>1</td></tr><tr><td>panzió</td><td>2016</td><td>11</td><td>1</td></tr><tr><td>Hotel</td><td>2016</td><td>11</td><td>3</td></tr><tr><td>panzió</td><td>2016</td><td>11</td><td>1</td></tr><tr><td>Hotel</td><td>2016</td><td>11</td><td>1</td></tr><tr><td>Hotel</td><td>2016</td><td>11</td><td>1</td></tr><tr><td>Hotel</td><td>2016</td><td>11</td><td>3</td></tr><tr><td>vendégház</td><td>2016</td><td>11</td><td>1</td></tr><tr><td>vendégház</td><td>2016</td><td>11</td><td>1</td></tr><tr><td>Hotel</td><td>2016</td><td>11</td><td>1</td></tr><tr><td>Apartman</td><td>2016</td><td>11</td><td>1</td></tr><tr><td>Hotel</td><td>2016</td><td>11</td><td>1</td></tr><tr><td>panzió</td><td>2016</td><td>11</td><td>1</td></tr><tr><td>Hotel</td><td>2016</td><td>11</td><td>1</td></tr><tr><td>Hotel</td><td>2016</td><td>11</td><td>1</td></tr><tr><td>Hotel</td><td>2016</td><td>11</td><td>1</td></tr><tr><td>Hotel</td><td>2016</td><td>11</td><td>1</td></tr><tr><td>Hotel</td><td>2016</td><td>11</td><td>1</td></tr><tr><td>Hotel</td><td>2016</td><td>11</td><td>1</td></tr><tr><td>Apartman</td><td>2016</td><td>11</td><td>1</td></tr><tr><td>Hotel</td><td>2016</td><td>11</td><td>1</td></tr><tr><td>Hotel</td><td>2016</td><td>11</td><td>2</td></tr><tr><td>vendégház</td><td>2016</td><td>11</td><td>1</td></tr><tr><td>Hotel</td><td>2016</td><td>11</td><td>1</td></tr><tr><td>Apartman</td><td>2016</td><td>11</td><td>1</td></tr><tr><td>vendégház</td><td>2016</td><td>11</td><td>1</td></tr><tr><td>Hotel</td><td>2016</td><td>11</td><td>2</td></tr><tr><td>Hotel</td><td>2016</td><td>11</td><td>1</td></tr><tr><td>Hotel</td><td>2016</td><td>11</td><td>3</td></tr><tr><td>Hotel</td><td>2016</td><td>11</td><td>1</td></tr><tr><td>panzió</td><td>2016</td><td>12</td><td>1</td></tr><tr><td>Hotel</td><td>2016</td><td>12</td><td>1</td></tr><tr><td>Hotel</td><td>2016</td><td>12</td><td>1</td></tr><tr><td>Hotel</td><td>2016</td><td>12</td><td>2</td></tr><tr><td>Hotel</td><td>2016</td><td>12</td><td>1</td></tr><tr><td>panzió</td><td>2016</td><td>12</td><td>1</td></tr><tr><td>Apartman</td><td>2016</td><td>12</td><td>1</td></tr><tr><td>Hotel</td><td>2016</td><td>12</td><td>1</td></tr><tr><td>Hotel</td><td>2016</td><td>12</td><td>1</td></tr><tr><td>Hotel</td><td>2016</td><td>12</td><td>1</td></tr><tr><td>Hotel</td><td>2016</td><td>12</td><td>1</td></tr><tr><td>panzió</td><td>2016</td><td>12</td><td>1</td></tr><tr><td>Hotel</td><td>2016</td><td>12</td><td>1</td></tr><tr><td>Hotel</td><td>2016</td><td>12</td><td>6</td></tr><tr><td>Hotel</td><td>2016</td><td>12</td><td>1</td></tr><tr><td>panzió</td><td>2016</td><td>12</td><td>1</td></tr><tr><td>panzió</td><td>2016</td><td>12</td><td>1</td></tr><tr><td>Hotel</td><td>2016</td><td>12</td><td>1</td></tr><tr><td>Hotel</td><td>2016</td><td>12</td><td>1</td></tr><tr><td>Hotel</td><td>2016</td><td>12</td><td>3</td></tr><tr><td>Hotel</td><td>2016</td><td>12</td><td>1</td></tr><tr><td>Apartman</td><td>2016</td><td>12</td><td>1</td></tr><tr><td>Hotel</td><td>2016</td><td>12</td><td>1</td></tr><tr><td>panzió</td><td>2016</td><td>12</td><td>1</td></tr><tr><td>Hotel</td><td>2016</td><td>12</td><td>1</td></tr><tr><td>Hotel</td><td>2017</td><td>1</td><td>1</td></tr><tr><td>panzió</td><td>2017</td><td>1</td><td>1</td></tr><tr><td>Hotel</td><td>2017</td><td>1</td><td>2</td></tr><tr><td>Hotel</td><td>2017</td><td>1</td><td>1</td></tr><tr><td>Hotel</td><td>2017</td><td>1</td><td>1</td></tr><tr><td>Hotel</td><td>2017</td><td>1</td><td>1</td></tr><tr><td>panzió</td><td>2017</td><td>1</td><td>1</td></tr><tr><td>vendégház</td><td>2017</td><td>1</td><td>1</td></tr><tr><td>Hotel</td><td>2017</td><td>1</td><td>1</td></tr><tr><td>Hotel</td><td>2017</td><td>1</td><td>5</td></tr><tr><td>panzió</td><td>2017</td><td>1</td><td>1</td></tr><tr><td>Hotel</td><td>2017</td><td>1</td><td>3</td></tr><tr><td>Apartman</td><td>2017</td><td>1</td><td>1</td></tr><tr><td>Hotel</td><td>2017</td><td>1</td><td>1</td></tr><tr><td>Hotel</td><td>2017</td><td>1</td><td>4</td></tr><tr><td>Hotel</td><td>2017</td><td>1</td><td>2</td></tr><tr><td>Hotel</td><td>2017</td><td>1</td><td>2</td></tr><tr><td>panzió</td><td>2017</td><td>1</td><td>1</td></tr><tr><td>panzió</td><td>2017</td><td>1</td><td>1</td></tr><tr><td>Hotel</td><td>2017</td><td>1</td><td>2</td></tr><tr><td>Hotel</td><td>2017</td><td>1</td><td>1</td></tr><tr><td>Hotel</td><td>2017</td><td>1</td><td>1</td></tr><tr><td>Hotel</td><td>2017</td><td>2</td><td>1</td></tr><tr><td>vendégház</td><td>2017</td><td>2</td><td>1</td></tr><tr><td>Hotel</td><td>2017</td><td>2</td><td>3</td></tr><tr><td>vendégház</td><td>2017</td><td>2</td><td>1</td></tr><tr><td>Apartman</td><td>2017</td><td>2</td><td>1</td></tr><tr><td>Hotel</td><td>2017</td><td>2</td><td>3</td></tr><tr><td>Apartman</td><td>2017</td><td>2</td><td>1</td></tr><tr><td>Hotel</td><td>2017</td><td>2</td><td>1</td></tr><tr><td>Hotel</td><td>2017</td><td>2</td><td>1</td></tr><tr><td>Apartman</td><td>2017</td><td>2</td><td>1</td></tr><tr><td>Hotel</td><td>2017</td><td>2</td><td>1</td></tr><tr><td>Hotel</td><td>2017</td><td>2</td><td>2</td></tr><tr><td>Hotel</td><td>2017</td><td>2</td><td>1</td></tr><tr><td>panzió</td><td>2017</td><td>2</td><td>1</td></tr><tr><td>Hotel</td><td>2017</td><td>2</td><td>1</td></tr><tr><td>panzió</td><td>2017</td><td>2</td><td>1</td></tr><tr><td>vendégház</td><td>2017</td><td>2</td><td>1</td></tr><tr><td>Apartman</td><td>2017</td><td>2</td><td>1</td></tr><tr><td>panzió</td><td>2017</td><td>2</td><td>1</td></tr><tr><td>panzió</td><td>2017</td><td>2</td><td>1</td></tr><tr><td>Hotel</td><td>2017</td><td>2</td><td>2</td></tr><tr><td>Hotel</td><td>2017</td><td>2</td><td>2</td></tr><tr><td>panzió</td><td>2017</td><td>2</td><td>1</td></tr><tr><td>Apartman</td><td>2017</td><td>2</td><td>1</td></tr><tr><td>Hotel</td><td>2017</td><td>2</td><td>2</td></tr><tr><td>Hotel</td><td>2017</td><td>2</td><td>1</td></tr><tr><td>Hotel</td><td>2017</td><td>3</td><td>1</td></tr><tr><td>panzió</td><td>2017</td><td>3</td><td>1</td></tr></table>"
                    },
                    "metadata": {}
                }
            ],
            "execution_count": 10
        },
        {
            "cell_type": "code",
            "source": [
                "SELECT *,\r\n",
                "        IIF(KLIMAS = 'i', 25000, 20000) as 'Napi ár'\r\n",
                "FROM Szoba\r\n",
                "WHERE SZOBA_ID NOT IN (SELECT SZOBA_FK FROM Foglalas)\r\n",
                ""
            ],
            "metadata": {
                "azdata_cell_guid": "6eb22794-8ba6-40cf-9791-438a85ce6911",
                "language": "sql"
            },
            "outputs": [
                {
                    "output_type": "display_data",
                    "data": {
                        "text/html": "(97 rows affected)"
                    },
                    "metadata": {}
                },
                {
                    "output_type": "display_data",
                    "data": {
                        "text/html": "Total execution time: 00:00:00.021"
                    },
                    "metadata": {}
                },
                {
                    "output_type": "execute_result",
                    "execution_count": 10,
                    "data": {
                        "application/vnd.dataresource+json": {
                            "schema": {
                                "fields": [
                                    {
                                        "name": "SZOBA_ID"
                                    },
                                    {
                                        "name": "SZOBA_SZAMA"
                                    },
                                    {
                                        "name": "FEROHELY"
                                    },
                                    {
                                        "name": "POTAGY"
                                    },
                                    {
                                        "name": "KLIMAS"
                                    },
                                    {
                                        "name": "SZALLAS_FK"
                                    },
                                    {
                                        "name": "Napi ár"
                                    }
                                ]
                            },
                            "data": [
                                {
                                    "SZOBA_ID": "159",
                                    "SZOBA_SZAMA": "25",
                                    "FEROHELY": "3",
                                    "POTAGY": "1",
                                    "KLIMAS": "n",
                                    "SZALLAS_FK": "10",
                                    "Napi ár": "20000"
                                },
                                {
                                    "SZOBA_ID": "199",
                                    "SZOBA_SZAMA": "35",
                                    "FEROHELY": "3",
                                    "POTAGY": "2",
                                    "KLIMAS": "i",
                                    "SZALLAS_FK": "12",
                                    "Napi ár": "25000"
                                },
                                {
                                    "SZOBA_ID": "200",
                                    "SZOBA_SZAMA": "36",
                                    "FEROHELY": "2",
                                    "POTAGY": "0",
                                    "KLIMAS": "i",
                                    "SZALLAS_FK": "12",
                                    "Napi ár": "25000"
                                },
                                {
                                    "SZOBA_ID": "201",
                                    "SZOBA_SZAMA": "37",
                                    "FEROHELY": "3",
                                    "POTAGY": "1",
                                    "KLIMAS": "n",
                                    "SZALLAS_FK": "12",
                                    "Napi ár": "20000"
                                },
                                {
                                    "SZOBA_ID": "202",
                                    "SZOBA_SZAMA": "38",
                                    "FEROHELY": "3",
                                    "POTAGY": "1",
                                    "KLIMAS": "i",
                                    "SZALLAS_FK": "12",
                                    "Napi ár": "25000"
                                },
                                {
                                    "SZOBA_ID": "203",
                                    "SZOBA_SZAMA": "39",
                                    "FEROHELY": "3",
                                    "POTAGY": "0",
                                    "KLIMAS": "i",
                                    "SZALLAS_FK": "12",
                                    "Napi ár": "25000"
                                },
                                {
                                    "SZOBA_ID": "204",
                                    "SZOBA_SZAMA": "40",
                                    "FEROHELY": "3",
                                    "POTAGY": "1",
                                    "KLIMAS": "i",
                                    "SZALLAS_FK": "12",
                                    "Napi ár": "25000"
                                },
                                {
                                    "SZOBA_ID": "205",
                                    "SZOBA_SZAMA": "41",
                                    "FEROHELY": "3",
                                    "POTAGY": "0",
                                    "KLIMAS": "i",
                                    "SZALLAS_FK": "12",
                                    "Napi ár": "25000"
                                },
                                {
                                    "SZOBA_ID": "206",
                                    "SZOBA_SZAMA": "42",
                                    "FEROHELY": "2",
                                    "POTAGY": "1",
                                    "KLIMAS": "i",
                                    "SZALLAS_FK": "12",
                                    "Napi ár": "25000"
                                },
                                {
                                    "SZOBA_ID": "207",
                                    "SZOBA_SZAMA": "43",
                                    "FEROHELY": "2",
                                    "POTAGY": "1",
                                    "KLIMAS": "i",
                                    "SZALLAS_FK": "12",
                                    "Napi ár": "25000"
                                },
                                {
                                    "SZOBA_ID": "208",
                                    "SZOBA_SZAMA": "44",
                                    "FEROHELY": "2",
                                    "POTAGY": "1",
                                    "KLIMAS": "i",
                                    "SZALLAS_FK": "12",
                                    "Napi ár": "25000"
                                },
                                {
                                    "SZOBA_ID": "209",
                                    "SZOBA_SZAMA": "45",
                                    "FEROHELY": "3",
                                    "POTAGY": "2",
                                    "KLIMAS": "n",
                                    "SZALLAS_FK": "12",
                                    "Napi ár": "20000"
                                },
                                {
                                    "SZOBA_ID": "210",
                                    "SZOBA_SZAMA": "46",
                                    "FEROHELY": "2",
                                    "POTAGY": "0",
                                    "KLIMAS": "i",
                                    "SZALLAS_FK": "12",
                                    "Napi ár": "25000"
                                },
                                {
                                    "SZOBA_ID": "211",
                                    "SZOBA_SZAMA": "47",
                                    "FEROHELY": "2",
                                    "POTAGY": "1",
                                    "KLIMAS": "i",
                                    "SZALLAS_FK": "12",
                                    "Napi ár": "25000"
                                },
                                {
                                    "SZOBA_ID": "212",
                                    "SZOBA_SZAMA": "48",
                                    "FEROHELY": "3",
                                    "POTAGY": "0",
                                    "KLIMAS": "n",
                                    "SZALLAS_FK": "12",
                                    "Napi ár": "20000"
                                },
                                {
                                    "SZOBA_ID": "213",
                                    "SZOBA_SZAMA": "49",
                                    "FEROHELY": "3",
                                    "POTAGY": "0",
                                    "KLIMAS": "i",
                                    "SZALLAS_FK": "12",
                                    "Napi ár": "25000"
                                },
                                {
                                    "SZOBA_ID": "214",
                                    "SZOBA_SZAMA": "50",
                                    "FEROHELY": "3",
                                    "POTAGY": "1",
                                    "KLIMAS": "i",
                                    "SZALLAS_FK": "12",
                                    "Napi ár": "25000"
                                },
                                {
                                    "SZOBA_ID": "215",
                                    "SZOBA_SZAMA": "1",
                                    "FEROHELY": "2",
                                    "POTAGY": "1",
                                    "KLIMAS": "i",
                                    "SZALLAS_FK": "13",
                                    "Napi ár": "25000"
                                },
                                {
                                    "SZOBA_ID": "216",
                                    "SZOBA_SZAMA": "2",
                                    "FEROHELY": "3",
                                    "POTAGY": "1",
                                    "KLIMAS": "i",
                                    "SZALLAS_FK": "13",
                                    "Napi ár": "25000"
                                },
                                {
                                    "SZOBA_ID": "217",
                                    "SZOBA_SZAMA": "3",
                                    "FEROHELY": "2",
                                    "POTAGY": "1",
                                    "KLIMAS": "n",
                                    "SZALLAS_FK": "13",
                                    "Napi ár": "20000"
                                },
                                {
                                    "SZOBA_ID": "218",
                                    "SZOBA_SZAMA": "4",
                                    "FEROHELY": "3",
                                    "POTAGY": "0",
                                    "KLIMAS": "i",
                                    "SZALLAS_FK": "13",
                                    "Napi ár": "25000"
                                },
                                {
                                    "SZOBA_ID": "219",
                                    "SZOBA_SZAMA": "5",
                                    "FEROHELY": "2",
                                    "POTAGY": "0",
                                    "KLIMAS": "n",
                                    "SZALLAS_FK": "13",
                                    "Napi ár": "20000"
                                },
                                {
                                    "SZOBA_ID": "220",
                                    "SZOBA_SZAMA": "6",
                                    "FEROHELY": "3",
                                    "POTAGY": "0",
                                    "KLIMAS": "i",
                                    "SZALLAS_FK": "13",
                                    "Napi ár": "25000"
                                },
                                {
                                    "SZOBA_ID": "221",
                                    "SZOBA_SZAMA": "7",
                                    "FEROHELY": "3",
                                    "POTAGY": "0",
                                    "KLIMAS": "i",
                                    "SZALLAS_FK": "13",
                                    "Napi ár": "25000"
                                },
                                {
                                    "SZOBA_ID": "222",
                                    "SZOBA_SZAMA": "8",
                                    "FEROHELY": "2",
                                    "POTAGY": "0",
                                    "KLIMAS": "n",
                                    "SZALLAS_FK": "13",
                                    "Napi ár": "20000"
                                },
                                {
                                    "SZOBA_ID": "223",
                                    "SZOBA_SZAMA": "9",
                                    "FEROHELY": "2",
                                    "POTAGY": "1",
                                    "KLIMAS": "i",
                                    "SZALLAS_FK": "13",
                                    "Napi ár": "25000"
                                },
                                {
                                    "SZOBA_ID": "224",
                                    "SZOBA_SZAMA": "10",
                                    "FEROHELY": "2",
                                    "POTAGY": "0",
                                    "KLIMAS": "i",
                                    "SZALLAS_FK": "13",
                                    "Napi ár": "25000"
                                },
                                {
                                    "SZOBA_ID": "225",
                                    "SZOBA_SZAMA": "11",
                                    "FEROHELY": "2",
                                    "POTAGY": "1",
                                    "KLIMAS": "i",
                                    "SZALLAS_FK": "13",
                                    "Napi ár": "25000"
                                },
                                {
                                    "SZOBA_ID": "226",
                                    "SZOBA_SZAMA": "12",
                                    "FEROHELY": "3",
                                    "POTAGY": "1",
                                    "KLIMAS": "n",
                                    "SZALLAS_FK": "13",
                                    "Napi ár": "20000"
                                },
                                {
                                    "SZOBA_ID": "227",
                                    "SZOBA_SZAMA": "1",
                                    "FEROHELY": "2",
                                    "POTAGY": "1",
                                    "KLIMAS": "i",
                                    "SZALLAS_FK": "14",
                                    "Napi ár": "25000"
                                },
                                {
                                    "SZOBA_ID": "228",
                                    "SZOBA_SZAMA": "2",
                                    "FEROHELY": "3",
                                    "POTAGY": "0",
                                    "KLIMAS": "i",
                                    "SZALLAS_FK": "14",
                                    "Napi ár": "25000"
                                },
                                {
                                    "SZOBA_ID": "229",
                                    "SZOBA_SZAMA": "3",
                                    "FEROHELY": "2",
                                    "POTAGY": "0",
                                    "KLIMAS": "i",
                                    "SZALLAS_FK": "14",
                                    "Napi ár": "25000"
                                },
                                {
                                    "SZOBA_ID": "230",
                                    "SZOBA_SZAMA": "4",
                                    "FEROHELY": "3",
                                    "POTAGY": "2",
                                    "KLIMAS": "i",
                                    "SZALLAS_FK": "14",
                                    "Napi ár": "25000"
                                },
                                {
                                    "SZOBA_ID": "231",
                                    "SZOBA_SZAMA": "1",
                                    "FEROHELY": "2",
                                    "POTAGY": "0",
                                    "KLIMAS": "i",
                                    "SZALLAS_FK": "15",
                                    "Napi ár": "25000"
                                },
                                {
                                    "SZOBA_ID": "232",
                                    "SZOBA_SZAMA": "2",
                                    "FEROHELY": "2",
                                    "POTAGY": "0",
                                    "KLIMAS": "i",
                                    "SZALLAS_FK": "15",
                                    "Napi ár": "25000"
                                },
                                {
                                    "SZOBA_ID": "233",
                                    "SZOBA_SZAMA": "3",
                                    "FEROHELY": "3",
                                    "POTAGY": "0",
                                    "KLIMAS": "n",
                                    "SZALLAS_FK": "15",
                                    "Napi ár": "20000"
                                },
                                {
                                    "SZOBA_ID": "234",
                                    "SZOBA_SZAMA": "4",
                                    "FEROHELY": "3",
                                    "POTAGY": "1",
                                    "KLIMAS": "i",
                                    "SZALLAS_FK": "15",
                                    "Napi ár": "25000"
                                },
                                {
                                    "SZOBA_ID": "235",
                                    "SZOBA_SZAMA": "5",
                                    "FEROHELY": "3",
                                    "POTAGY": "0",
                                    "KLIMAS": "i",
                                    "SZALLAS_FK": "15",
                                    "Napi ár": "25000"
                                },
                                {
                                    "SZOBA_ID": "236",
                                    "SZOBA_SZAMA": "6",
                                    "FEROHELY": "3",
                                    "POTAGY": "1",
                                    "KLIMAS": "n",
                                    "SZALLAS_FK": "15",
                                    "Napi ár": "20000"
                                },
                                {
                                    "SZOBA_ID": "237",
                                    "SZOBA_SZAMA": "7",
                                    "FEROHELY": "2",
                                    "POTAGY": "2",
                                    "KLIMAS": "n",
                                    "SZALLAS_FK": "15",
                                    "Napi ár": "20000"
                                },
                                {
                                    "SZOBA_ID": "238",
                                    "SZOBA_SZAMA": "8",
                                    "FEROHELY": "3",
                                    "POTAGY": "1",
                                    "KLIMAS": "i",
                                    "SZALLAS_FK": "15",
                                    "Napi ár": "25000"
                                },
                                {
                                    "SZOBA_ID": "239",
                                    "SZOBA_SZAMA": "9",
                                    "FEROHELY": "2",
                                    "POTAGY": "2",
                                    "KLIMAS": "i",
                                    "SZALLAS_FK": "15",
                                    "Napi ár": "25000"
                                },
                                {
                                    "SZOBA_ID": "240",
                                    "SZOBA_SZAMA": "10",
                                    "FEROHELY": "3",
                                    "POTAGY": "0",
                                    "KLIMAS": "i",
                                    "SZALLAS_FK": "15",
                                    "Napi ár": "25000"
                                },
                                {
                                    "SZOBA_ID": "241",
                                    "SZOBA_SZAMA": "11",
                                    "FEROHELY": "2",
                                    "POTAGY": "0",
                                    "KLIMAS": "i",
                                    "SZALLAS_FK": "15",
                                    "Napi ár": "25000"
                                },
                                {
                                    "SZOBA_ID": "242",
                                    "SZOBA_SZAMA": "12",
                                    "FEROHELY": "2",
                                    "POTAGY": "1",
                                    "KLIMAS": "i",
                                    "SZALLAS_FK": "15",
                                    "Napi ár": "25000"
                                },
                                {
                                    "SZOBA_ID": "243",
                                    "SZOBA_SZAMA": "1",
                                    "FEROHELY": "2",
                                    "POTAGY": "0",
                                    "KLIMAS": "i",
                                    "SZALLAS_FK": "16",
                                    "Napi ár": "25000"
                                },
                                {
                                    "SZOBA_ID": "244",
                                    "SZOBA_SZAMA": "2",
                                    "FEROHELY": "2",
                                    "POTAGY": "1",
                                    "KLIMAS": "i",
                                    "SZALLAS_FK": "16",
                                    "Napi ár": "25000"
                                },
                                {
                                    "SZOBA_ID": "245",
                                    "SZOBA_SZAMA": "3",
                                    "FEROHELY": "2",
                                    "POTAGY": "1",
                                    "KLIMAS": "i",
                                    "SZALLAS_FK": "16",
                                    "Napi ár": "25000"
                                },
                                {
                                    "SZOBA_ID": "246",
                                    "SZOBA_SZAMA": "4",
                                    "FEROHELY": "2",
                                    "POTAGY": "0",
                                    "KLIMAS": "i",
                                    "SZALLAS_FK": "16",
                                    "Napi ár": "25000"
                                },
                                {
                                    "SZOBA_ID": "247",
                                    "SZOBA_SZAMA": "5",
                                    "FEROHELY": "2",
                                    "POTAGY": "0",
                                    "KLIMAS": "i",
                                    "SZALLAS_FK": "16",
                                    "Napi ár": "25000"
                                },
                                {
                                    "SZOBA_ID": "248",
                                    "SZOBA_SZAMA": "6",
                                    "FEROHELY": "2",
                                    "POTAGY": "2",
                                    "KLIMAS": "i",
                                    "SZALLAS_FK": "16",
                                    "Napi ár": "25000"
                                },
                                {
                                    "SZOBA_ID": "249",
                                    "SZOBA_SZAMA": "7",
                                    "FEROHELY": "2",
                                    "POTAGY": "1",
                                    "KLIMAS": "n",
                                    "SZALLAS_FK": "16",
                                    "Napi ár": "20000"
                                },
                                {
                                    "SZOBA_ID": "250",
                                    "SZOBA_SZAMA": "8",
                                    "FEROHELY": "3",
                                    "POTAGY": "1",
                                    "KLIMAS": "n",
                                    "SZALLAS_FK": "16",
                                    "Napi ár": "20000"
                                },
                                {
                                    "SZOBA_ID": "251",
                                    "SZOBA_SZAMA": "9",
                                    "FEROHELY": "3",
                                    "POTAGY": "0",
                                    "KLIMAS": "n",
                                    "SZALLAS_FK": "16",
                                    "Napi ár": "20000"
                                },
                                {
                                    "SZOBA_ID": "252",
                                    "SZOBA_SZAMA": "10",
                                    "FEROHELY": "3",
                                    "POTAGY": "1",
                                    "KLIMAS": "i",
                                    "SZALLAS_FK": "16",
                                    "Napi ár": "25000"
                                },
                                {
                                    "SZOBA_ID": "253",
                                    "SZOBA_SZAMA": "11",
                                    "FEROHELY": "2",
                                    "POTAGY": "0",
                                    "KLIMAS": "i",
                                    "SZALLAS_FK": "16",
                                    "Napi ár": "25000"
                                },
                                {
                                    "SZOBA_ID": "254",
                                    "SZOBA_SZAMA": "12",
                                    "FEROHELY": "2",
                                    "POTAGY": "0",
                                    "KLIMAS": "i",
                                    "SZALLAS_FK": "16",
                                    "Napi ár": "25000"
                                },
                                {
                                    "SZOBA_ID": "255",
                                    "SZOBA_SZAMA": "13",
                                    "FEROHELY": "3",
                                    "POTAGY": "0",
                                    "KLIMAS": "n",
                                    "SZALLAS_FK": "16",
                                    "Napi ár": "20000"
                                },
                                {
                                    "SZOBA_ID": "256",
                                    "SZOBA_SZAMA": "14",
                                    "FEROHELY": "3",
                                    "POTAGY": "1",
                                    "KLIMAS": "i",
                                    "SZALLAS_FK": "16",
                                    "Napi ár": "25000"
                                },
                                {
                                    "SZOBA_ID": "257",
                                    "SZOBA_SZAMA": "15",
                                    "FEROHELY": "2",
                                    "POTAGY": "0",
                                    "KLIMAS": "i",
                                    "SZALLAS_FK": "16",
                                    "Napi ár": "25000"
                                },
                                {
                                    "SZOBA_ID": "258",
                                    "SZOBA_SZAMA": "16",
                                    "FEROHELY": "2",
                                    "POTAGY": "0",
                                    "KLIMAS": "i",
                                    "SZALLAS_FK": "16",
                                    "Napi ár": "25000"
                                },
                                {
                                    "SZOBA_ID": "259",
                                    "SZOBA_SZAMA": "17",
                                    "FEROHELY": "2",
                                    "POTAGY": "0",
                                    "KLIMAS": "i",
                                    "SZALLAS_FK": "16",
                                    "Napi ár": "25000"
                                },
                                {
                                    "SZOBA_ID": "260",
                                    "SZOBA_SZAMA": "18",
                                    "FEROHELY": "2",
                                    "POTAGY": "0",
                                    "KLIMAS": "i",
                                    "SZALLAS_FK": "16",
                                    "Napi ár": "25000"
                                },
                                {
                                    "SZOBA_ID": "261",
                                    "SZOBA_SZAMA": "19",
                                    "FEROHELY": "1",
                                    "POTAGY": "1",
                                    "KLIMAS": "n",
                                    "SZALLAS_FK": "16",
                                    "Napi ár": "20000"
                                },
                                {
                                    "SZOBA_ID": "262",
                                    "SZOBA_SZAMA": "20",
                                    "FEROHELY": "1",
                                    "POTAGY": "0",
                                    "KLIMAS": "n",
                                    "SZALLAS_FK": "16",
                                    "Napi ár": "20000"
                                },
                                {
                                    "SZOBA_ID": "263",
                                    "SZOBA_SZAMA": "1",
                                    "FEROHELY": "2",
                                    "POTAGY": "2",
                                    "KLIMAS": "i",
                                    "SZALLAS_FK": "17",
                                    "Napi ár": "25000"
                                },
                                {
                                    "SZOBA_ID": "264",
                                    "SZOBA_SZAMA": "2",
                                    "FEROHELY": "3",
                                    "POTAGY": "0",
                                    "KLIMAS": "i",
                                    "SZALLAS_FK": "17",
                                    "Napi ár": "25000"
                                },
                                {
                                    "SZOBA_ID": "265",
                                    "SZOBA_SZAMA": "3",
                                    "FEROHELY": "3",
                                    "POTAGY": "0",
                                    "KLIMAS": "i",
                                    "SZALLAS_FK": "17",
                                    "Napi ár": "25000"
                                },
                                {
                                    "SZOBA_ID": "266",
                                    "SZOBA_SZAMA": "4",
                                    "FEROHELY": "2",
                                    "POTAGY": "1",
                                    "KLIMAS": "i",
                                    "SZALLAS_FK": "17",
                                    "Napi ár": "25000"
                                },
                                {
                                    "SZOBA_ID": "267",
                                    "SZOBA_SZAMA": "5",
                                    "FEROHELY": "2",
                                    "POTAGY": "1",
                                    "KLIMAS": "n",
                                    "SZALLAS_FK": "17",
                                    "Napi ár": "20000"
                                },
                                {
                                    "SZOBA_ID": "268",
                                    "SZOBA_SZAMA": "6",
                                    "FEROHELY": "2",
                                    "POTAGY": "2",
                                    "KLIMAS": "n",
                                    "SZALLAS_FK": "17",
                                    "Napi ár": "20000"
                                },
                                {
                                    "SZOBA_ID": "269",
                                    "SZOBA_SZAMA": "7",
                                    "FEROHELY": "2",
                                    "POTAGY": "1",
                                    "KLIMAS": "i",
                                    "SZALLAS_FK": "17",
                                    "Napi ár": "25000"
                                },
                                {
                                    "SZOBA_ID": "270",
                                    "SZOBA_SZAMA": "8",
                                    "FEROHELY": "3",
                                    "POTAGY": "0",
                                    "KLIMAS": "n",
                                    "SZALLAS_FK": "17",
                                    "Napi ár": "20000"
                                },
                                {
                                    "SZOBA_ID": "271",
                                    "SZOBA_SZAMA": "9",
                                    "FEROHELY": "3",
                                    "POTAGY": "0",
                                    "KLIMAS": "i",
                                    "SZALLAS_FK": "17",
                                    "Napi ár": "25000"
                                },
                                {
                                    "SZOBA_ID": "272",
                                    "SZOBA_SZAMA": "10",
                                    "FEROHELY": "3",
                                    "POTAGY": "0",
                                    "KLIMAS": "i",
                                    "SZALLAS_FK": "17",
                                    "Napi ár": "25000"
                                },
                                {
                                    "SZOBA_ID": "273",
                                    "SZOBA_SZAMA": "11",
                                    "FEROHELY": "2",
                                    "POTAGY": "1",
                                    "KLIMAS": "i",
                                    "SZALLAS_FK": "17",
                                    "Napi ár": "25000"
                                },
                                {
                                    "SZOBA_ID": "274",
                                    "SZOBA_SZAMA": "12",
                                    "FEROHELY": "3",
                                    "POTAGY": "1",
                                    "KLIMAS": "i",
                                    "SZALLAS_FK": "17",
                                    "Napi ár": "25000"
                                },
                                {
                                    "SZOBA_ID": "275",
                                    "SZOBA_SZAMA": "13",
                                    "FEROHELY": "2",
                                    "POTAGY": "1",
                                    "KLIMAS": "n",
                                    "SZALLAS_FK": "17",
                                    "Napi ár": "20000"
                                },
                                {
                                    "SZOBA_ID": "276",
                                    "SZOBA_SZAMA": "14",
                                    "FEROHELY": "2",
                                    "POTAGY": "0",
                                    "KLIMAS": "i",
                                    "SZALLAS_FK": "17",
                                    "Napi ár": "25000"
                                },
                                {
                                    "SZOBA_ID": "277",
                                    "SZOBA_SZAMA": "15",
                                    "FEROHELY": "2",
                                    "POTAGY": "0",
                                    "KLIMAS": "i",
                                    "SZALLAS_FK": "17",
                                    "Napi ár": "25000"
                                },
                                {
                                    "SZOBA_ID": "278",
                                    "SZOBA_SZAMA": "1",
                                    "FEROHELY": "3",
                                    "POTAGY": "1",
                                    "KLIMAS": "i",
                                    "SZALLAS_FK": "18",
                                    "Napi ár": "25000"
                                },
                                {
                                    "SZOBA_ID": "279",
                                    "SZOBA_SZAMA": "2",
                                    "FEROHELY": "2",
                                    "POTAGY": "1",
                                    "KLIMAS": "i",
                                    "SZALLAS_FK": "18",
                                    "Napi ár": "25000"
                                },
                                {
                                    "SZOBA_ID": "280",
                                    "SZOBA_SZAMA": "3",
                                    "FEROHELY": "3",
                                    "POTAGY": "0",
                                    "KLIMAS": "n",
                                    "SZALLAS_FK": "18",
                                    "Napi ár": "20000"
                                },
                                {
                                    "SZOBA_ID": "281",
                                    "SZOBA_SZAMA": "1",
                                    "FEROHELY": "2",
                                    "POTAGY": "0",
                                    "KLIMAS": "n",
                                    "SZALLAS_FK": "19",
                                    "Napi ár": "20000"
                                },
                                {
                                    "SZOBA_ID": "282",
                                    "SZOBA_SZAMA": "2",
                                    "FEROHELY": "2",
                                    "POTAGY": "0",
                                    "KLIMAS": "i",
                                    "SZALLAS_FK": "19",
                                    "Napi ár": "25000"
                                },
                                {
                                    "SZOBA_ID": "283",
                                    "SZOBA_SZAMA": "3",
                                    "FEROHELY": "2",
                                    "POTAGY": "0",
                                    "KLIMAS": "n",
                                    "SZALLAS_FK": "19",
                                    "Napi ár": "20000"
                                },
                                {
                                    "SZOBA_ID": "284",
                                    "SZOBA_SZAMA": "4",
                                    "FEROHELY": "2",
                                    "POTAGY": "2",
                                    "KLIMAS": "i",
                                    "SZALLAS_FK": "19",
                                    "Napi ár": "25000"
                                },
                                {
                                    "SZOBA_ID": "285",
                                    "SZOBA_SZAMA": "1",
                                    "FEROHELY": "2",
                                    "POTAGY": "1",
                                    "KLIMAS": "i",
                                    "SZALLAS_FK": "20",
                                    "Napi ár": "25000"
                                },
                                {
                                    "SZOBA_ID": "286",
                                    "SZOBA_SZAMA": "2",
                                    "FEROHELY": "3",
                                    "POTAGY": "0",
                                    "KLIMAS": "i",
                                    "SZALLAS_FK": "20",
                                    "Napi ár": "25000"
                                },
                                {
                                    "SZOBA_ID": "287",
                                    "SZOBA_SZAMA": "3",
                                    "FEROHELY": "3",
                                    "POTAGY": "0",
                                    "KLIMAS": "n",
                                    "SZALLAS_FK": "20",
                                    "Napi ár": "20000"
                                },
                                {
                                    "SZOBA_ID": "288",
                                    "SZOBA_SZAMA": "4",
                                    "FEROHELY": "2",
                                    "POTAGY": "1",
                                    "KLIMAS": "i",
                                    "SZALLAS_FK": "20",
                                    "Napi ár": "25000"
                                },
                                {
                                    "SZOBA_ID": "289",
                                    "SZOBA_SZAMA": "5",
                                    "FEROHELY": "3",
                                    "POTAGY": "0",
                                    "KLIMAS": "i",
                                    "SZALLAS_FK": "20",
                                    "Napi ár": "25000"
                                },
                                {
                                    "SZOBA_ID": "290",
                                    "SZOBA_SZAMA": "6",
                                    "FEROHELY": "2",
                                    "POTAGY": "1",
                                    "KLIMAS": "i",
                                    "SZALLAS_FK": "20",
                                    "Napi ár": "25000"
                                },
                                {
                                    "SZOBA_ID": "291",
                                    "SZOBA_SZAMA": "7",
                                    "FEROHELY": "2",
                                    "POTAGY": "1",
                                    "KLIMAS": "i",
                                    "SZALLAS_FK": "20",
                                    "Napi ár": "25000"
                                },
                                {
                                    "SZOBA_ID": "292",
                                    "SZOBA_SZAMA": "8",
                                    "FEROHELY": "2",
                                    "POTAGY": "1",
                                    "KLIMAS": "i",
                                    "SZALLAS_FK": "20",
                                    "Napi ár": "25000"
                                },
                                {
                                    "SZOBA_ID": "293",
                                    "SZOBA_SZAMA": "9",
                                    "FEROHELY": "2",
                                    "POTAGY": "1",
                                    "KLIMAS": "i",
                                    "SZALLAS_FK": "20",
                                    "Napi ár": "25000"
                                },
                                {
                                    "SZOBA_ID": "294",
                                    "SZOBA_SZAMA": "10",
                                    "FEROHELY": "3",
                                    "POTAGY": "0",
                                    "KLIMAS": "i",
                                    "SZALLAS_FK": "20",
                                    "Napi ár": "25000"
                                }
                            ]
                        },
                        "text/html": "<table><tr><th>SZOBA_ID</th><th>SZOBA_SZAMA</th><th>FEROHELY</th><th>POTAGY</th><th>KLIMAS</th><th>SZALLAS_FK</th><th>Napi ár</th></tr><tr><td>159</td><td>25</td><td>3</td><td>1</td><td>n</td><td>10</td><td>20000</td></tr><tr><td>199</td><td>35</td><td>3</td><td>2</td><td>i</td><td>12</td><td>25000</td></tr><tr><td>200</td><td>36</td><td>2</td><td>0</td><td>i</td><td>12</td><td>25000</td></tr><tr><td>201</td><td>37</td><td>3</td><td>1</td><td>n</td><td>12</td><td>20000</td></tr><tr><td>202</td><td>38</td><td>3</td><td>1</td><td>i</td><td>12</td><td>25000</td></tr><tr><td>203</td><td>39</td><td>3</td><td>0</td><td>i</td><td>12</td><td>25000</td></tr><tr><td>204</td><td>40</td><td>3</td><td>1</td><td>i</td><td>12</td><td>25000</td></tr><tr><td>205</td><td>41</td><td>3</td><td>0</td><td>i</td><td>12</td><td>25000</td></tr><tr><td>206</td><td>42</td><td>2</td><td>1</td><td>i</td><td>12</td><td>25000</td></tr><tr><td>207</td><td>43</td><td>2</td><td>1</td><td>i</td><td>12</td><td>25000</td></tr><tr><td>208</td><td>44</td><td>2</td><td>1</td><td>i</td><td>12</td><td>25000</td></tr><tr><td>209</td><td>45</td><td>3</td><td>2</td><td>n</td><td>12</td><td>20000</td></tr><tr><td>210</td><td>46</td><td>2</td><td>0</td><td>i</td><td>12</td><td>25000</td></tr><tr><td>211</td><td>47</td><td>2</td><td>1</td><td>i</td><td>12</td><td>25000</td></tr><tr><td>212</td><td>48</td><td>3</td><td>0</td><td>n</td><td>12</td><td>20000</td></tr><tr><td>213</td><td>49</td><td>3</td><td>0</td><td>i</td><td>12</td><td>25000</td></tr><tr><td>214</td><td>50</td><td>3</td><td>1</td><td>i</td><td>12</td><td>25000</td></tr><tr><td>215</td><td>1</td><td>2</td><td>1</td><td>i</td><td>13</td><td>25000</td></tr><tr><td>216</td><td>2</td><td>3</td><td>1</td><td>i</td><td>13</td><td>25000</td></tr><tr><td>217</td><td>3</td><td>2</td><td>1</td><td>n</td><td>13</td><td>20000</td></tr><tr><td>218</td><td>4</td><td>3</td><td>0</td><td>i</td><td>13</td><td>25000</td></tr><tr><td>219</td><td>5</td><td>2</td><td>0</td><td>n</td><td>13</td><td>20000</td></tr><tr><td>220</td><td>6</td><td>3</td><td>0</td><td>i</td><td>13</td><td>25000</td></tr><tr><td>221</td><td>7</td><td>3</td><td>0</td><td>i</td><td>13</td><td>25000</td></tr><tr><td>222</td><td>8</td><td>2</td><td>0</td><td>n</td><td>13</td><td>20000</td></tr><tr><td>223</td><td>9</td><td>2</td><td>1</td><td>i</td><td>13</td><td>25000</td></tr><tr><td>224</td><td>10</td><td>2</td><td>0</td><td>i</td><td>13</td><td>25000</td></tr><tr><td>225</td><td>11</td><td>2</td><td>1</td><td>i</td><td>13</td><td>25000</td></tr><tr><td>226</td><td>12</td><td>3</td><td>1</td><td>n</td><td>13</td><td>20000</td></tr><tr><td>227</td><td>1</td><td>2</td><td>1</td><td>i</td><td>14</td><td>25000</td></tr><tr><td>228</td><td>2</td><td>3</td><td>0</td><td>i</td><td>14</td><td>25000</td></tr><tr><td>229</td><td>3</td><td>2</td><td>0</td><td>i</td><td>14</td><td>25000</td></tr><tr><td>230</td><td>4</td><td>3</td><td>2</td><td>i</td><td>14</td><td>25000</td></tr><tr><td>231</td><td>1</td><td>2</td><td>0</td><td>i</td><td>15</td><td>25000</td></tr><tr><td>232</td><td>2</td><td>2</td><td>0</td><td>i</td><td>15</td><td>25000</td></tr><tr><td>233</td><td>3</td><td>3</td><td>0</td><td>n</td><td>15</td><td>20000</td></tr><tr><td>234</td><td>4</td><td>3</td><td>1</td><td>i</td><td>15</td><td>25000</td></tr><tr><td>235</td><td>5</td><td>3</td><td>0</td><td>i</td><td>15</td><td>25000</td></tr><tr><td>236</td><td>6</td><td>3</td><td>1</td><td>n</td><td>15</td><td>20000</td></tr><tr><td>237</td><td>7</td><td>2</td><td>2</td><td>n</td><td>15</td><td>20000</td></tr><tr><td>238</td><td>8</td><td>3</td><td>1</td><td>i</td><td>15</td><td>25000</td></tr><tr><td>239</td><td>9</td><td>2</td><td>2</td><td>i</td><td>15</td><td>25000</td></tr><tr><td>240</td><td>10</td><td>3</td><td>0</td><td>i</td><td>15</td><td>25000</td></tr><tr><td>241</td><td>11</td><td>2</td><td>0</td><td>i</td><td>15</td><td>25000</td></tr><tr><td>242</td><td>12</td><td>2</td><td>1</td><td>i</td><td>15</td><td>25000</td></tr><tr><td>243</td><td>1</td><td>2</td><td>0</td><td>i</td><td>16</td><td>25000</td></tr><tr><td>244</td><td>2</td><td>2</td><td>1</td><td>i</td><td>16</td><td>25000</td></tr><tr><td>245</td><td>3</td><td>2</td><td>1</td><td>i</td><td>16</td><td>25000</td></tr><tr><td>246</td><td>4</td><td>2</td><td>0</td><td>i</td><td>16</td><td>25000</td></tr><tr><td>247</td><td>5</td><td>2</td><td>0</td><td>i</td><td>16</td><td>25000</td></tr><tr><td>248</td><td>6</td><td>2</td><td>2</td><td>i</td><td>16</td><td>25000</td></tr><tr><td>249</td><td>7</td><td>2</td><td>1</td><td>n</td><td>16</td><td>20000</td></tr><tr><td>250</td><td>8</td><td>3</td><td>1</td><td>n</td><td>16</td><td>20000</td></tr><tr><td>251</td><td>9</td><td>3</td><td>0</td><td>n</td><td>16</td><td>20000</td></tr><tr><td>252</td><td>10</td><td>3</td><td>1</td><td>i</td><td>16</td><td>25000</td></tr><tr><td>253</td><td>11</td><td>2</td><td>0</td><td>i</td><td>16</td><td>25000</td></tr><tr><td>254</td><td>12</td><td>2</td><td>0</td><td>i</td><td>16</td><td>25000</td></tr><tr><td>255</td><td>13</td><td>3</td><td>0</td><td>n</td><td>16</td><td>20000</td></tr><tr><td>256</td><td>14</td><td>3</td><td>1</td><td>i</td><td>16</td><td>25000</td></tr><tr><td>257</td><td>15</td><td>2</td><td>0</td><td>i</td><td>16</td><td>25000</td></tr><tr><td>258</td><td>16</td><td>2</td><td>0</td><td>i</td><td>16</td><td>25000</td></tr><tr><td>259</td><td>17</td><td>2</td><td>0</td><td>i</td><td>16</td><td>25000</td></tr><tr><td>260</td><td>18</td><td>2</td><td>0</td><td>i</td><td>16</td><td>25000</td></tr><tr><td>261</td><td>19</td><td>1</td><td>1</td><td>n</td><td>16</td><td>20000</td></tr><tr><td>262</td><td>20</td><td>1</td><td>0</td><td>n</td><td>16</td><td>20000</td></tr><tr><td>263</td><td>1</td><td>2</td><td>2</td><td>i</td><td>17</td><td>25000</td></tr><tr><td>264</td><td>2</td><td>3</td><td>0</td><td>i</td><td>17</td><td>25000</td></tr><tr><td>265</td><td>3</td><td>3</td><td>0</td><td>i</td><td>17</td><td>25000</td></tr><tr><td>266</td><td>4</td><td>2</td><td>1</td><td>i</td><td>17</td><td>25000</td></tr><tr><td>267</td><td>5</td><td>2</td><td>1</td><td>n</td><td>17</td><td>20000</td></tr><tr><td>268</td><td>6</td><td>2</td><td>2</td><td>n</td><td>17</td><td>20000</td></tr><tr><td>269</td><td>7</td><td>2</td><td>1</td><td>i</td><td>17</td><td>25000</td></tr><tr><td>270</td><td>8</td><td>3</td><td>0</td><td>n</td><td>17</td><td>20000</td></tr><tr><td>271</td><td>9</td><td>3</td><td>0</td><td>i</td><td>17</td><td>25000</td></tr><tr><td>272</td><td>10</td><td>3</td><td>0</td><td>i</td><td>17</td><td>25000</td></tr><tr><td>273</td><td>11</td><td>2</td><td>1</td><td>i</td><td>17</td><td>25000</td></tr><tr><td>274</td><td>12</td><td>3</td><td>1</td><td>i</td><td>17</td><td>25000</td></tr><tr><td>275</td><td>13</td><td>2</td><td>1</td><td>n</td><td>17</td><td>20000</td></tr><tr><td>276</td><td>14</td><td>2</td><td>0</td><td>i</td><td>17</td><td>25000</td></tr><tr><td>277</td><td>15</td><td>2</td><td>0</td><td>i</td><td>17</td><td>25000</td></tr><tr><td>278</td><td>1</td><td>3</td><td>1</td><td>i</td><td>18</td><td>25000</td></tr><tr><td>279</td><td>2</td><td>2</td><td>1</td><td>i</td><td>18</td><td>25000</td></tr><tr><td>280</td><td>3</td><td>3</td><td>0</td><td>n</td><td>18</td><td>20000</td></tr><tr><td>281</td><td>1</td><td>2</td><td>0</td><td>n</td><td>19</td><td>20000</td></tr><tr><td>282</td><td>2</td><td>2</td><td>0</td><td>i</td><td>19</td><td>25000</td></tr><tr><td>283</td><td>3</td><td>2</td><td>0</td><td>n</td><td>19</td><td>20000</td></tr><tr><td>284</td><td>4</td><td>2</td><td>2</td><td>i</td><td>19</td><td>25000</td></tr><tr><td>285</td><td>1</td><td>2</td><td>1</td><td>i</td><td>20</td><td>25000</td></tr><tr><td>286</td><td>2</td><td>3</td><td>0</td><td>i</td><td>20</td><td>25000</td></tr><tr><td>287</td><td>3</td><td>3</td><td>0</td><td>n</td><td>20</td><td>20000</td></tr><tr><td>288</td><td>4</td><td>2</td><td>1</td><td>i</td><td>20</td><td>25000</td></tr><tr><td>289</td><td>5</td><td>3</td><td>0</td><td>i</td><td>20</td><td>25000</td></tr><tr><td>290</td><td>6</td><td>2</td><td>1</td><td>i</td><td>20</td><td>25000</td></tr><tr><td>291</td><td>7</td><td>2</td><td>1</td><td>i</td><td>20</td><td>25000</td></tr><tr><td>292</td><td>8</td><td>2</td><td>1</td><td>i</td><td>20</td><td>25000</td></tr><tr><td>293</td><td>9</td><td>2</td><td>1</td><td>i</td><td>20</td><td>25000</td></tr><tr><td>294</td><td>10</td><td>3</td><td>0</td><td>i</td><td>20</td><td>25000</td></tr></table>"
                    },
                    "metadata": {}
                }
            ],
            "execution_count": 10
        }
    ]
}