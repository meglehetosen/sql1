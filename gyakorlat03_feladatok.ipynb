{
    "metadata": {
        "kernelspec": {
            "name": "SQL",
            "display_name": "SQL",
            "language": "sql"
        },
        "language_info": {
            "name": "sql",
            "version": ""
        },
        "extensions": {
            "azuredatastudio": {
                "version": 1,
                "views": []
            }
        }
    },
    "nbformat_minor": 2,
    "nbformat": 4,
    "cells": [
        {
            "cell_type": "markdown",
            "source": [
                "**Az első 5 feladat ismétlés (többtáblás lekérdezések) a tanulmányi adatbázisból**\n",
                "\n",
                "1. Készítsünk listát arról, hogy melyik óra melyik teremben van!\n",
                "    \n",
                "    1. Jelenítsük meg az óra azonosítóját és a terem nevét!\n",
                "    2. A listát szűrjük a 3 karakter hosszú, \\[100;199\\] zárt intervallumba eső termekre! Feltesszük, hogy a 3 karakter hosszú terem nevek csak számjegyeket tartalmaznak."
            ],
            "metadata": {
                "azdata_cell_guid": "77f2d5b3-38e9-41cc-893f-f5afd02b97ef"
            },
            "attachments": {}
        },
        {
            "cell_type": "code",
            "source": [
                "SELECT o.ora_id,\r\n",
                "        t.Terem\r\n",
                "FROM Orak as o JOIN Termek as t ON o.terem = t.Tkód\r\n",
                "where len(t.terem) = 3 and t.terem BETWEEN 100 and 199"
            ],
            "metadata": {
                "azdata_cell_guid": "bd3cef1a-4e6e-4ece-9dc3-aaa9d2b5d66d",
                "language": "sql"
            },
            "outputs": [
                {
                    "output_type": "display_data",
                    "data": {
                        "text/html": "(30 rows affected)"
                    },
                    "metadata": {}
                },
                {
                    "output_type": "display_data",
                    "data": {
                        "text/html": "Total execution time: 00:00:00.050"
                    },
                    "metadata": {}
                },
                {
                    "output_type": "execute_result",
                    "metadata": {},
                    "execution_count": 1,
                    "data": {
                        "application/vnd.dataresource+json": {
                            "schema": {
                                "fields": [
                                    {
                                        "name": "ora_id"
                                    },
                                    {
                                        "name": "Terem"
                                    }
                                ]
                            },
                            "data": [
                                {
                                    "ora_id": "159",
                                    "Terem": "117"
                                },
                                {
                                    "ora_id": "160",
                                    "Terem": "118"
                                },
                                {
                                    "ora_id": "161",
                                    "Terem": "118"
                                },
                                {
                                    "ora_id": "162",
                                    "Terem": "119"
                                },
                                {
                                    "ora_id": "163",
                                    "Terem": "120"
                                },
                                {
                                    "ora_id": "164",
                                    "Terem": "119"
                                },
                                {
                                    "ora_id": "165",
                                    "Terem": "119"
                                },
                                {
                                    "ora_id": "166",
                                    "Terem": "119"
                                },
                                {
                                    "ora_id": "167",
                                    "Terem": "120"
                                },
                                {
                                    "ora_id": "170",
                                    "Terem": "120"
                                },
                                {
                                    "ora_id": "172",
                                    "Terem": "119"
                                },
                                {
                                    "ora_id": "173",
                                    "Terem": "119"
                                },
                                {
                                    "ora_id": "175",
                                    "Terem": "120"
                                },
                                {
                                    "ora_id": "176",
                                    "Terem": "118"
                                },
                                {
                                    "ora_id": "177",
                                    "Terem": "119"
                                },
                                {
                                    "ora_id": "179",
                                    "Terem": "120"
                                },
                                {
                                    "ora_id": "180",
                                    "Terem": "119"
                                },
                                {
                                    "ora_id": "181",
                                    "Terem": "118"
                                },
                                {
                                    "ora_id": "185",
                                    "Terem": "120"
                                },
                                {
                                    "ora_id": "192",
                                    "Terem": "119"
                                },
                                {
                                    "ora_id": "195",
                                    "Terem": "116"
                                },
                                {
                                    "ora_id": "197",
                                    "Terem": "116"
                                },
                                {
                                    "ora_id": "198",
                                    "Terem": "119"
                                },
                                {
                                    "ora_id": "204",
                                    "Terem": "120"
                                },
                                {
                                    "ora_id": "212",
                                    "Terem": "120"
                                },
                                {
                                    "ora_id": "218",
                                    "Terem": "118"
                                },
                                {
                                    "ora_id": "220",
                                    "Terem": "119"
                                },
                                {
                                    "ora_id": "222",
                                    "Terem": "116"
                                },
                                {
                                    "ora_id": "226",
                                    "Terem": "117"
                                },
                                {
                                    "ora_id": "227",
                                    "Terem": "116"
                                }
                            ]
                        },
                        "text/html": [
                            "<table>",
                            "<tr><th>ora_id</th><th>Terem</th></tr>",
                            "<tr><td>159</td><td>117</td></tr>",
                            "<tr><td>160</td><td>118</td></tr>",
                            "<tr><td>161</td><td>118</td></tr>",
                            "<tr><td>162</td><td>119</td></tr>",
                            "<tr><td>163</td><td>120</td></tr>",
                            "<tr><td>164</td><td>119</td></tr>",
                            "<tr><td>165</td><td>119</td></tr>",
                            "<tr><td>166</td><td>119</td></tr>",
                            "<tr><td>167</td><td>120</td></tr>",
                            "<tr><td>170</td><td>120</td></tr>",
                            "<tr><td>172</td><td>119</td></tr>",
                            "<tr><td>173</td><td>119</td></tr>",
                            "<tr><td>175</td><td>120</td></tr>",
                            "<tr><td>176</td><td>118</td></tr>",
                            "<tr><td>177</td><td>119</td></tr>",
                            "<tr><td>179</td><td>120</td></tr>",
                            "<tr><td>180</td><td>119</td></tr>",
                            "<tr><td>181</td><td>118</td></tr>",
                            "<tr><td>185</td><td>120</td></tr>",
                            "<tr><td>192</td><td>119</td></tr>",
                            "<tr><td>195</td><td>116</td></tr>",
                            "<tr><td>197</td><td>116</td></tr>",
                            "<tr><td>198</td><td>119</td></tr>",
                            "<tr><td>204</td><td>120</td></tr>",
                            "<tr><td>212</td><td>120</td></tr>",
                            "<tr><td>218</td><td>118</td></tr>",
                            "<tr><td>220</td><td>119</td></tr>",
                            "<tr><td>222</td><td>116</td></tr>",
                            "<tr><td>226</td><td>117</td></tr>",
                            "<tr><td>227</td><td>116</td></tr>",
                            "</table>"
                        ]
                    }
                }
            ],
            "execution_count": 1
        },
        {
            "cell_type": "markdown",
            "source": [
                "<mark>2. <span style=\"font-weight: 600; color: rgb(36, 41, 47); font-family: -apple-system, BlinkMacSystemFont, &quot;Segoe UI&quot;, Helvetica, Arial, sans-serif, &quot;Apple Color Emoji&quot;, &quot;Segoe UI Emoji&quot;; font-size: 16px;\">Hány óra van összesen az egyes napokon?</span></mark>\n",
                "\n",
                "1. Jelenítsük meg a napok nevét és az órák számát az adott napon!\n",
                "2. Az oszlopokat nevezzük el értelemszerűen!\n",
                "3. A listát rendezzük óraszám szerint növekvő sorrendbe!"
            ],
            "metadata": {
                "azdata_cell_guid": "88f5b4bb-f4c1-4bad-a0c7-b2592687b422"
            },
            "attachments": {}
        },
        {
            "cell_type": "code",
            "source": [
                "SELECT n.nap,\r\n",
                "        COUNT(o.ora_id) as Óraszám\r\n",
                "from Napok n JOIN Orak o on n.nap_id = o.nap\r\n",
                "group by n.nap\r\n",
                "ORDER by COUNT(o.ora_id) ASC"
            ],
            "metadata": {
                "azdata_cell_guid": "e9de5726-f036-4fb9-8c33-a873955ed886",
                "language": "sql"
            },
            "outputs": [
                {
                    "output_type": "display_data",
                    "data": {
                        "text/html": "(5 rows affected)"
                    },
                    "metadata": {}
                },
                {
                    "output_type": "display_data",
                    "data": {
                        "text/html": "Total execution time: 00:00:00.023"
                    },
                    "metadata": {}
                },
                {
                    "output_type": "execute_result",
                    "metadata": {},
                    "execution_count": 16,
                    "data": {
                        "application/vnd.dataresource+json": {
                            "schema": {
                                "fields": [
                                    {
                                        "name": "nap"
                                    },
                                    {
                                        "name": "Óraszám"
                                    }
                                ]
                            },
                            "data": [
                                {
                                    "nap": "Péntek",
                                    "Óraszám": "6"
                                },
                                {
                                    "nap": "Szerda",
                                    "Óraszám": "6"
                                },
                                {
                                    "nap": "Kedd",
                                    "Óraszám": "13"
                                },
                                {
                                    "nap": "Csütörtök",
                                    "Óraszám": "19"
                                },
                                {
                                    "nap": "Hétfő",
                                    "Óraszám": "23"
                                }
                            ]
                        },
                        "text/html": [
                            "<table>",
                            "<tr><th>nap</th><th>Óraszám</th></tr>",
                            "<tr><td>Péntek</td><td>6</td></tr>",
                            "<tr><td>Szerda</td><td>6</td></tr>",
                            "<tr><td>Kedd</td><td>13</td></tr>",
                            "<tr><td>Csütörtök</td><td>19</td></tr>",
                            "<tr><td>Hétfő</td><td>23</td></tr>",
                            "</table>"
                        ]
                    }
                }
            ],
            "execution_count": 16
        },
        {
            "cell_type": "markdown",
            "source": [
                "3. <span style=\"font-weight: 600; color: rgb(36, 41, 47); font-family: -apple-system, BlinkMacSystemFont, &quot;Segoe UI&quot;, Helvetica, Arial, sans-serif, &quot;Apple Color Emoji&quot;, &quot;Segoe UI Emoji&quot;; font-size: 16px; background-color: yellow;\">Készítsünk listát arról, hogy melyik oktatónak hány órája van az Órák táblában!</span>\n",
                "\n",
                "1. A lista jelenítse meg az oktatók nevét, és az órák számát!\n",
                "2. Az oszlopokat nevezzük el értelemszerűen!\n",
                "3. A listából hagyjuk ki az óraadókat!"
            ],
            "metadata": {
                "azdata_cell_guid": "9e7249de-1b59-43d8-84b1-26fa7d81fc5a"
            },
            "attachments": {}
        },
        {
            "cell_type": "code",
            "source": [
                "SELECT ok.nev,\r\n",
                "        COUNT(ora.ora_id) as Óraszám\r\n",
                "from Oktatok ok join Orak ora on ok.oktato_id = ora.tanar\r\n",
                "WHERE ok.beosztás != 1\r\n",
                "GROUP BY ok.nev\r\n",
                ""
            ],
            "metadata": {
                "azdata_cell_guid": "6405d3e8-a9b1-45d7-aa76-3b1e785ef6cc",
                "language": "sql"
            },
            "outputs": [
                {
                    "output_type": "display_data",
                    "data": {
                        "text/html": "(15 rows affected)"
                    },
                    "metadata": {}
                },
                {
                    "output_type": "display_data",
                    "data": {
                        "text/html": "Total execution time: 00:00:00.013"
                    },
                    "metadata": {}
                },
                {
                    "output_type": "execute_result",
                    "metadata": {},
                    "execution_count": 15,
                    "data": {
                        "application/vnd.dataresource+json": {
                            "schema": {
                                "fields": [
                                    {
                                        "name": "nev"
                                    },
                                    {
                                        "name": "Óraszám"
                                    }
                                ]
                            },
                            "data": [
                                {
                                    "nev": "Balkán András",
                                    "Óraszám": "3"
                                },
                                {
                                    "nev": "Farkasos Piroska",
                                    "Óraszám": "7"
                                },
                                {
                                    "nev": "Jogrerős Pál",
                                    "Óraszám": "2"
                                },
                                {
                                    "nev": "Juhász András",
                                    "Óraszám": "2"
                                },
                                {
                                    "nev": "Kiss János",
                                    "Óraszám": "4"
                                },
                                {
                                    "nev": "Kovács László",
                                    "Óraszám": "4"
                                },
                                {
                                    "nev": "Pelikán József",
                                    "Óraszám": "6"
                                },
                                {
                                    "nev": "Róbert Gida",
                                    "Óraszám": "1"
                                },
                                {
                                    "nev": "Szénási ászló",
                                    "Óraszám": "2"
                                },
                                {
                                    "nev": "Szentágotai Istvás",
                                    "Óraszám": "8"
                                },
                                {
                                    "nev": "Szép llonka",
                                    "Óraszám": "4"
                                },
                                {
                                    "nev": "Szerb László",
                                    "Óraszám": "3"
                                },
                                {
                                    "nev": "Ujfalussi István",
                                    "Óraszám": "3"
                                },
                                {
                                    "nev": "Varga Kata",
                                    "Óraszám": "4"
                                },
                                {
                                    "nev": "Vitéz János",
                                    "Óraszám": "4"
                                }
                            ]
                        },
                        "text/html": [
                            "<table>",
                            "<tr><th>nev</th><th>Óraszám</th></tr>",
                            "<tr><td>Balkán András</td><td>3</td></tr>",
                            "<tr><td>Farkasos Piroska</td><td>7</td></tr>",
                            "<tr><td>Jogrerős Pál</td><td>2</td></tr>",
                            "<tr><td>Juhász András</td><td>2</td></tr>",
                            "<tr><td>Kiss János</td><td>4</td></tr>",
                            "<tr><td>Kovács László</td><td>4</td></tr>",
                            "<tr><td>Pelikán József</td><td>6</td></tr>",
                            "<tr><td>Róbert Gida</td><td>1</td></tr>",
                            "<tr><td>Szénási ászló</td><td>2</td></tr>",
                            "<tr><td>Szentágotai Istvás</td><td>8</td></tr>",
                            "<tr><td>Szép llonka</td><td>4</td></tr>",
                            "<tr><td>Szerb László</td><td>3</td></tr>",
                            "<tr><td>Ujfalussi István</td><td>3</td></tr>",
                            "<tr><td>Varga Kata</td><td>4</td></tr>",
                            "<tr><td>Vitéz János</td><td>4</td></tr>",
                            "</table>"
                        ]
                    }
                }
            ],
            "execution_count": 15
        },
        {
            "cell_type": "markdown",
            "source": [
                "<mark>4. <span style=\"color: rgb(36, 41, 47); font-family: -apple-system, BlinkMacSystemFont, &quot;Segoe UI&quot;, Helvetica, Arial, sans-serif, &quot;Apple Color Emoji&quot;, &quot;Segoe UI Emoji&quot;; font-size: 16px;\">Van-e olyan tantárgy, amelyből nincs óra?</span></mark>\n",
                "\n",
                "1. Jelentsük meg a tantárgy nevét és a tantárgyfelelős nevét!"
            ],
            "metadata": {
                "azdata_cell_guid": "6478e469-c094-472c-a772-ccd5b5c61516"
            },
            "attachments": {}
        },
        {
            "cell_type": "code",
            "source": [
                "-- SELECT t.Tantárgynév,\r\n",
                "--         ok.nev\r\n",
                "-- from Orak o join Tantárgyak t on t.Tkód = o.targy\r\n",
                "--             JOIN Oktatok ok on o.ora_id = ok.oktato_id\r\n",
                "\r\n",
                "SELECT t.Tantárgynév,\r\n",
                "        okt.nev\r\n",
                "from Tantárgyak t left join Orak o on t.Tkód = o.targy\r\n",
                "                        join Oktatok okt on t.Tantárgyfelelős = okt.oktato_id\r\n",
                "where o.targy is NULL\r\n",
                ""
            ],
            "metadata": {
                "azdata_cell_guid": "02031ea2-3838-458d-839c-228e3b362b61",
                "language": "sql",
                "tags": []
            },
            "outputs": [
                {
                    "output_type": "display_data",
                    "data": {
                        "text/html": "(1 row affected)"
                    },
                    "metadata": {}
                },
                {
                    "output_type": "display_data",
                    "data": {
                        "text/html": "Total execution time: 00:00:00.008"
                    },
                    "metadata": {}
                },
                {
                    "output_type": "execute_result",
                    "metadata": {},
                    "execution_count": 24,
                    "data": {
                        "application/vnd.dataresource+json": {
                            "schema": {
                                "fields": [
                                    {
                                        "name": "Tantárgynév"
                                    },
                                    {
                                        "name": "nev"
                                    }
                                ]
                            },
                            "data": [
                                {
                                    "Tantárgynév": "Folyami gáttan",
                                    "nev": "Varga Kata"
                                }
                            ]
                        },
                        "text/html": [
                            "<table>",
                            "<tr><th>Tantárgynév</th><th>nev</th></tr>",
                            "<tr><td>Folyami gáttan</td><td>Varga Kata</td></tr>",
                            "</table>"
                        ]
                    }
                }
            ],
            "execution_count": 24
        },
        {
            "cell_type": "markdown",
            "source": [
                "5. <span style=\"background-color: rgb(255, 255, 255); color: rgb(36, 41, 47); font-family: -apple-system, BlinkMacSystemFont, &quot;Segoe UI&quot;, Helvetica, Arial, sans-serif, &quot;Apple Color Emoji&quot;, &quot;Segoe UI Emoji&quot;; font-size: 16px;\">Hány óra van összesen a 120-as teremben?</span>"
            ],
            "metadata": {
                "azdata_cell_guid": "9edbbaf9-c276-4898-9a01-e1b2993c089f"
            },
            "attachments": {}
        },
        {
            "cell_type": "code",
            "source": [
                ""
            ],
            "metadata": {
                "azdata_cell_guid": "5ad5fdcb-2878-4111-861a-833bcd50e935",
                "language": "sql"
            },
            "outputs": [
                {
                    "output_type": "display_data",
                    "data": {
                        "text/html": "(67 rows affected)"
                    },
                    "metadata": {}
                },
                {
                    "output_type": "display_data",
                    "data": {
                        "text/html": "Total execution time: 00:00:00.006"
                    },
                    "metadata": {}
                },
                {
                    "output_type": "execute_result",
                    "metadata": {},
                    "execution_count": 18,
                    "data": {
                        "application/vnd.dataresource+json": {
                            "schema": {
                                "fields": [
                                    {
                                        "name": "ora_id"
                                    },
                                    {
                                        "name": "tanar"
                                    },
                                    {
                                        "name": "nap"
                                    },
                                    {
                                        "name": "Sav"
                                    },
                                    {
                                        "name": "targy"
                                    },
                                    {
                                        "name": "terem"
                                    }
                                ]
                            },
                            "data": [
                                {
                                    "ora_id": "159",
                                    "tanar": "4",
                                    "nap": "3",
                                    "Sav": "1",
                                    "targy": "1",
                                    "terem": "1"
                                },
                                {
                                    "ora_id": "160",
                                    "tanar": "8",
                                    "nap": "2",
                                    "Sav": "5",
                                    "targy": "1",
                                    "terem": "2"
                                },
                                {
                                    "ora_id": "161",
                                    "tanar": "8",
                                    "nap": "1",
                                    "Sav": "2",
                                    "targy": "1",
                                    "terem": "2"
                                },
                                {
                                    "ora_id": "162",
                                    "tanar": "20",
                                    "nap": "1",
                                    "Sav": "4",
                                    "targy": "1",
                                    "terem": "3"
                                },
                                {
                                    "ora_id": "163",
                                    "tanar": "3",
                                    "nap": "3",
                                    "Sav": "2",
                                    "targy": "1",
                                    "terem": "4"
                                },
                                {
                                    "ora_id": "164",
                                    "tanar": "7",
                                    "nap": "2",
                                    "Sav": "3",
                                    "targy": "1",
                                    "terem": "3"
                                },
                                {
                                    "ora_id": "165",
                                    "tanar": "3",
                                    "nap": "2",
                                    "Sav": "3",
                                    "targy": "1",
                                    "terem": "3"
                                },
                                {
                                    "ora_id": "166",
                                    "tanar": "3",
                                    "nap": "2",
                                    "Sav": "4",
                                    "targy": "1",
                                    "terem": "3"
                                },
                                {
                                    "ora_id": "167",
                                    "tanar": "2",
                                    "nap": "1",
                                    "Sav": "4",
                                    "targy": "1",
                                    "terem": "4"
                                },
                                {
                                    "ora_id": "168",
                                    "tanar": "4",
                                    "nap": "4",
                                    "Sav": "3",
                                    "targy": "1",
                                    "terem": "5"
                                },
                                {
                                    "ora_id": "169",
                                    "tanar": "20",
                                    "nap": "1",
                                    "Sav": "2",
                                    "targy": "1",
                                    "terem": "6"
                                },
                                {
                                    "ora_id": "170",
                                    "tanar": "104",
                                    "nap": "1",
                                    "Sav": "2",
                                    "targy": "1",
                                    "terem": "4"
                                },
                                {
                                    "ora_id": "171",
                                    "tanar": "14",
                                    "nap": "2",
                                    "Sav": "2",
                                    "targy": "1",
                                    "terem": "8"
                                },
                                {
                                    "ora_id": "172",
                                    "tanar": "7",
                                    "nap": "2",
                                    "Sav": "2",
                                    "targy": "1",
                                    "terem": "3"
                                },
                                {
                                    "ora_id": "173",
                                    "tanar": "20",
                                    "nap": "4",
                                    "Sav": "3",
                                    "targy": "1",
                                    "terem": "3"
                                },
                                {
                                    "ora_id": "174",
                                    "tanar": "104",
                                    "nap": "4",
                                    "Sav": "3",
                                    "targy": "1",
                                    "terem": "7"
                                },
                                {
                                    "ora_id": "175",
                                    "tanar": "14",
                                    "nap": "4",
                                    "Sav": "4",
                                    "targy": "1",
                                    "terem": "4"
                                },
                                {
                                    "ora_id": "176",
                                    "tanar": "20",
                                    "nap": "4",
                                    "Sav": "4",
                                    "targy": "1",
                                    "terem": "2"
                                },
                                {
                                    "ora_id": "177",
                                    "tanar": "2",
                                    "nap": "4",
                                    "Sav": "5",
                                    "targy": "1",
                                    "terem": "3"
                                },
                                {
                                    "ora_id": "178",
                                    "tanar": "111",
                                    "nap": "4",
                                    "Sav": "5",
                                    "targy": "1",
                                    "terem": "8"
                                },
                                {
                                    "ora_id": "179",
                                    "tanar": "2",
                                    "nap": "4",
                                    "Sav": "7",
                                    "targy": "1",
                                    "terem": "4"
                                },
                                {
                                    "ora_id": "180",
                                    "tanar": "111",
                                    "nap": "4",
                                    "Sav": "7",
                                    "targy": "1",
                                    "terem": "3"
                                },
                                {
                                    "ora_id": "181",
                                    "tanar": "2",
                                    "nap": "5",
                                    "Sav": "1",
                                    "targy": "1",
                                    "terem": "2"
                                },
                                {
                                    "ora_id": "182",
                                    "tanar": "111",
                                    "nap": "5",
                                    "Sav": "1",
                                    "targy": "1",
                                    "terem": "7"
                                },
                                {
                                    "ora_id": "183",
                                    "tanar": "2",
                                    "nap": "5",
                                    "Sav": "2",
                                    "targy": "1",
                                    "terem": "8"
                                },
                                {
                                    "ora_id": "184",
                                    "tanar": "111",
                                    "nap": "5",
                                    "Sav": "2",
                                    "targy": "1",
                                    "terem": "6"
                                },
                                {
                                    "ora_id": "185",
                                    "tanar": "2",
                                    "nap": "4",
                                    "Sav": "3",
                                    "targy": "1",
                                    "terem": "4"
                                },
                                {
                                    "ora_id": "186",
                                    "tanar": "18",
                                    "nap": "2",
                                    "Sav": "4",
                                    "targy": "16",
                                    "terem": "7"
                                },
                                {
                                    "ora_id": "187",
                                    "tanar": "5",
                                    "nap": "3",
                                    "Sav": "2",
                                    "targy": "2",
                                    "terem": "5"
                                },
                                {
                                    "ora_id": "188",
                                    "tanar": "9",
                                    "nap": "4",
                                    "Sav": "7",
                                    "targy": "2",
                                    "terem": "13"
                                },
                                {
                                    "ora_id": "189",
                                    "tanar": "9",
                                    "nap": "4",
                                    "Sav": "2",
                                    "targy": "2",
                                    "terem": "13"
                                },
                                {
                                    "ora_id": "190",
                                    "tanar": "9",
                                    "nap": "5",
                                    "Sav": "3",
                                    "targy": "2",
                                    "terem": "14"
                                },
                                {
                                    "ora_id": "191",
                                    "tanar": "12",
                                    "nap": "1",
                                    "Sav": "5",
                                    "targy": "5",
                                    "terem": "8"
                                },
                                {
                                    "ora_id": "192",
                                    "tanar": "12",
                                    "nap": "1",
                                    "Sav": "7",
                                    "targy": "5",
                                    "terem": "3"
                                },
                                {
                                    "ora_id": "193",
                                    "tanar": "9",
                                    "nap": "1",
                                    "Sav": "5",
                                    "targy": "5",
                                    "terem": "5"
                                },
                                {
                                    "ora_id": "194",
                                    "tanar": "9",
                                    "nap": "1",
                                    "Sav": "7",
                                    "targy": "5",
                                    "terem": "11"
                                },
                                {
                                    "ora_id": "195",
                                    "tanar": "5",
                                    "nap": "1",
                                    "Sav": "5",
                                    "targy": "5",
                                    "terem": "12"
                                },
                                {
                                    "ora_id": "196",
                                    "tanar": "5",
                                    "nap": "1",
                                    "Sav": "7",
                                    "targy": "5",
                                    "terem": "6"
                                },
                                {
                                    "ora_id": "197",
                                    "tanar": "9",
                                    "nap": "4",
                                    "Sav": "1",
                                    "targy": "5",
                                    "terem": "16"
                                },
                                {
                                    "ora_id": "198",
                                    "tanar": "9",
                                    "nap": "3",
                                    "Sav": "2",
                                    "targy": "5",
                                    "terem": "3"
                                },
                                {
                                    "ora_id": "199",
                                    "tanar": "300",
                                    "nap": "4",
                                    "Sav": "1",
                                    "targy": "5",
                                    "terem": "6"
                                },
                                {
                                    "ora_id": "200",
                                    "tanar": "300",
                                    "nap": "4",
                                    "Sav": "2",
                                    "targy": "5",
                                    "terem": "8"
                                },
                                {
                                    "ora_id": "201",
                                    "tanar": "301",
                                    "nap": "4",
                                    "Sav": "4",
                                    "targy": "17",
                                    "terem": "14"
                                },
                                {
                                    "ora_id": "202",
                                    "tanar": "301",
                                    "nap": "4",
                                    "Sav": "5",
                                    "targy": "17",
                                    "terem": "15"
                                },
                                {
                                    "ora_id": "203",
                                    "tanar": "200",
                                    "nap": "1",
                                    "Sav": "4",
                                    "targy": "4",
                                    "terem": "10"
                                },
                                {
                                    "ora_id": "204",
                                    "tanar": "108",
                                    "nap": "2",
                                    "Sav": "5",
                                    "targy": "4",
                                    "terem": "4"
                                },
                                {
                                    "ora_id": "205",
                                    "tanar": "4",
                                    "nap": "1",
                                    "Sav": "4",
                                    "targy": "18",
                                    "terem": "8"
                                },
                                {
                                    "ora_id": "206",
                                    "tanar": "12",
                                    "nap": "2",
                                    "Sav": "1",
                                    "targy": "18",
                                    "terem": "10"
                                },
                                {
                                    "ora_id": "207",
                                    "tanar": "12",
                                    "nap": "4",
                                    "Sav": "4",
                                    "targy": "18",
                                    "terem": "7"
                                },
                                {
                                    "ora_id": "208",
                                    "tanar": "10",
                                    "nap": "1",
                                    "Sav": "1",
                                    "targy": "13",
                                    "terem": "13"
                                },
                                {
                                    "ora_id": "209",
                                    "tanar": "10",
                                    "nap": "1",
                                    "Sav": "2",
                                    "targy": "13",
                                    "terem": "13"
                                },
                                {
                                    "ora_id": "210",
                                    "tanar": "6",
                                    "nap": "1",
                                    "Sav": "7",
                                    "targy": "8",
                                    "terem": "14"
                                },
                                {
                                    "ora_id": "211",
                                    "tanar": "6",
                                    "nap": "1",
                                    "Sav": "8",
                                    "targy": "8",
                                    "terem": "5"
                                },
                                {
                                    "ora_id": "212",
                                    "tanar": "7",
                                    "nap": "1",
                                    "Sav": "9",
                                    "targy": "8",
                                    "terem": "4"
                                },
                                {
                                    "ora_id": "213",
                                    "tanar": "7",
                                    "nap": "1",
                                    "Sav": "10",
                                    "targy": "8",
                                    "terem": "6"
                                },
                                {
                                    "ora_id": "214",
                                    "tanar": "8",
                                    "nap": "1",
                                    "Sav": "3",
                                    "targy": "3",
                                    "terem": "7"
                                },
                                {
                                    "ora_id": "215",
                                    "tanar": "8",
                                    "nap": "1",
                                    "Sav": "4",
                                    "targy": "3",
                                    "terem": "9"
                                },
                                {
                                    "ora_id": "216",
                                    "tanar": "6",
                                    "nap": "1",
                                    "Sav": "3",
                                    "targy": "3",
                                    "terem": "6"
                                },
                                {
                                    "ora_id": "217",
                                    "tanar": "6",
                                    "nap": "1",
                                    "Sav": "4",
                                    "targy": "3",
                                    "terem": "5"
                                },
                                {
                                    "ora_id": "218",
                                    "tanar": "8",
                                    "nap": "2",
                                    "Sav": "7",
                                    "targy": "3",
                                    "terem": "2"
                                },
                                {
                                    "ora_id": "219",
                                    "tanar": "8",
                                    "nap": "2",
                                    "Sav": "8",
                                    "targy": "3",
                                    "terem": "7"
                                },
                                {
                                    "ora_id": "220",
                                    "tanar": "1",
                                    "nap": "2",
                                    "Sav": "3",
                                    "targy": "10",
                                    "terem": "3"
                                },
                                {
                                    "ora_id": "221",
                                    "tanar": "1",
                                    "nap": "3",
                                    "Sav": "3",
                                    "targy": "10",
                                    "terem": "13"
                                },
                                {
                                    "ora_id": "222",
                                    "tanar": "1",
                                    "nap": "4",
                                    "Sav": "5",
                                    "targy": "10",
                                    "terem": "12"
                                },
                                {
                                    "ora_id": "223",
                                    "tanar": "1",
                                    "nap": "5",
                                    "Sav": "1",
                                    "targy": "10",
                                    "terem": "10"
                                },
                                {
                                    "ora_id": "226",
                                    "tanar": "2",
                                    "nap": "3",
                                    "Sav": "3",
                                    "targy": "19",
                                    "terem": "1"
                                },
                                {
                                    "ora_id": "227",
                                    "tanar": "2",
                                    "nap": "2",
                                    "Sav": "5",
                                    "targy": "4",
                                    "terem": "12"
                                }
                            ]
                        },
                        "text/html": [
                            "<table>",
                            "<tr><th>ora_id</th><th>tanar</th><th>nap</th><th>Sav</th><th>targy</th><th>terem</th></tr>",
                            "<tr><td>159</td><td>4</td><td>3</td><td>1</td><td>1</td><td>1</td></tr>",
                            "<tr><td>160</td><td>8</td><td>2</td><td>5</td><td>1</td><td>2</td></tr>",
                            "<tr><td>161</td><td>8</td><td>1</td><td>2</td><td>1</td><td>2</td></tr>",
                            "<tr><td>162</td><td>20</td><td>1</td><td>4</td><td>1</td><td>3</td></tr>",
                            "<tr><td>163</td><td>3</td><td>3</td><td>2</td><td>1</td><td>4</td></tr>",
                            "<tr><td>164</td><td>7</td><td>2</td><td>3</td><td>1</td><td>3</td></tr>",
                            "<tr><td>165</td><td>3</td><td>2</td><td>3</td><td>1</td><td>3</td></tr>",
                            "<tr><td>166</td><td>3</td><td>2</td><td>4</td><td>1</td><td>3</td></tr>",
                            "<tr><td>167</td><td>2</td><td>1</td><td>4</td><td>1</td><td>4</td></tr>",
                            "<tr><td>168</td><td>4</td><td>4</td><td>3</td><td>1</td><td>5</td></tr>",
                            "<tr><td>169</td><td>20</td><td>1</td><td>2</td><td>1</td><td>6</td></tr>",
                            "<tr><td>170</td><td>104</td><td>1</td><td>2</td><td>1</td><td>4</td></tr>",
                            "<tr><td>171</td><td>14</td><td>2</td><td>2</td><td>1</td><td>8</td></tr>",
                            "<tr><td>172</td><td>7</td><td>2</td><td>2</td><td>1</td><td>3</td></tr>",
                            "<tr><td>173</td><td>20</td><td>4</td><td>3</td><td>1</td><td>3</td></tr>",
                            "<tr><td>174</td><td>104</td><td>4</td><td>3</td><td>1</td><td>7</td></tr>",
                            "<tr><td>175</td><td>14</td><td>4</td><td>4</td><td>1</td><td>4</td></tr>",
                            "<tr><td>176</td><td>20</td><td>4</td><td>4</td><td>1</td><td>2</td></tr>",
                            "<tr><td>177</td><td>2</td><td>4</td><td>5</td><td>1</td><td>3</td></tr>",
                            "<tr><td>178</td><td>111</td><td>4</td><td>5</td><td>1</td><td>8</td></tr>",
                            "<tr><td>179</td><td>2</td><td>4</td><td>7</td><td>1</td><td>4</td></tr>",
                            "<tr><td>180</td><td>111</td><td>4</td><td>7</td><td>1</td><td>3</td></tr>",
                            "<tr><td>181</td><td>2</td><td>5</td><td>1</td><td>1</td><td>2</td></tr>",
                            "<tr><td>182</td><td>111</td><td>5</td><td>1</td><td>1</td><td>7</td></tr>",
                            "<tr><td>183</td><td>2</td><td>5</td><td>2</td><td>1</td><td>8</td></tr>",
                            "<tr><td>184</td><td>111</td><td>5</td><td>2</td><td>1</td><td>6</td></tr>",
                            "<tr><td>185</td><td>2</td><td>4</td><td>3</td><td>1</td><td>4</td></tr>",
                            "<tr><td>186</td><td>18</td><td>2</td><td>4</td><td>16</td><td>7</td></tr>",
                            "<tr><td>187</td><td>5</td><td>3</td><td>2</td><td>2</td><td>5</td></tr>",
                            "<tr><td>188</td><td>9</td><td>4</td><td>7</td><td>2</td><td>13</td></tr>",
                            "<tr><td>189</td><td>9</td><td>4</td><td>2</td><td>2</td><td>13</td></tr>",
                            "<tr><td>190</td><td>9</td><td>5</td><td>3</td><td>2</td><td>14</td></tr>",
                            "<tr><td>191</td><td>12</td><td>1</td><td>5</td><td>5</td><td>8</td></tr>",
                            "<tr><td>192</td><td>12</td><td>1</td><td>7</td><td>5</td><td>3</td></tr>",
                            "<tr><td>193</td><td>9</td><td>1</td><td>5</td><td>5</td><td>5</td></tr>",
                            "<tr><td>194</td><td>9</td><td>1</td><td>7</td><td>5</td><td>11</td></tr>",
                            "<tr><td>195</td><td>5</td><td>1</td><td>5</td><td>5</td><td>12</td></tr>",
                            "<tr><td>196</td><td>5</td><td>1</td><td>7</td><td>5</td><td>6</td></tr>",
                            "<tr><td>197</td><td>9</td><td>4</td><td>1</td><td>5</td><td>16</td></tr>",
                            "<tr><td>198</td><td>9</td><td>3</td><td>2</td><td>5</td><td>3</td></tr>",
                            "<tr><td>199</td><td>300</td><td>4</td><td>1</td><td>5</td><td>6</td></tr>",
                            "<tr><td>200</td><td>300</td><td>4</td><td>2</td><td>5</td><td>8</td></tr>",
                            "<tr><td>201</td><td>301</td><td>4</td><td>4</td><td>17</td><td>14</td></tr>",
                            "<tr><td>202</td><td>301</td><td>4</td><td>5</td><td>17</td><td>15</td></tr>",
                            "<tr><td>203</td><td>200</td><td>1</td><td>4</td><td>4</td><td>10</td></tr>",
                            "<tr><td>204</td><td>108</td><td>2</td><td>5</td><td>4</td><td>4</td></tr>",
                            "<tr><td>205</td><td>4</td><td>1</td><td>4</td><td>18</td><td>8</td></tr>",
                            "<tr><td>206</td><td>12</td><td>2</td><td>1</td><td>18</td><td>10</td></tr>",
                            "<tr><td>207</td><td>12</td><td>4</td><td>4</td><td>18</td><td>7</td></tr>",
                            "<tr><td>208</td><td>10</td><td>1</td><td>1</td><td>13</td><td>13</td></tr>",
                            "<tr><td>209</td><td>10</td><td>1</td><td>2</td><td>13</td><td>13</td></tr>",
                            "<tr><td>210</td><td>6</td><td>1</td><td>7</td><td>8</td><td>14</td></tr>",
                            "<tr><td>211</td><td>6</td><td>1</td><td>8</td><td>8</td><td>5</td></tr>",
                            "<tr><td>212</td><td>7</td><td>1</td><td>9</td><td>8</td><td>4</td></tr>",
                            "<tr><td>213</td><td>7</td><td>1</td><td>10</td><td>8</td><td>6</td></tr>",
                            "<tr><td>214</td><td>8</td><td>1</td><td>3</td><td>3</td><td>7</td></tr>",
                            "<tr><td>215</td><td>8</td><td>1</td><td>4</td><td>3</td><td>9</td></tr>",
                            "<tr><td>216</td><td>6</td><td>1</td><td>3</td><td>3</td><td>6</td></tr>",
                            "<tr><td>217</td><td>6</td><td>1</td><td>4</td><td>3</td><td>5</td></tr>",
                            "<tr><td>218</td><td>8</td><td>2</td><td>7</td><td>3</td><td>2</td></tr>",
                            "<tr><td>219</td><td>8</td><td>2</td><td>8</td><td>3</td><td>7</td></tr>",
                            "<tr><td>220</td><td>1</td><td>2</td><td>3</td><td>10</td><td>3</td></tr>",
                            "<tr><td>221</td><td>1</td><td>3</td><td>3</td><td>10</td><td>13</td></tr>",
                            "<tr><td>222</td><td>1</td><td>4</td><td>5</td><td>10</td><td>12</td></tr>",
                            "<tr><td>223</td><td>1</td><td>5</td><td>1</td><td>10</td><td>10</td></tr>",
                            "<tr><td>226</td><td>2</td><td>3</td><td>3</td><td>19</td><td>1</td></tr>",
                            "<tr><td>227</td><td>2</td><td>2</td><td>5</td><td>4</td><td>12</td></tr>",
                            "</table>"
                        ]
                    }
                }
            ],
            "execution_count": 18
        },
        {
            "cell_type": "markdown",
            "source": [
                "**A 6-10 feladatokat halmazműveletek segítségével oldjuk meg, szintén a tanulmányi adatbázison**\n",
                "\n",
                "6. <span style=\"background-color:rgb(255, 255, 255);color:rgb(36, 41, 47);font-family:-apple-system, BlinkMacSystemFont, &quot;Segoe UI&quot;, Helvetica, Arial, sans-serif, &quot;Apple Color Emoji&quot;, &quot;Segoe UI Emoji&quot;;font-size:16px;font-weight:600;\">Jelenítsük meg azon tanárok azonosítóját és nevét, akik hétfői vagy keddi napokon tanítanak!</span>"
            ],
            "metadata": {
                "azdata_cell_guid": "5fe65c1c-2479-45ac-ad03-ec99d12eae21"
            },
            "attachments": {}
        },
        {
            "cell_type": "code",
            "source": [
                ""
            ],
            "metadata": {
                "azdata_cell_guid": "924f2dde-f1c2-4def-a7f9-dbf4bace7735",
                "language": "sql"
            },
            "outputs": [],
            "execution_count": null
        },
        {
            "cell_type": "markdown",
            "source": [
                "7. <span style=\"background-color: rgb(255, 255, 255); color: rgb(36, 41, 47); font-family: -apple-system, BlinkMacSystemFont, &quot;Segoe UI&quot;, Helvetica, Arial, sans-serif, &quot;Apple Color Emoji&quot;, &quot;Segoe UI Emoji&quot;; font-size: 16px; font-weight: 600;\">Melyek azok a tantárgyak, amelyek esetén van óra a 8.00-kor kezdődő sávban, de nincs a 12.30-kor kezdődő sávban?</span>"
            ],
            "metadata": {
                "azdata_cell_guid": "3aeb6bf5-b111-40d5-92b2-9712ce335696"
            },
            "attachments": {}
        },
        {
            "cell_type": "code",
            "source": [
                ""
            ],
            "metadata": {
                "azdata_cell_guid": "3e89b651-f56f-4102-af52-30eb2bbe360d",
                "language": "sql"
            },
            "outputs": [],
            "execution_count": null
        },
        {
            "cell_type": "markdown",
            "source": [
                "8. <span style=\"background-color: rgb(255, 255, 255); color: rgb(36, 41, 47); font-family: -apple-system, BlinkMacSystemFont, &quot;Segoe UI&quot;, Helvetica, Arial, sans-serif, &quot;Apple Color Emoji&quot;, &quot;Segoe UI Emoji&quot;; font-size: 16px; font-weight: 600;\">Listázzuk azokat a termeket, amelyekben oktat Kovács László és van olyan tanóra a teremben, ahol a tantárgy nevében nem szerepel az 'ürge' szó!</span>"
            ],
            "metadata": {
                "azdata_cell_guid": "26a504dc-ff6a-439f-94c0-4580eca3eacf"
            },
            "attachments": {}
        },
        {
            "cell_type": "code",
            "source": [
                ""
            ],
            "metadata": {
                "azdata_cell_guid": "1cbb8aeb-78b5-4350-aa45-e3202fdab85b",
                "language": "sql"
            },
            "outputs": [],
            "execution_count": null
        },
        {
            "cell_type": "markdown",
            "source": [
                "9. <span style=\"font-weight: 600; color: rgb(36, 41, 47); font-family: -apple-system, BlinkMacSystemFont, &quot;Segoe UI&quot;, Helvetica, Arial, sans-serif, &quot;Apple Color Emoji&quot;, &quot;Segoe UI Emoji&quot;; font-size: 16px;\">Készítsünk listát arról, hogy melyik tanárnak hány órája van a (munka) hét elején (hétfőn), hét közben (kedd, szerda és csütörtök), illetve a hét végén (péntek)!</span>\n",
                "\n",
                "1. Jelenítsük meg a tanár azonosítóját, nevét, az időszakot (hét eleje - hét közben - hét vége), valamint az óraszámot!\n",
                "2. A három megjelölt időszakot külön kérdezzük le, majd fűzzük össze a lekérdezések eredményeit!\n",
                "3. Rendezzük a listát az oktató neve, azon belül időszak szerint!"
            ],
            "metadata": {
                "azdata_cell_guid": "435e2860-2dd5-4877-90f4-34a43baeb53c"
            },
            "attachments": {}
        },
        {
            "cell_type": "code",
            "source": [
                ""
            ],
            "metadata": {
                "azdata_cell_guid": "ce846351-ddbe-4d8e-b8fb-2a92c73ac80b",
                "language": "sql"
            },
            "outputs": [],
            "execution_count": null
        },
        {
            "cell_type": "markdown",
            "source": [
                "10. <span style=\"background-color: rgb(255, 255, 255); color: rgb(36, 41, 47); font-family: -apple-system, BlinkMacSystemFont, &quot;Segoe UI&quot;, Helvetica, Arial, sans-serif, &quot;Apple Color Emoji&quot;, &quot;Segoe UI Emoji&quot;; font-size: 16px; font-weight: 600;\">Melyik napokon nincs órája Pelikán Józsefnek?</span>"
            ],
            "metadata": {
                "azdata_cell_guid": "217c5772-afe2-4a7c-b913-e3a3e09d6411"
            },
            "attachments": {}
        },
        {
            "cell_type": "code",
            "source": [
                ""
            ],
            "metadata": {
                "azdata_cell_guid": "a9cc0926-3dbd-4ed8-8179-1c39d64a0762",
                "language": "sql"
            },
            "outputs": [],
            "execution_count": null
        },
        {
            "cell_type": "markdown",
            "source": [
                "**A 11-15 feladatok gyakorlásra szolgálnak a közelgő zh-ra :-)**\n",
                "\n",
                "11. _Készítsünk listát az oktatók adatairól!_\n",
                "\n",
                "1. Az oktatók titulusa és neve összefűzve jelenjen meg, közöttük szóközzel!\n",
                "2. Ha valakinek nincs titulusa, akkor csak a neve jelenjen meg, szóköz nélkül!\n",
                "3. A listát rendezzük a beosztás kódja, azon belül a státusz kódja szerint növekvő sorrendbe!\n",
                "4. Az oszlopokat nevezzük el értelemszerűen!"
            ],
            "metadata": {
                "azdata_cell_guid": "d2340f5f-1614-473c-b937-85740d67f7c1"
            },
            "attachments": {}
        },
        {
            "cell_type": "code",
            "source": [
                ""
            ],
            "metadata": {
                "azdata_cell_guid": "e99c2c53-898f-4787-b0e6-182d106dc16f",
                "language": "sql"
            },
            "outputs": [],
            "execution_count": null
        },
        {
            "cell_type": "markdown",
            "source": [
                "<span style=\"color: #09885a;\">12</span>. Készítsünk listát, amely megmutatja, hogy összesen hány tantárgy van kreditenkénti csoportosításban!\n",
                "\n",
                "  \n",
                "\n",
                "A listából hagyjuk ki azokat a tételeket, ahol ez a darabszám <span style=\"color: #09885a;\">1</span>!\n",
                "\n",
                "A Folyami gáttan tantárgyat ne vegyük figyelembe!\n",
                "\n",
                "A listát rendezzük darabszám szerint csökkenő sorrendbe!\n",
                "\n",
                "Az oszlopokat nevezzük el értelemszerűen!"
            ],
            "metadata": {
                "azdata_cell_guid": "a765e9d6-58b3-4171-872a-78f3118fd6e3"
            },
            "attachments": {}
        },
        {
            "cell_type": "code",
            "source": [
                ""
            ],
            "metadata": {
                "azdata_cell_guid": "422e8127-b652-4d3a-bfd7-9b1637b5781e",
                "language": "sql"
            },
            "outputs": [],
            "execution_count": null
        },
        {
            "cell_type": "markdown",
            "source": [
                "13. _Készítsünk listát az oktatók nevéről, a beosztásuk alapján elvárt és a tényleges óraszámukról!_\n",
                "\n",
                "1. Az oszlopok neve legyen 'Oktató neve', 'Elvárt óraszám' és 'Tényleges óraszám'\n",
                "2. Szűrjük a listát azokra az oktatókra, ahol az elvárt és a tényleges óraszám azonos"
            ],
            "metadata": {
                "azdata_cell_guid": "3f9237ae-f109-401c-acb9-31d75e73331b"
            },
            "attachments": {}
        },
        {
            "cell_type": "code",
            "source": [
                ""
            ],
            "metadata": {
                "azdata_cell_guid": "4b31bb89-cfbc-46b1-8639-85c462877786",
                "language": "sql"
            },
            "outputs": [],
            "execution_count": null
        },
        {
            "cell_type": "markdown",
            "source": [
                "14. _Készítsünk listát, amely megmutatja, hogy mely tantárgyból nincs óra egyáltalán!_\n",
                "\n",
                "1. Csak a tantárgy neve jelenjen meg!"
            ],
            "metadata": {
                "azdata_cell_guid": "f634e09a-85ef-4e70-8ec6-ef355dfddaa7"
            },
            "attachments": {}
        },
        {
            "cell_type": "code",
            "source": [
                ""
            ],
            "metadata": {
                "azdata_cell_guid": "88abc55b-2c78-495b-a72f-3f8f4eb5fe70",
                "language": "sql"
            },
            "outputs": [],
            "execution_count": null
        },
        {
            "cell_type": "markdown",
            "source": [
                "15. _Hány órájuk van az óraadóknak napi bontásban?_\n",
                "\n",
                "1. Csak a napok nevét és az óraszámot jelenítsük meg!\n",
                "2. Rendezzük a listát óraszám szerint növekvő sorrendbe!"
            ],
            "metadata": {
                "azdata_cell_guid": "4cbf2f0d-a65d-480a-8186-ccdb24498443"
            },
            "attachments": {}
        },
        {
            "cell_type": "code",
            "source": [
                ""
            ],
            "metadata": {
                "azdata_cell_guid": "c148aee8-bc85-40bf-b80a-a4898a6c05cb",
                "language": "sql"
            },
            "outputs": [],
            "execution_count": null
        }
    ]
}