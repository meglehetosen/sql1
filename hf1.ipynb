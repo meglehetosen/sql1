{
    "metadata": {
        "kernelspec": {
            "name": "SQL",
            "display_name": "SQL",
            "language": "sql"
        },
        "language_info": {
            "name": "sql",
            "version": ""
        }
    },
    "nbformat_minor": 2,
    "nbformat": 4,
    "cells": [
        {
            "cell_type": "code",
            "source": [
                "SELECT TOP 10\r\n",
                "    terem AS 'Termek', \r\n",
                "    COUNT(*) 'Terem megjelenések száma'\r\n",
                "from orak\r\n",
                "WHERE terem IS NOT null\r\n",
                "GROUP BY terem\r\n",
                "ORDER BY COUNT(*) desc \r\n",
                "\r\n",
                "\r\n",
                "SELECT TOP 10\r\n",
                "    targy AS 'Tárgyak', \r\n",
                "    COUNT(*) 'Tárgy megjelenések száma'\r\n",
                "from orak\r\n",
                "WHERE targy IS NOT null\r\n",
                "GROUP BY targy\r\n",
                "ORDER BY COUNT(*) desc \r\n",
                "\r\n",
                "\r\n",
                "SELECT TOP 10\r\n",
                "    tanar AS 'Tanárok', \r\n",
                "    COUNT(*) 'Tanár megjelenések száma'\r\n",
                "from orak\r\n",
                "WHERE tanar IS NOT null\r\n",
                "GROUP BY tanar\r\n",
                "ORDER BY COUNT(*) desc "
            ],
            "metadata": {
                "azdata_cell_guid": "ef8d812d-6eec-49b0-9665-35335355b13b",
                "language": "sql"
            },
            "outputs": [
                {
                    "output_type": "display_data",
                    "data": {
                        "text/html": "(10 rows affected)"
                    },
                    "metadata": {}
                },
                {
                    "output_type": "display_data",
                    "data": {
                        "text/html": "(10 rows affected)"
                    },
                    "metadata": {}
                },
                {
                    "output_type": "display_data",
                    "data": {
                        "text/html": "(10 rows affected)"
                    },
                    "metadata": {}
                },
                {
                    "output_type": "display_data",
                    "data": {
                        "text/html": "Total execution time: 00:00:00.023"
                    },
                    "metadata": {}
                },
                {
                    "output_type": "execute_result",
                    "metadata": {
                        "azdata_chartOptions": {
                            "type": "bar",
                            "dataDirection": "horizontal",
                            "columnsAsLabels": true,
                            "labelFirstColumn": true,
                            "legendPosition": "none",
                            "encoding": "hex",
                            "imageFormat": "jpeg"
                        }
                    },
                    "execution_count": 21,
                    "data": {
                        "application/vnd.dataresource+json": {
                            "schema": {
                                "fields": [
                                    {
                                        "name": "Termek"
                                    },
                                    {
                                        "name": "Terem megjelenések száma"
                                    }
                                ]
                            },
                            "data": [
                                {
                                    "Termek": "3",
                                    "Terem megjelenések száma": "11"
                                },
                                {
                                    "Termek": "4",
                                    "Terem megjelenések száma": "8"
                                },
                                {
                                    "Termek": "8",
                                    "Terem megjelenések száma": "6"
                                },
                                {
                                    "Termek": "7",
                                    "Terem megjelenések száma": "6"
                                },
                                {
                                    "Termek": "6",
                                    "Terem megjelenések száma": "6"
                                },
                                {
                                    "Termek": "5",
                                    "Terem megjelenések száma": "5"
                                },
                                {
                                    "Termek": "2",
                                    "Terem megjelenések száma": "5"
                                },
                                {
                                    "Termek": "13",
                                    "Terem megjelenések száma": "5"
                                },
                                {
                                    "Termek": "10",
                                    "Terem megjelenések száma": "3"
                                },
                                {
                                    "Termek": "12",
                                    "Terem megjelenések száma": "3"
                                }
                            ]
                        },
                        "text/html": [
                            "<table>",
                            "<tr><th>Termek</th><th>Terem megjelenések száma</th></tr>",
                            "<tr><td>3</td><td>11</td></tr>",
                            "<tr><td>4</td><td>8</td></tr>",
                            "<tr><td>8</td><td>6</td></tr>",
                            "<tr><td>7</td><td>6</td></tr>",
                            "<tr><td>6</td><td>6</td></tr>",
                            "<tr><td>5</td><td>5</td></tr>",
                            "<tr><td>2</td><td>5</td></tr>",
                            "<tr><td>13</td><td>5</td></tr>",
                            "<tr><td>10</td><td>3</td></tr>",
                            "<tr><td>12</td><td>3</td></tr>",
                            "</table>"
                        ]
                    }
                },
                {
                    "output_type": "execute_result",
                    "metadata": {
                        "azdata_chartOptions": {
                            "type": "bar",
                            "dataDirection": "horizontal",
                            "columnsAsLabels": true,
                            "labelFirstColumn": true,
                            "legendPosition": "top"
                        }
                    },
                    "execution_count": 21,
                    "data": {
                        "application/vnd.dataresource+json": {
                            "schema": {
                                "fields": [
                                    {
                                        "name": "Tárgyak"
                                    },
                                    {
                                        "name": "Tárgy megjelenések száma"
                                    }
                                ]
                            },
                            "data": [
                                {
                                    "Tárgyak": "1",
                                    "Tárgy megjelenések száma": "27"
                                },
                                {
                                    "Tárgyak": "5",
                                    "Tárgy megjelenések száma": "10"
                                },
                                {
                                    "Tárgyak": "3",
                                    "Tárgy megjelenések száma": "6"
                                },
                                {
                                    "Tárgyak": "10",
                                    "Tárgy megjelenések száma": "4"
                                },
                                {
                                    "Tárgyak": "8",
                                    "Tárgy megjelenések száma": "4"
                                },
                                {
                                    "Tárgyak": "2",
                                    "Tárgy megjelenések száma": "4"
                                },
                                {
                                    "Tárgyak": "18",
                                    "Tárgy megjelenések száma": "3"
                                },
                                {
                                    "Tárgyak": "4",
                                    "Tárgy megjelenések száma": "3"
                                },
                                {
                                    "Tárgyak": "13",
                                    "Tárgy megjelenések száma": "2"
                                },
                                {
                                    "Tárgyak": "17",
                                    "Tárgy megjelenések száma": "2"
                                }
                            ]
                        },
                        "text/html": [
                            "<table>",
                            "<tr><th>Tárgyak</th><th>Tárgy megjelenések száma</th></tr>",
                            "<tr><td>1</td><td>27</td></tr>",
                            "<tr><td>5</td><td>10</td></tr>",
                            "<tr><td>3</td><td>6</td></tr>",
                            "<tr><td>10</td><td>4</td></tr>",
                            "<tr><td>8</td><td>4</td></tr>",
                            "<tr><td>2</td><td>4</td></tr>",
                            "<tr><td>18</td><td>3</td></tr>",
                            "<tr><td>4</td><td>3</td></tr>",
                            "<tr><td>13</td><td>2</td></tr>",
                            "<tr><td>17</td><td>2</td></tr>",
                            "</table>"
                        ]
                    }
                },
                {
                    "output_type": "execute_result",
                    "metadata": {
                        "azdata_chartOptions": {
                            "type": "bar",
                            "dataDirection": "horizontal",
                            "columnsAsLabels": true,
                            "labelFirstColumn": true,
                            "legendPosition": "top"
                        }
                    },
                    "execution_count": 21,
                    "data": {
                        "application/vnd.dataresource+json": {
                            "schema": {
                                "fields": [
                                    {
                                        "name": "Tanárok"
                                    },
                                    {
                                        "name": "Tanár megjelenések száma"
                                    }
                                ]
                            },
                            "data": [
                                {
                                    "Tanárok": "2",
                                    "Tanár megjelenések száma": "8"
                                },
                                {
                                    "Tanárok": "9",
                                    "Tanár megjelenések száma": "7"
                                },
                                {
                                    "Tanárok": "8",
                                    "Tanár megjelenések száma": "6"
                                },
                                {
                                    "Tanárok": "1",
                                    "Tanár megjelenések száma": "4"
                                },
                                {
                                    "Tanárok": "12",
                                    "Tanár megjelenések száma": "4"
                                },
                                {
                                    "Tanárok": "7",
                                    "Tanár megjelenések száma": "4"
                                },
                                {
                                    "Tanárok": "6",
                                    "Tanár megjelenések száma": "4"
                                },
                                {
                                    "Tanárok": "20",
                                    "Tanár megjelenések száma": "4"
                                },
                                {
                                    "Tanárok": "111",
                                    "Tanár megjelenések száma": "4"
                                },
                                {
                                    "Tanárok": "5",
                                    "Tanár megjelenések száma": "3"
                                }
                            ]
                        },
                        "text/html": [
                            "<table>",
                            "<tr><th>Tanárok</th><th>Tanár megjelenések száma</th></tr>",
                            "<tr><td>2</td><td>8</td></tr>",
                            "<tr><td>9</td><td>7</td></tr>",
                            "<tr><td>8</td><td>6</td></tr>",
                            "<tr><td>1</td><td>4</td></tr>",
                            "<tr><td>12</td><td>4</td></tr>",
                            "<tr><td>7</td><td>4</td></tr>",
                            "<tr><td>6</td><td>4</td></tr>",
                            "<tr><td>20</td><td>4</td></tr>",
                            "<tr><td>111</td><td>4</td></tr>",
                            "<tr><td>5</td><td>3</td></tr>",
                            "</table>"
                        ]
                    }
                }
            ],
            "execution_count": 21
        },
        {
            "cell_type": "code",
            "source": [
                "SELECT AVG(NULLIF(nap, NULL)) AS 'Napok átlaga',\r\n",
                "       AVG(NULLIF(Sav, NULL)) AS 'Sávok átlaga',\r\n",
                "       AVG(NULLIF(ora_id, NULL)) AS 'ID-k átlaga'\r\n",
                "FROM orak"
            ],
            "metadata": {
                "azdata_cell_guid": "ffe520d4-bb43-4cfe-beaf-a81d2d0bca9b",
                "language": "sql"
            },
            "outputs": [
                {
                    "output_type": "display_data",
                    "data": {
                        "text/html": "(1 row affected)"
                    },
                    "metadata": {}
                },
                {
                    "output_type": "display_data",
                    "data": {
                        "text/html": "Total execution time: 00:00:00.015"
                    },
                    "metadata": {}
                },
                {
                    "output_type": "execute_result",
                    "metadata": {
                        "azdata_chartOptions": {
                            "type": "pie",
                            "dataDirection": "horizontal",
                            "columnsAsLabels": true,
                            "labelFirstColumn": false,
                            "legendPosition": "top"
                        }
                    },
                    "execution_count": 16,
                    "data": {
                        "application/vnd.dataresource+json": {
                            "schema": {
                                "fields": [
                                    {
                                        "name": "Napok átlaga"
                                    },
                                    {
                                        "name": "Sávok átlaga"
                                    },
                                    {
                                        "name": "ID-k átlaga"
                                    }
                                ]
                            },
                            "data": [
                                {
                                    "Napok átlaga": "2",
                                    "Sávok átlaga": "3",
                                    "ID-k átlaga": "192"
                                }
                            ]
                        },
                        "text/html": [
                            "<table>",
                            "<tr><th>Napok átlaga</th><th>Sávok átlaga</th><th>ID-k átlaga</th></tr>",
                            "<tr><td>2</td><td>3</td><td>192</td></tr>",
                            "</table>"
                        ]
                    }
                }
            ],
            "execution_count": 16
        },
        {
            "cell_type": "code",
            "source": [
                "SELECT VAR(NULLIF(sav, NULL)) AS 'Sávok szórása',\r\n",
                "       VAR(NULLIF(terem, NULL)) AS 'Termek szórása',\r\n",
                "       VAR(NULLIF(tanar, NULL)) AS 'Tanárok szórása'\r\n",
                "FROM orak"
            ],
            "metadata": {
                "azdata_cell_guid": "f8386900-9462-49c3-a54a-3f22b4c8b072",
                "language": "sql"
            },
            "outputs": [
                {
                    "output_type": "display_data",
                    "data": {
                        "text/html": "(1 row affected)"
                    },
                    "metadata": {}
                },
                {
                    "output_type": "display_data",
                    "data": {
                        "text/html": "Total execution time: 00:00:00.009"
                    },
                    "metadata": {}
                },
                {
                    "output_type": "execute_result",
                    "metadata": {
                        "azdata_chartOptions": {
                            "type": "horizontalBar",
                            "dataDirection": "horizontal",
                            "columnsAsLabels": true,
                            "labelFirstColumn": false,
                            "legendPosition": "none"
                        }
                    },
                    "execution_count": 14,
                    "data": {
                        "application/vnd.dataresource+json": {
                            "schema": {
                                "fields": [
                                    {
                                        "name": "Sávok szórása"
                                    },
                                    {
                                        "name": "Termek szórása"
                                    },
                                    {
                                        "name": "Tanárok szórása"
                                    }
                                ]
                            },
                            "data": [
                                {
                                    "Sávok szórása": "4.693803708729082",
                                    "Termek szórása": "16.16191768430574",
                                    "Tanárok szórása": "5899.794663048394"
                                }
                            ]
                        },
                        "text/html": [
                            "<table>",
                            "<tr><th>Sávok szórása</th><th>Termek szórása</th><th>Tanárok szórása</th></tr>",
                            "<tr><td>4.693803708729082</td><td>16.16191768430574</td><td>5899.794663048394</td></tr>",
                            "</table>"
                        ]
                    }
                }
            ],
            "execution_count": 14
        }
    ]
}